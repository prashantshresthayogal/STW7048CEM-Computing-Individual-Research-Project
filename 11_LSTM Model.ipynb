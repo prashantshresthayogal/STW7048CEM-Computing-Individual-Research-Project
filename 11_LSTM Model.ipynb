{
 "cells": [
  {
   "cell_type": "code",
   "execution_count": 1,
   "metadata": {
    "colab": {},
    "colab_type": "code",
    "id": "7OgnAuJpjEPQ"
   },
   "outputs": [],
   "source": [
    "import pandas as pd\n",
    "import numpy as np\n",
    "import re\n",
    "import datetime\n",
    "import seaborn as sns\n",
    "from matplotlib import pyplot as plt\n"
   ]
  },
  {
   "cell_type": "code",
   "execution_count": 2,
   "metadata": {
    "colab": {},
    "colab_type": "code",
    "id": "kua5IBPcjEPY"
   },
   "outputs": [],
   "source": [
    "DIR_ = \"D:/Drive/OneDrive/Documents/MIMIC\"\n",
    "DIR = \"D:/Workspace/MIMIC_DATA/mimic-iii-clinical-database-1.4/\""
   ]
  },
  {
   "cell_type": "code",
   "execution_count": 3,
   "metadata": {
    "colab": {},
    "colab_type": "code",
    "id": "mUya8neejEPe"
   },
   "outputs": [],
   "source": [
    "adm_notes = pd.read_csv(DIR + \"readmission.csv\", low_memory=False)"
   ]
  },
  {
   "cell_type": "code",
   "execution_count": 4,
   "metadata": {
    "colab": {},
    "colab_type": "code",
    "id": "rGtwqHKGpH5O"
   },
   "outputs": [
    {
     "name": "stderr",
     "output_type": "stream",
     "text": [
      "'nvidia-smi' is not recognized as an internal or external command,\n",
      "operable program or batch file.\n"
     ]
    }
   ],
   "source": [
    "!nvidia-smi"
   ]
  },
  {
   "cell_type": "markdown",
   "metadata": {
    "colab_type": "text",
    "id": "wVGx2JTOjEPi"
   },
   "source": [
    "# Natural Language"
   ]
  },
  {
   "cell_type": "code",
   "execution_count": 5,
   "metadata": {
    "colab": {},
    "colab_type": "code",
    "id": "-eSp2rKYjEPj"
   },
   "outputs": [],
   "source": [
    "import string\n",
    "import nltk\n",
    "from nltk import word_tokenize\n",
    "from nltk.stem.porter import PorterStemmer\n",
    "from nltk.corpus import stopwords"
   ]
  },
  {
   "cell_type": "code",
   "execution_count": 6,
   "metadata": {
    "colab": {},
    "colab_type": "code",
    "id": "5rxvNB8QjEPo"
   },
   "outputs": [],
   "source": [
    "def clean_text(texts):\n",
    "    texts = texts.fillna(' ')\n",
    "    texts = texts.str.replace('\\n',' ')\n",
    "    texts = texts.str.replace('\\r',' ')\n",
    "\n",
    "    table = str.maketrans('', '', string.punctuation + '0123456789')\n",
    "    texts = [text.lower().translate(table) for text in texts]\n",
    "\n",
    "    return texts"
   ]
  },
  {
   "cell_type": "code",
   "execution_count": 7,
   "metadata": {
    "colab": {},
    "colab_type": "code",
    "id": "21E4eXpFjEPt"
   },
   "outputs": [],
   "source": [
    "adm_notes['TEXT'] = clean_text(adm_notes['TEXT'])"
   ]
  },
  {
   "cell_type": "code",
   "execution_count": 8,
   "metadata": {
    "colab": {
     "base_uri": "https://localhost:8080/",
     "height": 102
    },
    "colab_type": "code",
    "id": "VWRV-T4ewLvK",
    "outputId": "fe53acf3-311f-403c-e67c-bd93726af9a4"
   },
   "outputs": [
    {
     "name": "stderr",
     "output_type": "stream",
     "text": [
      "[nltk_data] Downloading package punkt to\n",
      "[nltk_data]     C:\\Users\\Dell\\AppData\\Roaming\\nltk_data...\n",
      "[nltk_data]   Package punkt is already up-to-date!\n",
      "[nltk_data] Downloading package stopwords to\n",
      "[nltk_data]     C:\\Users\\Dell\\AppData\\Roaming\\nltk_data...\n",
      "[nltk_data]   Package stopwords is already up-to-date!\n"
     ]
    },
    {
     "data": {
      "text/plain": [
       "True"
      ]
     },
     "execution_count": 8,
     "metadata": {},
     "output_type": "execute_result"
    }
   ],
   "source": [
    "nltk.download('punkt')\n",
    "nltk.download('stopwords')"
   ]
  },
  {
   "cell_type": "code",
   "execution_count": 9,
   "metadata": {
    "colab": {},
    "colab_type": "code",
    "id": "G3JaQ3fJjEPx"
   },
   "outputs": [],
   "source": [
    "stop_words = stopwords.words('english')\n",
    "stop_words = stop_words + ['patient', 'date', 'admission', 'discharge', 'lastname', 'firstname', 'sex']"
   ]
  },
  {
   "cell_type": "code",
   "execution_count": 10,
   "metadata": {
    "colab": {},
    "colab_type": "code",
    "id": "A12dNl0djEP2"
   },
   "outputs": [],
   "source": [
    "porter = PorterStemmer()"
   ]
  },
  {
   "cell_type": "code",
   "execution_count": 11,
   "metadata": {
    "colab": {},
    "colab_type": "code",
    "id": "ngzwTfGejEP6"
   },
   "outputs": [],
   "source": [
    "def tokenize_stem(text):\n",
    "    words = word_tokenize(text)\n",
    "    words = [word for word in words if word not in stop_words]\n",
    "    words = [porter.stem(word) for word in words]\n",
    "    return words"
   ]
  },
  {
   "cell_type": "code",
   "execution_count": 12,
   "metadata": {
    "colab": {},
    "colab_type": "code",
    "id": "gt9quJSrB3zn"
   },
   "outputs": [],
   "source": [
    "for i, text in enumerate(adm_notes['TEXT']):\n",
    "   adm_notes.loc[i, 'TEXT'] = (' ').join(tokenize_stem(adm_notes['TEXT'][i]))"
   ]
  },
  {
   "cell_type": "markdown",
   "metadata": {
    "colab_type": "text",
    "id": "UCpZCmD0jEP-"
   },
   "source": [
    "# Model\n",
    "## Words, Train and Test"
   ]
  },
  {
   "cell_type": "code",
   "execution_count": 13,
   "metadata": {
    "colab": {},
    "colab_type": "code",
    "id": "ehkOkbR-jEP_"
   },
   "outputs": [],
   "source": [
    "from sklearn.feature_extraction.text import CountVectorizer\n",
    "from sklearn.model_selection import train_test_split"
   ]
  },
  {
   "cell_type": "markdown",
   "metadata": {
    "colab_type": "text",
    "id": "EKUfyfFLjEQD"
   },
   "source": [
    "Repartition data"
   ]
  },
  {
   "cell_type": "code",
   "execution_count": 14,
   "metadata": {
    "colab": {},
    "colab_type": "code",
    "id": "LGDUXsUcjEQE"
   },
   "outputs": [],
   "source": [
    "df_train, df_test = train_test_split(adm_notes, test_size=0.2, random_state=42)"
   ]
  },
  {
   "cell_type": "markdown",
   "metadata": {
    "colab_type": "text",
    "id": "ADSXuj_wjEQI"
   },
   "source": [
    "Subsample non-readmitted patients to match size of readmitted ones"
   ]
  },
  {
   "cell_type": "code",
   "execution_count": 15,
   "metadata": {
    "colab": {},
    "colab_type": "code",
    "id": "90ZfPmgcjEQJ"
   },
   "outputs": [],
   "source": [
    "rows_pos = df_train['READM_WITHIN_30'] == 1\n",
    "df_train_pos = df_train.loc[rows_pos]\n",
    "df_train_neg = df_train.loc[~rows_pos]\n",
    "\n",
    "df_train = pd.concat([df_train_pos, df_train_neg.sample(n = len(df_train_pos))], axis = 0)\n",
    "df_train = df_train.sample(n = len(df_train)).reset_index(drop = True)"
   ]
  },
  {
   "cell_type": "code",
   "execution_count": 16,
   "metadata": {
    "colab": {},
    "colab_type": "code",
    "id": "xKRSSvW6jEQN"
   },
   "outputs": [],
   "source": [
    "rows_pos = df_test['READM_WITHIN_30'] == 1\n",
    "df_test_pos = df_test.loc[rows_pos]\n",
    "df_test_neg = df_test.loc[~rows_pos]\n",
    "\n",
    "df_test = pd.concat([df_test_pos, df_test_neg.sample(n = len(df_test_pos))], axis = 0)\n",
    "df_test = df_test.sample(n = len(df_test)).reset_index(drop = True)"
   ]
  },
  {
   "cell_type": "code",
   "execution_count": 17,
   "metadata": {
    "colab": {
     "base_uri": "https://localhost:8080/",
     "height": 51
    },
    "colab_type": "code",
    "id": "UT6P7kmvjEQR",
    "outputId": "8ff9a609-3060-4b7c-8702-ae061de8aa05"
   },
   "outputs": [
    {
     "name": "stdout",
     "output_type": "stream",
     "text": [
      "(4724, 10)\n",
      "(1202, 10)\n"
     ]
    }
   ],
   "source": [
    "print(df_train.shape)\n",
    "print(df_test.shape)"
   ]
  },
  {
   "cell_type": "markdown",
   "metadata": {
    "colab_type": "text",
    "id": "hs4rAD9djEQW"
   },
   "source": [
    "Sparse Matrix with word count"
   ]
  },
  {
   "cell_type": "markdown",
   "metadata": {
    "colab_type": "text",
    "id": "kr1gCKmGjEQa"
   },
   "source": [
    "# Recurrent Neural Network"
   ]
  },
  {
   "cell_type": "code",
   "execution_count": 18,
   "metadata": {
    "colab": {
     "base_uri": "https://localhost:8080/",
     "height": 34
    },
    "colab_type": "code",
    "id": "qCin9gZFjEQb",
    "outputId": "32ee193b-5132-482c-87f6-9c07b56ffdda"
   },
   "outputs": [],
   "source": [
    "from tensorflow.keras.models import Sequential, load_model\n",
    "from tensorflow.keras.layers import LSTM, Dense, Dropout, Embedding, Conv1D, MaxPooling1D, SpatialDropout1D\n",
    "from tensorflow.keras.optimizers import RMSprop, Adam\n",
    "from tensorflow.keras.utils import to_categorical\n",
    "from tensorflow.keras.callbacks import ModelCheckpoint\n",
    "from tensorflow.keras.preprocessing.text import Tokenizer\n",
    "from tensorflow.keras.preprocessing.sequence import pad_sequences\n",
    "\n",
    "import tensorflow as tf\n"
   ]
  },
  {
   "cell_type": "code",
   "execution_count": 19,
   "metadata": {
    "colab": {},
    "colab_type": "code",
    "id": "az3bfsS_-FOr"
   },
   "outputs": [],
   "source": [
    "NUMBER_WORDS = 5000\n",
    "\n",
    "tokenizer = Tokenizer(num_words=NUMBER_WORDS)\n",
    "tokenizer.fit_on_texts(df_train['TEXT'])\n",
    "sequences_train = tokenizer.texts_to_sequences(df_train['TEXT'])\n",
    "sequences_test = tokenizer.texts_to_sequences(df_test['TEXT'])\n",
    "\n",
    "X_train = pad_sequences(sequences_train, maxlen=NUMBER_WORDS)\n",
    "X_test = pad_sequences(sequences_test, maxlen=NUMBER_WORDS)"
   ]
  },
  {
   "cell_type": "code",
   "execution_count": 20,
   "metadata": {
    "colab": {},
    "colab_type": "code",
    "id": "AZo6vNQAN5mQ"
   },
   "outputs": [],
   "source": [
    "y_train = to_categorical(df_train['READM_WITHIN_30'])\n",
    "y_test = to_categorical(df_test['READM_WITHIN_30'])"
   ]
  },
  {
   "cell_type": "code",
   "execution_count": 21,
   "metadata": {
    "colab": {},
    "colab_type": "code",
    "id": "ewiT3ZwjNNft"
   },
   "outputs": [],
   "source": [
    "adam = Adam(learning_rate=0.00001)"
   ]
  },
  {
   "cell_type": "code",
   "execution_count": 23,
   "metadata": {
    "colab": {
     "base_uri": "https://localhost:8080/",
     "height": 289
    },
    "colab_type": "code",
    "id": "EEbedM5MjEQg",
    "outputId": "daa06920-60b7-4976-c41c-6b0cd8af3717"
   },
   "outputs": [
    {
     "name": "stdout",
     "output_type": "stream",
     "text": [
      "Model: \"sequential_1\"\n",
      "_________________________________________________________________\n",
      " Layer (type)                Output Shape              Param #   \n",
      "=================================================================\n",
      " embedding_1 (Embedding)     (None, 5000, 32)          160000    \n",
      "                                                                 \n",
      " lstm (LSTM)                 (None, 32)                8320      \n",
      "                                                                 \n",
      " dense (Dense)               (None, 2)                 66        \n",
      "                                                                 \n",
      "=================================================================\n",
      "Total params: 168,386\n",
      "Trainable params: 168,386\n",
      "Non-trainable params: 0\n",
      "_________________________________________________________________\n"
     ]
    }
   ],
   "source": [
    "model = Sequential()\n",
    "\n",
    "model.add(Embedding(input_dim=X_train.shape[1], output_dim=32, input_length=X_train.shape[1]))\n",
    "\n",
    "model.add(LSTM(32, dropout=0.2, recurrent_dropout=0.2))\n",
    "\n",
    "model.add(Dense(2, activation='sigmoid'))\n",
    "\n",
    "model.compile(loss='categorical_crossentropy', optimizer='adam', metrics=['accuracy'])\n",
    "\n",
    "model.summary()\n"
   ]
  },
  {
   "cell_type": "code",
   "execution_count": 24,
   "metadata": {
    "colab": {
     "base_uri": "https://localhost:8080/",
     "height": 422
    },
    "colab_type": "code",
    "id": "Waj5T0K76K0c",
    "outputId": "2db36463-16e4-46c5-9d17-72c87cdba131"
   },
   "outputs": [
    {
     "data": {
      "image/png": "[encoded data removed]",
      "text/plain": [
       "<IPython.core.display.Image object>"
      ]
     },
     "execution_count": 24,
     "metadata": {},
     "output_type": "execute_result"
    }
   ],
   "source": [
    "from keras.utils.vis_utils import plot_model\n",
    "\n",
    "plot_model(model, show_shapes=True, show_layer_names=False)"
   ]
  },
  {
   "cell_type": "code",
   "execution_count": 25,
   "metadata": {
    "colab": {
     "base_uri": "https://localhost:8080/",
     "height": 1000
    },
    "colab_type": "code",
    "id": "4gbF3pyHjEQk",
    "outputId": "eb47c0c8-dcc9-4fc7-dc8e-cba31eada344",
    "scrolled": false
   },
   "outputs": [
    {
     "name": "stdout",
     "output_type": "stream",
     "text": [
      "Epoch 1/100\n",
      "60/60 [==============================] - 454s 8s/step - loss: 0.6915 - accuracy: 0.5277 - val_loss: 0.6899 - val_accuracy: 0.5471\n",
      "Epoch 2/100\n",
      "60/60 [==============================] - 633s 11s/step - loss: 0.6783 - accuracy: 0.5827 - val_loss: 0.6833 - val_accuracy: 0.5725\n",
      "Epoch 3/100\n",
      "60/60 [==============================] - 648s 11s/step - loss: 0.6544 - accuracy: 0.6388 - val_loss: 0.6803 - val_accuracy: 0.5958\n",
      "Epoch 4/100\n",
      "60/60 [==============================] - 644s 11s/step - loss: 0.6169 - accuracy: 0.6798 - val_loss: 0.6886 - val_accuracy: 0.5862\n",
      "Epoch 5/100\n",
      "60/60 [==============================] - 639s 11s/step - loss: 0.5694 - accuracy: 0.7166 - val_loss: 0.6988 - val_accuracy: 0.5862\n",
      "Epoch 6/100\n",
      "60/60 [==============================] - 642s 11s/step - loss: 0.5205 - accuracy: 0.7547 - val_loss: 0.7364 - val_accuracy: 0.6032\n",
      "Epoch 7/100\n",
      "60/60 [==============================] - 666s 11s/step - loss: 0.4777 - accuracy: 0.7899 - val_loss: 0.8512 - val_accuracy: 0.5757\n",
      "Epoch 8/100\n",
      "60/60 [==============================] - 667s 11s/step - loss: 0.4482 - accuracy: 0.8018 - val_loss: 0.7862 - val_accuracy: 0.5979\n",
      "Epoch 9/100\n",
      "60/60 [==============================] - 680s 11s/step - loss: 0.4209 - accuracy: 0.8164 - val_loss: 0.7995 - val_accuracy: 0.5672\n",
      "Epoch 10/100\n",
      "60/60 [==============================] - 670s 11s/step - loss: 0.3960 - accuracy: 0.8283 - val_loss: 0.8759 - val_accuracy: 0.5873\n",
      "Epoch 11/100\n",
      "60/60 [==============================] - 662s 11s/step - loss: 0.3451 - accuracy: 0.8571 - val_loss: 1.0946 - val_accuracy: 0.5894\n",
      "Epoch 12/100\n",
      "60/60 [==============================] - 666s 11s/step - loss: 0.3229 - accuracy: 0.8701 - val_loss: 0.8926 - val_accuracy: 0.6000\n",
      "Epoch 13/100\n",
      "60/60 [==============================] - 670s 11s/step - loss: 0.3144 - accuracy: 0.8682 - val_loss: 1.0620 - val_accuracy: 0.5735\n",
      "Epoch 14/100\n",
      "60/60 [==============================] - 674s 11s/step - loss: 0.2999 - accuracy: 0.8785 - val_loss: 1.0471 - val_accuracy: 0.5831\n",
      "Epoch 15/100\n",
      "60/60 [==============================] - 674s 11s/step - loss: 0.2822 - accuracy: 0.8878 - val_loss: 0.9874 - val_accuracy: 0.5735\n",
      "Epoch 16/100\n",
      "60/60 [==============================] - 681s 11s/step - loss: 0.2722 - accuracy: 0.8897 - val_loss: 1.1674 - val_accuracy: 0.5862\n",
      "Epoch 17/100\n",
      "60/60 [==============================] - 8820s 149s/step - loss: 0.2588 - accuracy: 0.8942 - val_loss: 1.0140 - val_accuracy: 0.5746\n",
      "Epoch 18/100\n",
      "60/60 [==============================] - 619s 10s/step - loss: 0.3816 - accuracy: 0.8283 - val_loss: 1.1577 - val_accuracy: 0.5778\n",
      "Epoch 19/100\n",
      "60/60 [==============================] - 618s 10s/step - loss: 0.2838 - accuracy: 0.8902 - val_loss: 1.1876 - val_accuracy: 0.5788\n",
      "Epoch 20/100\n",
      "60/60 [==============================] - 630s 10s/step - loss: 0.2318 - accuracy: 0.9148 - val_loss: 1.1769 - val_accuracy: 0.5683\n",
      "Epoch 21/100\n",
      "60/60 [==============================] - 618s 10s/step - loss: 0.2413 - accuracy: 0.9039 - val_loss: 1.2317 - val_accuracy: 0.5831\n",
      "Epoch 22/100\n",
      "60/60 [==============================] - 619s 10s/step - loss: 0.2350 - accuracy: 0.9055 - val_loss: 1.1793 - val_accuracy: 0.5810\n",
      "Epoch 23/100\n",
      "60/60 [==============================] - 628s 10s/step - loss: 0.2046 - accuracy: 0.9174 - val_loss: 1.3143 - val_accuracy: 0.5757\n",
      "Epoch 24/100\n",
      "60/60 [==============================] - 624s 10s/step - loss: 0.1769 - accuracy: 0.9317 - val_loss: 1.5882 - val_accuracy: 0.5640\n",
      "Epoch 25/100\n",
      "60/60 [==============================] - 625s 10s/step - loss: 0.2286 - accuracy: 0.9071 - val_loss: 1.3888 - val_accuracy: 0.5788\n",
      "Epoch 26/100\n",
      "60/60 [==============================] - 623s 10s/step - loss: 0.1934 - accuracy: 0.9219 - val_loss: 1.3334 - val_accuracy: 0.5894\n",
      "Epoch 27/100\n",
      "60/60 [==============================] - 623s 10s/step - loss: 0.1568 - accuracy: 0.9407 - val_loss: 1.4989 - val_accuracy: 0.5704\n",
      "Epoch 28/100\n",
      "60/60 [==============================] - 618s 10s/step - loss: 0.1609 - accuracy: 0.9389 - val_loss: 1.4668 - val_accuracy: 0.5884\n",
      "Epoch 29/100\n",
      "60/60 [==============================] - 617s 10s/step - loss: 0.1515 - accuracy: 0.9391 - val_loss: 1.5063 - val_accuracy: 0.5820\n",
      "Epoch 30/100\n",
      "60/60 [==============================] - 613s 10s/step - loss: 0.1394 - accuracy: 0.9481 - val_loss: 1.5965 - val_accuracy: 0.5767\n",
      "Epoch 31/100\n",
      "60/60 [==============================] - 632s 11s/step - loss: 0.1449 - accuracy: 0.9436 - val_loss: 1.6528 - val_accuracy: 0.5725\n",
      "Epoch 32/100\n",
      "60/60 [==============================] - 656s 11s/step - loss: 0.1318 - accuracy: 0.9481 - val_loss: 1.7222 - val_accuracy: 0.5788\n",
      "Epoch 33/100\n",
      "60/60 [==============================] - 654s 11s/step - loss: 0.1332 - accuracy: 0.9487 - val_loss: 1.6296 - val_accuracy: 0.5810\n",
      "Epoch 34/100\n",
      "60/60 [==============================] - 653s 11s/step - loss: 0.1841 - accuracy: 0.9296 - val_loss: 1.4962 - val_accuracy: 0.5735\n",
      "Epoch 35/100\n",
      "60/60 [==============================] - 666s 11s/step - loss: 0.1280 - accuracy: 0.9516 - val_loss: 1.5514 - val_accuracy: 0.5894\n",
      "Epoch 36/100\n",
      "60/60 [==============================] - 656s 11s/step - loss: 0.1196 - accuracy: 0.9529 - val_loss: 1.7168 - val_accuracy: 0.5873\n",
      "Epoch 37/100\n",
      "60/60 [==============================] - 655s 11s/step - loss: 0.1115 - accuracy: 0.9569 - val_loss: 1.7250 - val_accuracy: 0.5862\n",
      "Epoch 38/100\n",
      "60/60 [==============================] - 656s 11s/step - loss: 0.1296 - accuracy: 0.9521 - val_loss: 1.6356 - val_accuracy: 0.5820\n",
      "Epoch 39/100\n",
      "60/60 [==============================] - 654s 11s/step - loss: 0.1300 - accuracy: 0.9487 - val_loss: 1.6494 - val_accuracy: 0.5831\n",
      "Epoch 40/100\n",
      "60/60 [==============================] - 661s 11s/step - loss: 0.1408 - accuracy: 0.9468 - val_loss: 1.7975 - val_accuracy: 0.5704\n",
      "Epoch 41/100\n",
      "60/60 [==============================] - 656s 11s/step - loss: 0.1330 - accuracy: 0.9479 - val_loss: 1.6216 - val_accuracy: 0.5735\n",
      "Epoch 42/100\n",
      "60/60 [==============================] - 672s 11s/step - loss: 0.1342 - accuracy: 0.9495 - val_loss: 1.8364 - val_accuracy: 0.5862\n",
      "Epoch 43/100\n",
      "60/60 [==============================] - 646s 11s/step - loss: 0.1416 - accuracy: 0.9471 - val_loss: 1.6721 - val_accuracy: 0.5640\n",
      "Epoch 44/100\n",
      "60/60 [==============================] - 632s 11s/step - loss: 0.1373 - accuracy: 0.9505 - val_loss: 1.7294 - val_accuracy: 0.5778\n",
      "Epoch 45/100\n",
      "60/60 [==============================] - 627s 10s/step - loss: 0.0921 - accuracy: 0.9651 - val_loss: 1.9985 - val_accuracy: 0.5831\n",
      "Epoch 46/100\n",
      "60/60 [==============================] - 619s 10s/step - loss: 0.0917 - accuracy: 0.9661 - val_loss: 1.9936 - val_accuracy: 0.5799\n",
      "Epoch 47/100\n",
      "60/60 [==============================] - 617s 10s/step - loss: 0.1034 - accuracy: 0.9611 - val_loss: 1.8949 - val_accuracy: 0.5714\n",
      "Epoch 48/100\n",
      "60/60 [==============================] - 617s 10s/step - loss: 0.0909 - accuracy: 0.9661 - val_loss: 1.8627 - val_accuracy: 0.5831\n",
      "Epoch 49/100\n",
      "60/60 [==============================] - 621s 10s/step - loss: 0.1659 - accuracy: 0.9362 - val_loss: 1.3418 - val_accuracy: 0.5460\n",
      "Epoch 50/100\n",
      "60/60 [==============================] - 625s 10s/step - loss: 0.2180 - accuracy: 0.9156 - val_loss: 1.7363 - val_accuracy: 0.5661\n",
      "Epoch 51/100\n",
      "60/60 [==============================] - 622s 10s/step - loss: 0.1190 - accuracy: 0.9569 - val_loss: 1.8634 - val_accuracy: 0.5683\n",
      "Epoch 52/100\n",
      "60/60 [==============================] - 618s 10s/step - loss: 0.0932 - accuracy: 0.9651 - val_loss: 1.9308 - val_accuracy: 0.5672\n",
      "Epoch 53/100\n",
      "60/60 [==============================] - 626s 10s/step - loss: 0.0889 - accuracy: 0.9664 - val_loss: 1.8921 - val_accuracy: 0.5704\n",
      "Epoch 54/100\n",
      "60/60 [==============================] - 622s 10s/step - loss: 0.1482 - accuracy: 0.9555 - val_loss: 1.7282 - val_accuracy: 0.5714\n",
      "Epoch 55/100\n",
      "60/60 [==============================] - 626s 10s/step - loss: 0.0883 - accuracy: 0.9653 - val_loss: 1.9629 - val_accuracy: 0.5810\n",
      "Epoch 56/100\n",
      "60/60 [==============================] - 624s 10s/step - loss: 0.0901 - accuracy: 0.9672 - val_loss: 1.8621 - val_accuracy: 0.5672\n",
      "Epoch 57/100\n",
      "60/60 [==============================] - 625s 10s/step - loss: 0.0831 - accuracy: 0.9669 - val_loss: 1.9728 - val_accuracy: 0.5862\n"
     ]
    },
    {
     "name": "stdout",
     "output_type": "stream",
     "text": [
      "Epoch 58/100\n",
      "60/60 [==============================] - 632s 11s/step - loss: 0.1014 - accuracy: 0.9600 - val_loss: 1.9649 - val_accuracy: 0.5672\n",
      "Epoch 59/100\n",
      "60/60 [==============================] - 629s 10s/step - loss: 0.0824 - accuracy: 0.9701 - val_loss: 2.0601 - val_accuracy: 0.5608\n",
      "Epoch 60/100\n",
      "60/60 [==============================] - 631s 11s/step - loss: 0.1069 - accuracy: 0.9574 - val_loss: 1.9162 - val_accuracy: 0.5630\n",
      "Epoch 61/100\n",
      "60/60 [==============================] - 623s 10s/step - loss: 0.0797 - accuracy: 0.9696 - val_loss: 2.0082 - val_accuracy: 0.5651\n",
      "Epoch 62/100\n",
      "60/60 [==============================] - 625s 10s/step - loss: 0.0717 - accuracy: 0.9717 - val_loss: 2.1764 - val_accuracy: 0.5778\n",
      "Epoch 63/100\n",
      "60/60 [==============================] - 622s 10s/step - loss: 0.0776 - accuracy: 0.9712 - val_loss: 2.0329 - val_accuracy: 0.5630\n",
      "Epoch 64/100\n",
      "60/60 [==============================] - 622s 10s/step - loss: 0.0762 - accuracy: 0.9714 - val_loss: 2.2005 - val_accuracy: 0.5820\n",
      "Epoch 65/100\n",
      "60/60 [==============================] - 637s 11s/step - loss: 0.0699 - accuracy: 0.9733 - val_loss: 2.1571 - val_accuracy: 0.5778\n",
      "Epoch 66/100\n",
      "60/60 [==============================] - 625s 10s/step - loss: 0.0665 - accuracy: 0.9754 - val_loss: 2.2713 - val_accuracy: 0.5683\n",
      "Epoch 67/100\n",
      "60/60 [==============================] - 628s 10s/step - loss: 0.0676 - accuracy: 0.9727 - val_loss: 2.2905 - val_accuracy: 0.5672\n",
      "Epoch 68/100\n",
      "60/60 [==============================] - 628s 10s/step - loss: 0.0748 - accuracy: 0.9720 - val_loss: 2.5070 - val_accuracy: 0.5683\n",
      "Epoch 69/100\n",
      "60/60 [==============================] - 639s 11s/step - loss: 0.0941 - accuracy: 0.9635 - val_loss: 2.2204 - val_accuracy: 0.5566\n",
      "Epoch 70/100\n",
      "60/60 [==============================] - 635s 11s/step - loss: 0.0925 - accuracy: 0.9653 - val_loss: 2.1498 - val_accuracy: 0.5725\n",
      "Epoch 71/100\n",
      "60/60 [==============================] - 627s 10s/step - loss: 0.0733 - accuracy: 0.9722 - val_loss: 2.3045 - val_accuracy: 0.5767\n",
      "Epoch 72/100\n",
      "60/60 [==============================] - 635s 11s/step - loss: 0.1228 - accuracy: 0.9521 - val_loss: 1.7945 - val_accuracy: 0.5831\n",
      "Epoch 73/100\n",
      "60/60 [==============================] - 636s 11s/step - loss: 0.0899 - accuracy: 0.9667 - val_loss: 1.9251 - val_accuracy: 0.5746\n",
      "Epoch 74/100\n",
      "60/60 [==============================] - 629s 10s/step - loss: 0.0751 - accuracy: 0.9717 - val_loss: 2.1319 - val_accuracy: 0.5693\n",
      "Epoch 75/100\n",
      "60/60 [==============================] - 628s 10s/step - loss: 0.0569 - accuracy: 0.9772 - val_loss: 2.2917 - val_accuracy: 0.5704\n",
      "Epoch 76/100\n",
      "60/60 [==============================] - 631s 11s/step - loss: 0.0649 - accuracy: 0.9727 - val_loss: 2.3497 - val_accuracy: 0.5767\n",
      "Epoch 77/100\n",
      "60/60 [==============================] - 630s 11s/step - loss: 0.0682 - accuracy: 0.9749 - val_loss: 2.1099 - val_accuracy: 0.5651\n",
      "Epoch 78/100\n",
      "60/60 [==============================] - 628s 10s/step - loss: 0.1181 - accuracy: 0.9566 - val_loss: 1.8273 - val_accuracy: 0.5661\n",
      "Epoch 79/100\n",
      "60/60 [==============================] - 627s 10s/step - loss: 0.0837 - accuracy: 0.9693 - val_loss: 2.2025 - val_accuracy: 0.5693\n",
      "Epoch 80/100\n",
      "60/60 [==============================] - 631s 11s/step - loss: 0.0800 - accuracy: 0.9677 - val_loss: 2.0158 - val_accuracy: 0.5704\n",
      "Epoch 81/100\n",
      "60/60 [==============================] - 633s 11s/step - loss: 0.0677 - accuracy: 0.9743 - val_loss: 2.2109 - val_accuracy: 0.5651\n",
      "Epoch 82/100\n",
      "60/60 [==============================] - 626s 10s/step - loss: 0.0628 - accuracy: 0.9749 - val_loss: 2.3551 - val_accuracy: 0.5767\n",
      "Epoch 83/100\n",
      "60/60 [==============================] - 632s 11s/step - loss: 0.0602 - accuracy: 0.9754 - val_loss: 2.3666 - val_accuracy: 0.5810\n",
      "Epoch 84/100\n",
      "60/60 [==============================] - 627s 10s/step - loss: 0.0614 - accuracy: 0.9759 - val_loss: 2.3782 - val_accuracy: 0.5841\n",
      "Epoch 85/100\n",
      "60/60 [==============================] - 677s 11s/step - loss: 0.0510 - accuracy: 0.9791 - val_loss: 2.4286 - val_accuracy: 0.5810\n",
      "Epoch 86/100\n",
      "60/60 [==============================] - 751s 12s/step - loss: 0.0570 - accuracy: 0.9786 - val_loss: 2.5208 - val_accuracy: 0.5725\n",
      "Epoch 87/100\n",
      "60/60 [==============================] - 640s 11s/step - loss: 0.0565 - accuracy: 0.9780 - val_loss: 2.3418 - val_accuracy: 0.5767\n",
      "Epoch 88/100\n",
      "60/60 [==============================] - 662s 11s/step - loss: 0.0676 - accuracy: 0.9746 - val_loss: 2.3990 - val_accuracy: 0.5704\n",
      "Epoch 89/100\n",
      "60/60 [==============================] - 675s 11s/step - loss: 0.0597 - accuracy: 0.9762 - val_loss: 2.4386 - val_accuracy: 0.5841\n",
      "Epoch 90/100\n",
      "60/60 [==============================] - 677s 11s/step - loss: 0.0485 - accuracy: 0.9828 - val_loss: 2.5592 - val_accuracy: 0.5788\n",
      "Epoch 91/100\n",
      "60/60 [==============================] - 677s 11s/step - loss: 0.0571 - accuracy: 0.9775 - val_loss: 2.6344 - val_accuracy: 0.5693\n",
      "Epoch 92/100\n",
      "60/60 [==============================] - 680s 11s/step - loss: 0.0546 - accuracy: 0.9767 - val_loss: 2.3616 - val_accuracy: 0.5725\n",
      "Epoch 93/100\n",
      "60/60 [==============================] - 681s 11s/step - loss: 0.0513 - accuracy: 0.9778 - val_loss: 2.5062 - val_accuracy: 0.5757\n",
      "Epoch 94/100\n",
      "60/60 [==============================] - 670s 11s/step - loss: 0.0477 - accuracy: 0.9796 - val_loss: 2.4937 - val_accuracy: 0.5704\n",
      "Epoch 95/100\n",
      "60/60 [==============================] - 679s 11s/step - loss: 0.0560 - accuracy: 0.9796 - val_loss: 2.3510 - val_accuracy: 0.5757\n",
      "Epoch 96/100\n",
      "60/60 [==============================] - 683s 11s/step - loss: 0.0487 - accuracy: 0.9788 - val_loss: 2.5393 - val_accuracy: 0.5778\n",
      "Epoch 97/100\n",
      "60/60 [==============================] - 673s 11s/step - loss: 0.0514 - accuracy: 0.9794 - val_loss: 2.5596 - val_accuracy: 0.5884\n",
      "Epoch 98/100\n",
      "60/60 [==============================] - 670s 11s/step - loss: 0.0637 - accuracy: 0.9772 - val_loss: 2.5540 - val_accuracy: 0.5757\n",
      "Epoch 99/100\n",
      "60/60 [==============================] - 688s 11s/step - loss: 0.0470 - accuracy: 0.9764 - val_loss: 2.6840 - val_accuracy: 0.5820\n",
      "Epoch 100/100\n",
      "60/60 [==============================] - 681s 11s/step - loss: 0.0478 - accuracy: 0.9786 - val_loss: 2.7292 - val_accuracy: 0.5841\n"
     ]
    }
   ],
   "source": [
    "history = model.fit(X_train, y_train, epochs = 100, batch_size = 64, validation_split=0.2)"
   ]
  },
  {
   "cell_type": "code",
   "execution_count": 26,
   "metadata": {
    "colab": {
     "base_uri": "https://localhost:8080/",
     "height": 68
    },
    "colab_type": "code",
    "id": "A2sf4-u84RnY",
    "outputId": "6406d630-d58a-46ba-d4c6-7514184426bc"
   },
   "outputs": [
    {
     "name": "stdout",
     "output_type": "stream",
     "text": [
      "['loss', 'accuracy']\n",
      "19/19 [==============================] - 10s 534ms/step - loss: 2.8893 - accuracy: 0.5641\n"
     ]
    },
    {
     "data": {
      "text/plain": [
       "[2.88932728767395, 0.5640599131584167]"
      ]
     },
     "execution_count": 26,
     "metadata": {},
     "output_type": "execute_result"
    }
   ],
   "source": [
    "print(model.metrics_names)\n",
    "model.evaluate(X_test, y_test, batch_size=64)"
   ]
  },
  {
   "cell_type": "code",
   "execution_count": 27,
   "metadata": {
    "colab": {
     "base_uri": "https://localhost:8080/",
     "height": 204
    },
    "colab_type": "code",
    "id": "Hbh1kpApb622",
    "outputId": "d37feed5-ebf5-4c5d-8ab9-ea19ab96895e"
   },
   "outputs": [
    {
     "name": "stdout",
     "output_type": "stream",
     "text": [
      "19/19 [==============================] - 12s 560ms/step\n",
      "              precision    recall  f1-score   support\n",
      "\n",
      "           0      0.571     0.514     0.541       601\n",
      "           1      0.558     0.614     0.585       601\n",
      "\n",
      "    accuracy                          0.564      1202\n",
      "   macro avg      0.565     0.564     0.563      1202\n",
      "weighted avg      0.565     0.564     0.563      1202\n",
      "\n",
      "0.5640599001663893\n"
     ]
    }
   ],
   "source": [
    "from sklearn.metrics import classification_report, roc_auc_score\n",
    "\n",
    "y_pred = model.predict(X_test, batch_size=64, verbose=1)\n",
    "y_pred = np.argmax(y_pred, axis=1)\n",
    "\n",
    "y_test_raw = df_test['READM_WITHIN_30']\n",
    "\n",
    "print(classification_report(y_test_raw, y_pred, digits=3))\n",
    "print(roc_auc_score(y_test_raw, y_pred))"
   ]
  },
  {
   "cell_type": "code",
   "execution_count": 28,
   "metadata": {
    "colab": {
     "base_uri": "https://localhost:8080/",
     "height": 292
    },
    "colab_type": "code",
    "id": "SGWn_I8IAS_f",
    "outputId": "2bbd749f-bfd4-4528-d108-5449cf985f26"
   },
   "outputs": [
    {
     "data": {
      "image/png": "[encoded data removed]",
      "text/plain": [
       "<Figure size 900x400 with 2 Axes>"
      ]
     },
     "metadata": {},
     "output_type": "display_data"
    }
   ],
   "source": [
    "sns.set('talk', 'whitegrid', 'dark', font_scale=0.7,\n",
    "        rc={\"lines.linewidth\": 1, 'grid.linestyle': '--'})\n",
    "\n",
    "fig, ax = plt.subplots(nrows=1, ncols=2, figsize=(9, 4))\n",
    "\n",
    "ax[0].plot(history.history['accuracy'])\n",
    "ax[0].plot(history.history['val_accuracy'])\n",
    "ax[0].set_title('Model accuracy')\n",
    "ax[0].set_ylabel('Accuracy')\n",
    "ax[0].set_xlabel('Epoch')\n",
    "ax[0].legend(['Train', 'Test'], loc='upper left')\n",
    "\n",
    "ax[1].plot(history.history['loss'])\n",
    "ax[1].plot(history.history['val_loss'])\n",
    "ax[1].set_title('Model loss')\n",
    "ax[1].set_ylabel('Loss')\n",
    "ax[1].set_xlabel('Epoch')\n",
    "ax[1].legend(['Train', 'Test'], loc='upper left')\n",
    "\n",
    "fig.tight_layout()\n",
    "plt.show()"
   ]
  },
  {
   "cell_type": "code",
   "execution_count": null,
   "metadata": {
    "colab": {},
    "colab_type": "code",
    "id": "lhlMmLi-umua"
   },
   "outputs": [],
   "source": []
  }
 ],
 "metadata": {
  "colab": {
   "collapsed_sections": [],
   "name": "LSTM.ipynb",
   "provenance": []
  },
  "file_extension": ".py",
  "kernelspec": {
   "display_name": "Python 3 (ipykernel)",
   "language": "python",
   "name": "python3"
  },
  "language_info": {
   "codemirror_mode": {
    "name": "ipython",
    "version": 3
   },
   "file_extension": ".py",
   "mimetype": "text/x-python",
   "name": "python",
   "nbconvert_exporter": "python",
   "pygments_lexer": "ipython3",
   "version": "3.9.13"
  },
  "mimetype": "text/x-python",
  "name": "python",
  "npconvert_exporter": "python",
  "pygments_lexer": "ipython3",
  "version": 3
 },
 "nbformat": 4,
 "nbformat_minor": 1
}
