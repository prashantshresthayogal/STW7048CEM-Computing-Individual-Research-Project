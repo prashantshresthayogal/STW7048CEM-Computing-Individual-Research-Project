{
 "cells": [
  {
   "cell_type": "code",
   "execution_count": 1,
   "metadata": {},
   "outputs": [],
   "source": [
    "import pandas as pd\n",
    "import numpy as np\n",
    "import re\n",
    "import datetime\n",
    "import seaborn as sns\n",
    "import matplotlib.pyplot as plt\n",
    "import string\n",
    "import nltk\n",
    "from nltk import word_tokenize\n",
    "from nltk.stem.porter import PorterStemmer\n",
    "from nltk.corpus import stopwords\n",
    "from wordcloud import WordCloud\n",
    "import matplotlib.pyplot as plt\n"
   ]
  },
  {
   "cell_type": "code",
   "execution_count": 2,
   "metadata": {},
   "outputs": [],
   "source": [
    "DIR_ = \"D:/Drive/OneDrive/Documents/MIMIC\"\n",
    "DIR = \"D:/Workspace/MIMIC_DATA/mimic-iii-clinical-database-1.4/\""
   ]
  },
  {
   "cell_type": "code",
   "execution_count": 3,
   "metadata": {},
   "outputs": [],
   "source": [
    "notes_df = pd.read_csv(DIR + \"NOTEEVENTS.csv\", low_memory=False)\n",
    "admissions_df = pd.read_csv(DIR + \"ADMISSIONS.csv\", low_memory=False)"
   ]
  },
  {
   "cell_type": "markdown",
   "metadata": {},
   "source": [
    "# Data\n",
    "## Admissions\n",
    "Conversion of times to datetime type"
   ]
  },
  {
   "cell_type": "code",
   "execution_count": 4,
   "metadata": {},
   "outputs": [],
   "source": [
    "admissions_df['ADMITTIME'] = admissions_df['ADMITTIME'].astype('datetime64[ns]')\n",
    "admissions_df['DISCHTIME'] = admissions_df['DISCHTIME'].astype('datetime64[ns]')\n",
    "admissions_df['DEATHTIME'] = admissions_df['DEATHTIME'].astype('datetime64[ns]')"
   ]
  },
  {
   "cell_type": "markdown",
   "metadata": {},
   "source": [
    "Sort by subject and admission type and reset the data frame index."
   ]
  },
  {
   "cell_type": "code",
   "execution_count": 5,
   "metadata": {},
   "outputs": [],
   "source": [
    "admissions_df = admissions_df.sort_values(['SUBJECT_ID', 'ADMITTIME'])\n",
    "admissions_df = admissions_df.reset_index(drop = True)"
   ]
  },
  {
   "cell_type": "code",
   "execution_count": 6,
   "metadata": {},
   "outputs": [],
   "source": [
    "admissions_df['NEXT_ADMITTIME'] = admissions_df.groupby('SUBJECT_ID').ADMITTIME.shift(-1)\n",
    "admissions_df['NEXT_ADMISSION_TYPE'] = admissions_df.groupby('SUBJECT_ID').ADMISSION_TYPE.shift(-1)"
   ]
  },
  {
   "cell_type": "code",
   "execution_count": 7,
   "metadata": {},
   "outputs": [],
   "source": [
    "# Update the DataFrame using .loc to avoid SettingWithCopyWarning\n",
    "admissions_df.loc[admissions_df['NEXT_ADMISSION_TYPE'] == 'ELECTIVE', 'NEXT_ADMITTIME'] = pd.NaT\n",
    "admissions_df.loc[admissions_df['NEXT_ADMISSION_TYPE'] == 'ELECTIVE', 'NEXT_ADMISSION_TYPE'] = np.NaN"
   ]
  },
  {
   "cell_type": "markdown",
   "metadata": {},
   "source": [
    "Fill NA's with the next valid value. Previously sorted."
   ]
  },
  {
   "cell_type": "code",
   "execution_count": 8,
   "metadata": {},
   "outputs": [],
   "source": [
    "admissions_df[['NEXT_ADMITTIME','NEXT_ADMISSION_TYPE']] = admissions_df.groupby(['SUBJECT_ID'])[['NEXT_ADMITTIME','NEXT_ADMISSION_TYPE']].fillna(method = 'bfill')"
   ]
  },
  {
   "cell_type": "markdown",
   "metadata": {},
   "source": [
    "Obtain days to readmission: from discharge to next readmission"
   ]
  },
  {
   "cell_type": "code",
   "execution_count": 9,
   "metadata": {},
   "outputs": [],
   "source": [
    "admissions_df['DAYS_TO_READMISSION'] = (admissions_df['NEXT_ADMITTIME'] - admissions_df['DISCHTIME']).dt.days"
   ]
  },
  {
   "cell_type": "markdown",
   "metadata": {},
   "source": [
    "## Notes"
   ]
  },
  {
   "cell_type": "code",
   "execution_count": 10,
   "metadata": {},
   "outputs": [],
   "source": [
    "discharge_notes = notes_df[notes_df['CATEGORY'] == \"Discharge summary\"]"
   ]
  },
  {
   "cell_type": "markdown",
   "metadata": {},
   "source": [
    "Take the last row per admission"
   ]
  },
  {
   "cell_type": "code",
   "execution_count": 11,
   "metadata": {},
   "outputs": [],
   "source": [
    "discharge_notes_ordered = discharge_notes.groupby(['SUBJECT_ID', 'HADM_ID']).nth(-1).reset_index()"
   ]
  },
  {
   "cell_type": "markdown",
   "metadata": {},
   "source": [
    "## Merge Notes and Admissions"
   ]
  },
  {
   "cell_type": "code",
   "execution_count": 12,
   "metadata": {},
   "outputs": [],
   "source": [
    "admissions_notes = pd.merge(\n",
    "    admissions_df[['SUBJECT_ID','HADM_ID','ADMITTIME','DISCHTIME','DAYS_TO_READMISSION','NEXT_ADMITTIME','ADMISSION_TYPE','DEATHTIME']],\n",
    "    discharge_notes_ordered[['SUBJECT_ID', 'HADM_ID', 'TEXT']], \n",
    "    on = ['SUBJECT_ID', 'HADM_ID'], how='left'\n",
    ")"
   ]
  },
  {
   "cell_type": "markdown",
   "metadata": {},
   "source": [
    "Remove NEWBORN admissions and create the target variable"
   ]
  },
  {
   "cell_type": "code",
   "execution_count": 13,
   "metadata": {},
   "outputs": [],
   "source": [
    "# Filter out 'NEWBORN' admission types\n",
    "adm_notes = admissions_notes[admissions_notes['ADMISSION_TYPE'] != 'NEWBORN'].copy()\n",
    "\n",
    "# Create the 'READM_WITHIN_30' column using .loc to avoid the warning\n",
    "adm_notes.loc[:, 'READM_WITHIN_30'] = (adm_notes['DAYS_TO_READMISSION'] < 30).astype('int')\n"
   ]
  },
  {
   "cell_type": "markdown",
   "metadata": {},
   "source": [
    "Exlude patients that died during the admission"
   ]
  },
  {
   "cell_type": "code",
   "execution_count": 14,
   "metadata": {},
   "outputs": [],
   "source": [
    "adm_notes = adm_notes.loc[adm_notes['DEATHTIME'].isnull()]\n",
    "adm_notes = adm_notes.sample(n = len(adm_notes))\n",
    "adm_notes = adm_notes.reset_index(drop = True)"
   ]
  },
  {
   "cell_type": "code",
   "execution_count": 15,
   "metadata": {},
   "outputs": [
    {
     "data": {
      "text/html": [
       "<div>\n",
       "<style scoped>\n",
       "    .dataframe tbody tr th:only-of-type {\n",
       "        vertical-align: middle;\n",
       "    }\n",
       "\n",
       "    .dataframe tbody tr th {\n",
       "        vertical-align: top;\n",
       "    }\n",
       "\n",
       "    .dataframe thead th {\n",
       "        text-align: right;\n",
       "    }\n",
       "</style>\n",
       "<table border=\"1\" class=\"dataframe\">\n",
       "  <thead>\n",
       "    <tr style=\"text-align: right;\">\n",
       "      <th></th>\n",
       "      <th>SUBJECT_ID</th>\n",
       "      <th>HADM_ID</th>\n",
       "      <th>ADMITTIME</th>\n",
       "      <th>DISCHTIME</th>\n",
       "      <th>DAYS_TO_READMISSION</th>\n",
       "      <th>NEXT_ADMITTIME</th>\n",
       "      <th>ADMISSION_TYPE</th>\n",
       "      <th>DEATHTIME</th>\n",
       "      <th>TEXT</th>\n",
       "      <th>READM_WITHIN_30</th>\n",
       "    </tr>\n",
       "  </thead>\n",
       "  <tbody>\n",
       "    <tr>\n",
       "      <th>0</th>\n",
       "      <td>78873</td>\n",
       "      <td>168759</td>\n",
       "      <td>2168-07-11 07:15:00</td>\n",
       "      <td>2168-07-15 16:00:00</td>\n",
       "      <td>NaN</td>\n",
       "      <td>NaT</td>\n",
       "      <td>ELECTIVE</td>\n",
       "      <td>NaT</td>\n",
       "      <td>Name:  [**Known lastname 18255**],[**Known fir...</td>\n",
       "      <td>0</td>\n",
       "    </tr>\n",
       "    <tr>\n",
       "      <th>1</th>\n",
       "      <td>29967</td>\n",
       "      <td>199462</td>\n",
       "      <td>2138-10-01 13:17:00</td>\n",
       "      <td>2138-10-13 14:31:00</td>\n",
       "      <td>1894.0</td>\n",
       "      <td>2143-12-21 07:20:00</td>\n",
       "      <td>EMERGENCY</td>\n",
       "      <td>NaT</td>\n",
       "      <td>Name:  [**Known lastname 4761**], [**Known fir...</td>\n",
       "      <td>0</td>\n",
       "    </tr>\n",
       "    <tr>\n",
       "      <th>2</th>\n",
       "      <td>1761</td>\n",
       "      <td>150904</td>\n",
       "      <td>2148-04-26 01:14:00</td>\n",
       "      <td>2148-05-02 11:29:00</td>\n",
       "      <td>NaN</td>\n",
       "      <td>NaT</td>\n",
       "      <td>EMERGENCY</td>\n",
       "      <td>NaT</td>\n",
       "      <td>Admission Date:  [**2148-4-26**]       Dischar...</td>\n",
       "      <td>0</td>\n",
       "    </tr>\n",
       "    <tr>\n",
       "      <th>3</th>\n",
       "      <td>88212</td>\n",
       "      <td>159322</td>\n",
       "      <td>2143-09-21 19:31:00</td>\n",
       "      <td>2143-09-24 18:29:00</td>\n",
       "      <td>NaN</td>\n",
       "      <td>NaT</td>\n",
       "      <td>EMERGENCY</td>\n",
       "      <td>NaT</td>\n",
       "      <td>Admission Date:  [**2143-9-21**]              ...</td>\n",
       "      <td>0</td>\n",
       "    </tr>\n",
       "    <tr>\n",
       "      <th>4</th>\n",
       "      <td>25659</td>\n",
       "      <td>170961</td>\n",
       "      <td>2164-10-17 18:50:00</td>\n",
       "      <td>2164-10-27 12:10:00</td>\n",
       "      <td>NaN</td>\n",
       "      <td>NaT</td>\n",
       "      <td>EMERGENCY</td>\n",
       "      <td>NaT</td>\n",
       "      <td>Name:  [**Known lastname 9245**], [**Known fir...</td>\n",
       "      <td>0</td>\n",
       "    </tr>\n",
       "    <tr>\n",
       "      <th>...</th>\n",
       "      <td>...</td>\n",
       "      <td>...</td>\n",
       "      <td>...</td>\n",
       "      <td>...</td>\n",
       "      <td>...</td>\n",
       "      <td>...</td>\n",
       "      <td>...</td>\n",
       "      <td>...</td>\n",
       "      <td>...</td>\n",
       "      <td>...</td>\n",
       "    </tr>\n",
       "    <tr>\n",
       "      <th>45316</th>\n",
       "      <td>3660</td>\n",
       "      <td>112598</td>\n",
       "      <td>2138-01-15 08:00:00</td>\n",
       "      <td>2138-01-24 14:30:00</td>\n",
       "      <td>NaN</td>\n",
       "      <td>NaT</td>\n",
       "      <td>ELECTIVE</td>\n",
       "      <td>NaT</td>\n",
       "      <td>Admission Date:  [**2138-1-15**]              ...</td>\n",
       "      <td>0</td>\n",
       "    </tr>\n",
       "    <tr>\n",
       "      <th>45317</th>\n",
       "      <td>23262</td>\n",
       "      <td>122821</td>\n",
       "      <td>2188-10-21 12:41:00</td>\n",
       "      <td>2188-10-31 14:30:00</td>\n",
       "      <td>250.0</td>\n",
       "      <td>2189-07-09 00:56:00</td>\n",
       "      <td>EMERGENCY</td>\n",
       "      <td>NaT</td>\n",
       "      <td>Admission Date:  [**2188-10-21**]             ...</td>\n",
       "      <td>0</td>\n",
       "    </tr>\n",
       "    <tr>\n",
       "      <th>45318</th>\n",
       "      <td>69176</td>\n",
       "      <td>128091</td>\n",
       "      <td>2183-06-05 13:36:00</td>\n",
       "      <td>2183-06-23 17:06:00</td>\n",
       "      <td>NaN</td>\n",
       "      <td>NaT</td>\n",
       "      <td>EMERGENCY</td>\n",
       "      <td>NaT</td>\n",
       "      <td>Admission Date:  [**2183-6-5**]              D...</td>\n",
       "      <td>0</td>\n",
       "    </tr>\n",
       "    <tr>\n",
       "      <th>45319</th>\n",
       "      <td>17804</td>\n",
       "      <td>174706</td>\n",
       "      <td>2123-05-14 07:15:00</td>\n",
       "      <td>2123-05-18 13:15:00</td>\n",
       "      <td>NaN</td>\n",
       "      <td>NaT</td>\n",
       "      <td>ELECTIVE</td>\n",
       "      <td>NaT</td>\n",
       "      <td>Admission Date:  [**2123-5-14**]              ...</td>\n",
       "      <td>0</td>\n",
       "    </tr>\n",
       "    <tr>\n",
       "      <th>45320</th>\n",
       "      <td>47410</td>\n",
       "      <td>114394</td>\n",
       "      <td>2162-12-23 18:02:00</td>\n",
       "      <td>2162-12-25 14:00:00</td>\n",
       "      <td>NaN</td>\n",
       "      <td>NaT</td>\n",
       "      <td>EMERGENCY</td>\n",
       "      <td>NaT</td>\n",
       "      <td>Admission Date:  [**2162-12-23**]             ...</td>\n",
       "      <td>0</td>\n",
       "    </tr>\n",
       "  </tbody>\n",
       "</table>\n",
       "<p>45321 rows × 10 columns</p>\n",
       "</div>"
      ],
      "text/plain": [
       "       SUBJECT_ID  HADM_ID           ADMITTIME           DISCHTIME  \\\n",
       "0           78873   168759 2168-07-11 07:15:00 2168-07-15 16:00:00   \n",
       "1           29967   199462 2138-10-01 13:17:00 2138-10-13 14:31:00   \n",
       "2            1761   150904 2148-04-26 01:14:00 2148-05-02 11:29:00   \n",
       "3           88212   159322 2143-09-21 19:31:00 2143-09-24 18:29:00   \n",
       "4           25659   170961 2164-10-17 18:50:00 2164-10-27 12:10:00   \n",
       "...           ...      ...                 ...                 ...   \n",
       "45316        3660   112598 2138-01-15 08:00:00 2138-01-24 14:30:00   \n",
       "45317       23262   122821 2188-10-21 12:41:00 2188-10-31 14:30:00   \n",
       "45318       69176   128091 2183-06-05 13:36:00 2183-06-23 17:06:00   \n",
       "45319       17804   174706 2123-05-14 07:15:00 2123-05-18 13:15:00   \n",
       "45320       47410   114394 2162-12-23 18:02:00 2162-12-25 14:00:00   \n",
       "\n",
       "       DAYS_TO_READMISSION      NEXT_ADMITTIME ADMISSION_TYPE DEATHTIME  \\\n",
       "0                      NaN                 NaT       ELECTIVE       NaT   \n",
       "1                   1894.0 2143-12-21 07:20:00      EMERGENCY       NaT   \n",
       "2                      NaN                 NaT      EMERGENCY       NaT   \n",
       "3                      NaN                 NaT      EMERGENCY       NaT   \n",
       "4                      NaN                 NaT      EMERGENCY       NaT   \n",
       "...                    ...                 ...            ...       ...   \n",
       "45316                  NaN                 NaT       ELECTIVE       NaT   \n",
       "45317                250.0 2189-07-09 00:56:00      EMERGENCY       NaT   \n",
       "45318                  NaN                 NaT      EMERGENCY       NaT   \n",
       "45319                  NaN                 NaT       ELECTIVE       NaT   \n",
       "45320                  NaN                 NaT      EMERGENCY       NaT   \n",
       "\n",
       "                                                    TEXT  READM_WITHIN_30  \n",
       "0      Name:  [**Known lastname 18255**],[**Known fir...                0  \n",
       "1      Name:  [**Known lastname 4761**], [**Known fir...                0  \n",
       "2      Admission Date:  [**2148-4-26**]       Dischar...                0  \n",
       "3      Admission Date:  [**2143-9-21**]              ...                0  \n",
       "4      Name:  [**Known lastname 9245**], [**Known fir...                0  \n",
       "...                                                  ...              ...  \n",
       "45316  Admission Date:  [**2138-1-15**]              ...                0  \n",
       "45317  Admission Date:  [**2188-10-21**]             ...                0  \n",
       "45318  Admission Date:  [**2183-6-5**]              D...                0  \n",
       "45319  Admission Date:  [**2123-5-14**]              ...                0  \n",
       "45320  Admission Date:  [**2162-12-23**]             ...                0  \n",
       "\n",
       "[45321 rows x 10 columns]"
      ]
     },
     "execution_count": 15,
     "metadata": {},
     "output_type": "execute_result"
    }
   ],
   "source": [
    "adm_notes"
   ]
  },
  {
   "cell_type": "code",
   "execution_count": 16,
   "metadata": {},
   "outputs": [],
   "source": [
    "adm_notes.to_csv(DIR + 'readmission.csv', index=False)"
   ]
  },
  {
   "cell_type": "code",
   "execution_count": 17,
   "metadata": {},
   "outputs": [
    {
     "data": {
      "text/plain": [
       "'!\"#$%&\\'()*+,-./:;<=>?@[\\\\]^_`{|}~'"
      ]
     },
     "execution_count": 17,
     "metadata": {},
     "output_type": "execute_result"
    }
   ],
   "source": [
    "string.punctuation"
   ]
  },
  {
   "cell_type": "code",
   "execution_count": 18,
   "metadata": {},
   "outputs": [],
   "source": [
    "def clean_text(texts):\n",
    "    texts = texts.fillna(' ')\n",
    "    texts = texts.str.replace('\\n',' ')\n",
    "    texts = texts.str.replace('\\r',' ')\n",
    "\n",
    "    table = str.maketrans('', '', string.punctuation + '0123456789')\n",
    "    texts = [text.lower().translate(table) for text in texts]\n",
    "\n",
    "    return texts"
   ]
  },
  {
   "cell_type": "code",
   "execution_count": 19,
   "metadata": {},
   "outputs": [],
   "source": [
    "adm_notes['TEXT'] = clean_text(adm_notes['TEXT'])"
   ]
  },
  {
   "cell_type": "code",
   "execution_count": 20,
   "metadata": {},
   "outputs": [
    {
     "data": {
      "image/png": "[encoded data removed]",
      "text/plain": [
       "<Figure size 1000x500 with 1 Axes>"
      ]
     },
     "metadata": {},
     "output_type": "display_data"
    }
   ],
   "source": [
    "# Define the stop words\n",
    "stop_words = stopwords.words('english')\n",
    "custom_stop_words = ['patient', 'date', 'admission', 'discharge', 'lastname', 'firstname', 'sex','do','eat']\n",
    "stop_words.extend(custom_stop_words)\n",
    "\n",
    "# Sample text (replace this with your actual text data)\n",
    "text = \"Your text data here. Include any sample text you'd like to analyze for the word cloud.\"\n",
    "\n",
    "# Create the word cloud\n",
    "wordcloud = WordCloud(stopwords=stop_words, background_color=\"white\", width=1000, height=600).generate(text)\n",
    "\n",
    "# Display the word cloud using Matplotlib\n",
    "plt.figure(figsize=(10, 5))\n",
    "plt.imshow(wordcloud, interpolation='bilinear')\n",
    "plt.axis(\"off\")\n",
    "plt.show()"
   ]
  },
  {
   "cell_type": "code",
   "execution_count": 21,
   "metadata": {},
   "outputs": [],
   "source": [
    "porter = PorterStemmer()"
   ]
  },
  {
   "cell_type": "code",
   "execution_count": 22,
   "metadata": {},
   "outputs": [],
   "source": [
    "def tokenize_stem(text):\n",
    "    words = word_tokenize(text)\n",
    "    words = [word for word in words if word not in stop_words]\n",
    "    words = [porter.stem(word) for word in words]\n",
    "    return words"
   ]
  },
  {
   "cell_type": "code",
   "execution_count": 23,
   "metadata": {},
   "outputs": [
    {
     "name": "stdout",
     "output_type": "stream",
     "text": [
      "2963\n",
      "45321\n"
     ]
    }
   ],
   "source": [
    "print(sum(adm_notes['READM_WITHIN_30'] == 1) )\n",
    "print(len(adm_notes['READM_WITHIN_30']))"
   ]
  }
 ],
 "metadata": {
  "file_extension": ".py",
  "kernelspec": {
   "display_name": "Python 3 (ipykernel)",
   "language": "python",
   "name": "python3"
  },
  "language_info": {
   "codemirror_mode": {
    "name": "ipython",
    "version": 3
   },
   "file_extension": ".py",
   "mimetype": "text/x-python",
   "name": "python",
   "nbconvert_exporter": "python",
   "pygments_lexer": "ipython3",
   "version": "3.9.13"
  },
  "mimetype": "text/x-python",
  "name": "python",
  "npconvert_exporter": "python",
  "pygments_lexer": "ipython3",
  "version": 3
 },
 "nbformat": 4,
 "nbformat_minor": 2
}
