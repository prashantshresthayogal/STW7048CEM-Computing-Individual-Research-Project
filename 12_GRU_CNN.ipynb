{
 "cells": [
  {
   "cell_type": "code",
   "execution_count": 1,
   "metadata": {
    "colab": {},
    "colab_type": "code",
    "id": "7OgnAuJpjEPQ"
   },
   "outputs": [],
   "source": [
    "import pandas as pd\n",
    "import numpy as np\n",
    "import re\n",
    "import datetime\n",
    "import seaborn as sns\n",
    "from matplotlib import pyplot as plt\n"
   ]
  },
  {
   "cell_type": "code",
   "execution_count": 2,
   "metadata": {
    "colab": {},
    "colab_type": "code",
    "id": "kua5IBPcjEPY"
   },
   "outputs": [],
   "source": [
    "DIR_ = \"D:/Drive/OneDrive/Documents/MIMIC\"\n",
    "DIR = \"D:/Workspace/MIMIC_DATA/mimic-iii-clinical-database-1.4/\""
   ]
  },
  {
   "cell_type": "code",
   "execution_count": 3,
   "metadata": {
    "colab": {},
    "colab_type": "code",
    "id": "mUya8neejEPe"
   },
   "outputs": [],
   "source": [
    "adm_notes = pd.read_csv(DIR + \"readmission.csv\", low_memory=False)"
   ]
  },
  {
   "cell_type": "code",
   "execution_count": 4,
   "metadata": {
    "colab": {
     "base_uri": "https://localhost:8080/",
     "height": 357
    },
    "colab_type": "code",
    "id": "anxk1El4uu_i",
    "outputId": "f37727a8-3c9e-4694-f24f-af0b3912df41"
   },
   "outputs": [
    {
     "name": "stderr",
     "output_type": "stream",
     "text": [
      "'nvidia-smi' is not recognized as an internal or external command,\n",
      "operable program or batch file.\n"
     ]
    }
   ],
   "source": [
    "!nvidia-smi"
   ]
  },
  {
   "cell_type": "markdown",
   "metadata": {
    "colab_type": "text",
    "id": "wVGx2JTOjEPi"
   },
   "source": [
    "# Natural Language"
   ]
  },
  {
   "cell_type": "code",
   "execution_count": 5,
   "metadata": {
    "colab": {},
    "colab_type": "code",
    "id": "-eSp2rKYjEPj"
   },
   "outputs": [],
   "source": [
    "import string\n",
    "import nltk\n",
    "from nltk import word_tokenize\n",
    "from nltk.stem.porter import PorterStemmer\n",
    "from nltk.corpus import stopwords"
   ]
  },
  {
   "cell_type": "code",
   "execution_count": 6,
   "metadata": {
    "colab": {},
    "colab_type": "code",
    "id": "5rxvNB8QjEPo"
   },
   "outputs": [],
   "source": [
    "def clean_text(texts):\n",
    "    texts = texts.fillna(' ')\n",
    "    texts = texts.str.replace('\\n',' ')\n",
    "    texts = texts.str.replace('\\r',' ')\n",
    "\n",
    "    table = str.maketrans('', '', string.punctuation + '0123456789')\n",
    "    texts = [text.lower().translate(table) for text in texts]\n",
    "\n",
    "    return texts"
   ]
  },
  {
   "cell_type": "code",
   "execution_count": 7,
   "metadata": {
    "colab": {},
    "colab_type": "code",
    "id": "21E4eXpFjEPt"
   },
   "outputs": [],
   "source": [
    "adm_notes['TEXT'] = clean_text(adm_notes['TEXT'])"
   ]
  },
  {
   "cell_type": "code",
   "execution_count": 8,
   "metadata": {
    "colab": {
     "base_uri": "https://localhost:8080/",
     "height": 102
    },
    "colab_type": "code",
    "id": "VWRV-T4ewLvK",
    "outputId": "946a3885-6cfe-4f75-e232-ac9b650c4f55"
   },
   "outputs": [
    {
     "name": "stderr",
     "output_type": "stream",
     "text": [
      "[nltk_data] Downloading package punkt to\n",
      "[nltk_data]     C:\\Users\\Dell\\AppData\\Roaming\\nltk_data...\n",
      "[nltk_data]   Package punkt is already up-to-date!\n",
      "[nltk_data] Downloading package stopwords to\n",
      "[nltk_data]     C:\\Users\\Dell\\AppData\\Roaming\\nltk_data...\n",
      "[nltk_data]   Package stopwords is already up-to-date!\n"
     ]
    },
    {
     "data": {
      "text/plain": [
       "True"
      ]
     },
     "execution_count": 8,
     "metadata": {},
     "output_type": "execute_result"
    }
   ],
   "source": [
    "nltk.download('punkt')\n",
    "nltk.download('stopwords')"
   ]
  },
  {
   "cell_type": "code",
   "execution_count": 9,
   "metadata": {
    "colab": {},
    "colab_type": "code",
    "id": "G3JaQ3fJjEPx"
   },
   "outputs": [],
   "source": [
    "stop_words = stopwords.words('english')\n",
    "stop_words = stop_words + ['patient', 'date', 'admission', 'discharge', 'lastname', 'firstname', 'sex']"
   ]
  },
  {
   "cell_type": "code",
   "execution_count": 10,
   "metadata": {
    "colab": {},
    "colab_type": "code",
    "id": "A12dNl0djEP2"
   },
   "outputs": [],
   "source": [
    "porter = PorterStemmer()"
   ]
  },
  {
   "cell_type": "code",
   "execution_count": 11,
   "metadata": {
    "colab": {},
    "colab_type": "code",
    "id": "ngzwTfGejEP6"
   },
   "outputs": [],
   "source": [
    "def tokenize_stem(text):\n",
    "    words = word_tokenize(text)\n",
    "    words = [word for word in words if word not in stop_words]\n",
    "    words = [porter.stem(word) for word in words]\n",
    "    return words"
   ]
  },
  {
   "cell_type": "code",
   "execution_count": 12,
   "metadata": {
    "colab": {},
    "colab_type": "code",
    "id": "gt9quJSrB3zn"
   },
   "outputs": [],
   "source": [
    "for i, text in enumerate(adm_notes['TEXT']):\n",
    "   adm_notes.loc[i, 'TEXT'] = (' ').join(tokenize_stem(adm_notes['TEXT'][i]))"
   ]
  },
  {
   "cell_type": "markdown",
   "metadata": {
    "colab_type": "text",
    "id": "UCpZCmD0jEP-"
   },
   "source": [
    "# Model\n",
    "## Words, Train and Test"
   ]
  },
  {
   "cell_type": "code",
   "execution_count": 13,
   "metadata": {
    "colab": {},
    "colab_type": "code",
    "id": "ehkOkbR-jEP_"
   },
   "outputs": [],
   "source": [
    "from sklearn.feature_extraction.text import CountVectorizer\n",
    "from sklearn.model_selection import train_test_split"
   ]
  },
  {
   "cell_type": "markdown",
   "metadata": {
    "colab_type": "text",
    "id": "EKUfyfFLjEQD"
   },
   "source": [
    "Repartition data"
   ]
  },
  {
   "cell_type": "code",
   "execution_count": 14,
   "metadata": {
    "colab": {},
    "colab_type": "code",
    "id": "LGDUXsUcjEQE"
   },
   "outputs": [],
   "source": [
    "df_train, df_test = train_test_split(adm_notes, test_size=0.2, random_state=42)"
   ]
  },
  {
   "cell_type": "markdown",
   "metadata": {
    "colab_type": "text",
    "id": "ADSXuj_wjEQI"
   },
   "source": [
    "Subsample non-readmitted patients to match size of readmitted ones"
   ]
  },
  {
   "cell_type": "code",
   "execution_count": 15,
   "metadata": {
    "colab": {},
    "colab_type": "code",
    "id": "90ZfPmgcjEQJ"
   },
   "outputs": [],
   "source": [
    "rows_pos = df_train['READM_WITHIN_30'] == 1\n",
    "df_train_pos = df_train.loc[rows_pos]\n",
    "df_train_neg = df_train.loc[~rows_pos]\n",
    "\n",
    "df_train = pd.concat([df_train_pos, df_train_neg.sample(n = len(df_train_pos))], axis = 0)\n",
    "df_train = df_train.sample(n = len(df_train)).reset_index(drop = True)"
   ]
  },
  {
   "cell_type": "code",
   "execution_count": 16,
   "metadata": {
    "colab": {},
    "colab_type": "code",
    "id": "xKRSSvW6jEQN"
   },
   "outputs": [],
   "source": [
    "rows_pos = df_test['READM_WITHIN_30'] == 1\n",
    "df_test_pos = df_test.loc[rows_pos]\n",
    "df_test_neg = df_test.loc[~rows_pos]\n",
    "\n",
    "df_test = pd.concat([df_test_pos, df_test_neg.sample(n = len(df_test_pos))], axis = 0)\n",
    "df_test = df_test.sample(n = len(df_test)).reset_index(drop = True)"
   ]
  },
  {
   "cell_type": "code",
   "execution_count": 17,
   "metadata": {
    "colab": {
     "base_uri": "https://localhost:8080/",
     "height": 51
    },
    "colab_type": "code",
    "id": "UT6P7kmvjEQR",
    "outputId": "06c65184-fa2c-4bea-c569-2a3ac819a00c"
   },
   "outputs": [
    {
     "name": "stdout",
     "output_type": "stream",
     "text": [
      "(4724, 10)\n",
      "(1202, 10)\n"
     ]
    }
   ],
   "source": [
    "print(df_train.shape)\n",
    "print(df_test.shape)"
   ]
  },
  {
   "cell_type": "markdown",
   "metadata": {
    "colab_type": "text",
    "id": "hs4rAD9djEQW"
   },
   "source": [
    "Sparse Matrix with word count"
   ]
  },
  {
   "cell_type": "markdown",
   "metadata": {
    "colab_type": "text",
    "id": "kr1gCKmGjEQa"
   },
   "source": [
    "# Recurrent Neural Network"
   ]
  },
  {
   "cell_type": "code",
   "execution_count": 18,
   "metadata": {
    "colab": {
     "base_uri": "https://localhost:8080/",
     "height": 34
    },
    "colab_type": "code",
    "id": "qCin9gZFjEQb",
    "outputId": "263ade4f-3cc5-47d0-d620-12b11938ab90"
   },
   "outputs": [],
   "source": [
    "from tensorflow.keras.models import Sequential, load_model\n",
    "from tensorflow.keras.layers import LSTM, Dense, Dropout, Embedding, Conv1D, MaxPooling1D, SpatialDropout1D,GRU, Dense\n",
    "from tensorflow.keras.optimizers import RMSprop, Adam\n",
    "from tensorflow.keras.utils import to_categorical\n",
    "from tensorflow.keras.callbacks import ModelCheckpoint\n",
    "from tensorflow.keras.preprocessing.text import Tokenizer\n",
    "from tensorflow.keras.preprocessing.sequence import pad_sequences\n",
    "\n",
    "\n",
    "import tensorflow as tf"
   ]
  },
  {
   "cell_type": "code",
   "execution_count": 19,
   "metadata": {
    "colab": {},
    "colab_type": "code",
    "id": "az3bfsS_-FOr"
   },
   "outputs": [],
   "source": [
    "NUMBER_WORDS = 5000\n",
    "\n",
    "tokenizer = Tokenizer(num_words=NUMBER_WORDS)\n",
    "tokenizer.fit_on_texts(df_train['TEXT'])\n",
    "sequences_train = tokenizer.texts_to_sequences(df_train['TEXT'])\n",
    "sequences_test = tokenizer.texts_to_sequences(df_test['TEXT'])\n",
    "\n",
    "X_train = pad_sequences(sequences_train, maxlen=NUMBER_WORDS)\n",
    "X_test = pad_sequences(sequences_test, maxlen=NUMBER_WORDS)"
   ]
  },
  {
   "cell_type": "code",
   "execution_count": 20,
   "metadata": {
    "colab": {},
    "colab_type": "code",
    "id": "AZo6vNQAN5mQ"
   },
   "outputs": [],
   "source": [
    "y_train = to_categorical(df_train['READM_WITHIN_30'])\n",
    "y_test = to_categorical(df_test['READM_WITHIN_30'])"
   ]
  },
  {
   "cell_type": "code",
   "execution_count": 21,
   "metadata": {
    "colab": {},
    "colab_type": "code",
    "id": "ewiT3ZwjNNft"
   },
   "outputs": [],
   "source": [
    "adam = Adam(learning_rate=0.00001)"
   ]
  },
  {
   "cell_type": "code",
   "execution_count": 22,
   "metadata": {},
   "outputs": [
    {
     "name": "stdout",
     "output_type": "stream",
     "text": [
      "Model: \"sequential\"\n",
      "_________________________________________________________________\n",
      " Layer (type)                Output Shape              Param #   \n",
      "=================================================================\n",
      " embedding (Embedding)       (None, 5000, 128)         640000    \n",
      "                                                                 \n",
      " conv1d (Conv1D)             (None, 4996, 128)         82048     \n",
      "                                                                 \n",
      " max_pooling1d (MaxPooling1D  (None, 1249, 128)        0         \n",
      " )                                                               \n",
      "                                                                 \n",
      " gru (GRU)                   (None, 128)               99072     \n",
      "                                                                 \n",
      " dense (Dense)               (None, 2)                 258       \n",
      "                                                                 \n",
      "=================================================================\n",
      "Total params: 821,378\n",
      "Trainable params: 821,378\n",
      "Non-trainable params: 0\n",
      "_________________________________________________________________\n"
     ]
    }
   ],
   "source": [
    "\n",
    "\n",
    "# Define the model\n",
    "model = Sequential()\n",
    "\n",
    "model.add(Embedding(input_dim=X_train.shape[1], output_dim=128, input_length=X_train.shape[1]))\n",
    "model.add(Conv1D(128, 5, padding='valid', activation='relu', strides=1))\n",
    "model.add(MaxPooling1D(pool_size=4))\n",
    "model.add(GRU(128, dropout=0.2))\n",
    "model.add(Dense(2, activation='sigmoid'))\n",
    "\n",
    "# Define the optimizer\n",
    "adam = Adam()\n",
    "\n",
    "# Compile the model\n",
    "model.compile(loss='categorical_crossentropy', optimizer=adam, metrics=['accuracy'])\n",
    "\n",
    "# Print the model summary\n",
    "model.summary()\n"
   ]
  },
  {
   "cell_type": "code",
   "execution_count": 23,
   "metadata": {
    "colab": {
     "base_uri": "https://localhost:8080/",
     "height": 644
    },
    "colab_type": "code",
    "id": "-KvABDaEdOav",
    "outputId": "dfc793f4-da69-40ec-fe68-a64a1e20e4ff"
   },
   "outputs": [
    {
     "data": {
      "image/png": "[encoded data removed]",
      "text/plain": [
       "<IPython.core.display.Image object>"
      ]
     },
     "execution_count": 23,
     "metadata": {},
     "output_type": "execute_result"
    }
   ],
   "source": [
    "from keras.utils.vis_utils import plot_model\n",
    "\n",
    "plot_model(model, show_shapes=True, show_layer_names=False)"
   ]
  },
  {
   "cell_type": "code",
   "execution_count": 24,
   "metadata": {
    "colab": {
     "base_uri": "https://localhost:8080/",
     "height": 1000
    },
    "colab_type": "code",
    "id": "4gbF3pyHjEQk",
    "outputId": "dd45fb52-cef7-410e-e93a-874f5a991c98"
   },
   "outputs": [
    {
     "name": "stdout",
     "output_type": "stream",
     "text": [
      "Epoch 1/50\n",
      "60/60 [==============================] - 437s 7s/step - loss: 0.6876 - accuracy: 0.5494 - val_loss: 0.6883 - val_accuracy: 0.5524\n",
      "Epoch 2/50\n",
      "60/60 [==============================] - 485s 8s/step - loss: 0.6640 - accuracy: 0.6205 - val_loss: 0.7032 - val_accuracy: 0.5598\n",
      "Epoch 3/50\n",
      "60/60 [==============================] - 523s 9s/step - loss: 0.6094 - accuracy: 0.6790 - val_loss: 0.7701 - val_accuracy: 0.5735\n",
      "Epoch 4/50\n",
      "60/60 [==============================] - 529s 9s/step - loss: 0.5140 - accuracy: 0.7388 - val_loss: 0.8079 - val_accuracy: 0.5556\n",
      "Epoch 5/50\n",
      "60/60 [==============================] - 523s 9s/step - loss: 0.3677 - accuracy: 0.8351 - val_loss: 1.0626 - val_accuracy: 0.5407\n",
      "Epoch 6/50\n",
      "60/60 [==============================] - 504s 8s/step - loss: 0.2846 - accuracy: 0.8772 - val_loss: 1.2325 - val_accuracy: 0.5492\n",
      "Epoch 7/50\n",
      "60/60 [==============================] - 506s 8s/step - loss: 0.2048 - accuracy: 0.9166 - val_loss: 1.3919 - val_accuracy: 0.5503\n",
      "Epoch 8/50\n",
      "60/60 [==============================] - 501s 8s/step - loss: 0.1398 - accuracy: 0.9444 - val_loss: 1.5297 - val_accuracy: 0.5534\n",
      "Epoch 9/50\n",
      "60/60 [==============================] - 518s 9s/step - loss: 0.1469 - accuracy: 0.9375 - val_loss: 1.6618 - val_accuracy: 0.5471\n",
      "Epoch 10/50\n",
      "60/60 [==============================] - 506s 8s/step - loss: 0.0848 - accuracy: 0.9651 - val_loss: 1.7669 - val_accuracy: 0.5354\n",
      "Epoch 11/50\n",
      "60/60 [==============================] - 518s 9s/step - loss: 0.0663 - accuracy: 0.9743 - val_loss: 2.0906 - val_accuracy: 0.5429\n",
      "Epoch 12/50\n",
      "60/60 [==============================] - 518s 9s/step - loss: 0.0752 - accuracy: 0.9669 - val_loss: 2.0771 - val_accuracy: 0.5450\n",
      "Epoch 13/50\n",
      "60/60 [==============================] - 517s 9s/step - loss: 0.0484 - accuracy: 0.9812 - val_loss: 2.6488 - val_accuracy: 0.5397\n",
      "Epoch 14/50\n",
      "60/60 [==============================] - 524s 9s/step - loss: 0.0623 - accuracy: 0.9775 - val_loss: 1.9811 - val_accuracy: 0.5418\n",
      "Epoch 15/50\n",
      "60/60 [==============================] - 519s 9s/step - loss: 0.0447 - accuracy: 0.9823 - val_loss: 2.3407 - val_accuracy: 0.5302\n",
      "Epoch 16/50\n",
      "60/60 [==============================] - 515s 9s/step - loss: 0.0383 - accuracy: 0.9820 - val_loss: 2.4734 - val_accuracy: 0.5302\n",
      "Epoch 17/50\n",
      "60/60 [==============================] - 504s 8s/step - loss: 0.0330 - accuracy: 0.9841 - val_loss: 2.6340 - val_accuracy: 0.5238\n",
      "Epoch 18/50\n",
      "60/60 [==============================] - 501s 8s/step - loss: 0.0391 - accuracy: 0.9847 - val_loss: 2.4088 - val_accuracy: 0.5333\n",
      "Epoch 19/50\n",
      "60/60 [==============================] - 512s 9s/step - loss: 0.0428 - accuracy: 0.9815 - val_loss: 2.4932 - val_accuracy: 0.5238\n",
      "Epoch 20/50\n",
      "60/60 [==============================] - 514s 9s/step - loss: 0.0319 - accuracy: 0.9857 - val_loss: 2.6890 - val_accuracy: 0.5397\n",
      "Epoch 21/50\n",
      "60/60 [==============================] - 508s 8s/step - loss: 0.0402 - accuracy: 0.9817 - val_loss: 2.6079 - val_accuracy: 0.5418\n",
      "Epoch 22/50\n",
      "60/60 [==============================] - 516s 9s/step - loss: 0.0417 - accuracy: 0.9823 - val_loss: 2.3552 - val_accuracy: 0.5524\n",
      "Epoch 23/50\n",
      "60/60 [==============================] - 512s 9s/step - loss: 0.0308 - accuracy: 0.9868 - val_loss: 2.7981 - val_accuracy: 0.5365\n",
      "Epoch 24/50\n",
      "60/60 [==============================] - 519s 9s/step - loss: 0.0374 - accuracy: 0.9836 - val_loss: 2.6369 - val_accuracy: 0.5429\n",
      "Epoch 25/50\n",
      "60/60 [==============================] - 517s 9s/step - loss: 0.0337 - accuracy: 0.9815 - val_loss: 2.7721 - val_accuracy: 0.5471\n",
      "Epoch 26/50\n",
      "60/60 [==============================] - 542s 9s/step - loss: 0.0238 - accuracy: 0.9884 - val_loss: 2.7719 - val_accuracy: 0.5524\n",
      "Epoch 27/50\n",
      "60/60 [==============================] - 514s 9s/step - loss: 0.0450 - accuracy: 0.9809 - val_loss: 2.9763 - val_accuracy: 0.5577\n",
      "Epoch 28/50\n",
      "60/60 [==============================] - 516s 9s/step - loss: 0.0374 - accuracy: 0.9841 - val_loss: 2.7677 - val_accuracy: 0.5429\n",
      "Epoch 29/50\n",
      "60/60 [==============================] - 522s 9s/step - loss: 0.0398 - accuracy: 0.9844 - val_loss: 2.8199 - val_accuracy: 0.5323\n",
      "Epoch 30/50\n",
      "60/60 [==============================] - 516s 9s/step - loss: 0.0336 - accuracy: 0.9854 - val_loss: 2.7554 - val_accuracy: 0.5323\n",
      "Epoch 31/50\n",
      "60/60 [==============================] - 515s 9s/step - loss: 0.0304 - accuracy: 0.9881 - val_loss: 2.7975 - val_accuracy: 0.5291\n",
      "Epoch 32/50\n",
      "60/60 [==============================] - 516s 9s/step - loss: 0.0386 - accuracy: 0.9849 - val_loss: 2.7735 - val_accuracy: 0.5386\n",
      "Epoch 33/50\n",
      "60/60 [==============================] - 519s 9s/step - loss: 0.0318 - accuracy: 0.9862 - val_loss: 2.8909 - val_accuracy: 0.5206\n",
      "Epoch 34/50\n",
      "60/60 [==============================] - 511s 9s/step - loss: 0.0263 - accuracy: 0.9881 - val_loss: 2.8335 - val_accuracy: 0.5386\n",
      "Epoch 35/50\n",
      "60/60 [==============================] - 514s 9s/step - loss: 0.0221 - accuracy: 0.9894 - val_loss: 3.1413 - val_accuracy: 0.5312\n",
      "Epoch 36/50\n",
      "60/60 [==============================] - 512s 9s/step - loss: 0.0224 - accuracy: 0.9894 - val_loss: 3.2336 - val_accuracy: 0.5354\n",
      "Epoch 37/50\n",
      "60/60 [==============================] - 513s 9s/step - loss: 0.0205 - accuracy: 0.9897 - val_loss: 3.4139 - val_accuracy: 0.5312\n",
      "Epoch 38/50\n",
      "60/60 [==============================] - 515s 9s/step - loss: 0.0197 - accuracy: 0.9897 - val_loss: 3.6009 - val_accuracy: 0.5280\n",
      "Epoch 39/50\n",
      "60/60 [==============================] - 506s 8s/step - loss: 0.0196 - accuracy: 0.9897 - val_loss: 3.7760 - val_accuracy: 0.5302\n",
      "Epoch 40/50\n",
      "60/60 [==============================] - 506s 8s/step - loss: 0.0268 - accuracy: 0.9870 - val_loss: 2.8784 - val_accuracy: 0.5386\n",
      "Epoch 41/50\n",
      "60/60 [==============================] - 507s 8s/step - loss: 0.0269 - accuracy: 0.9870 - val_loss: 3.0006 - val_accuracy: 0.5333\n",
      "Epoch 42/50\n",
      "60/60 [==============================] - 505s 8s/step - loss: 0.0453 - accuracy: 0.9804 - val_loss: 2.9569 - val_accuracy: 0.5407\n",
      "Epoch 43/50\n",
      "60/60 [==============================] - 500s 8s/step - loss: 0.0432 - accuracy: 0.9823 - val_loss: 2.7827 - val_accuracy: 0.5365\n",
      "Epoch 44/50\n",
      "60/60 [==============================] - 503s 8s/step - loss: 0.0442 - accuracy: 0.9804 - val_loss: 2.4415 - val_accuracy: 0.5460\n",
      "Epoch 45/50\n",
      "60/60 [==============================] - 502s 8s/step - loss: 0.0297 - accuracy: 0.9862 - val_loss: 2.7326 - val_accuracy: 0.5492\n",
      "Epoch 46/50\n",
      "60/60 [==============================] - 501s 8s/step - loss: 0.0254 - accuracy: 0.9886 - val_loss: 3.0118 - val_accuracy: 0.5429\n",
      "Epoch 47/50\n",
      "60/60 [==============================] - 509s 8s/step - loss: 0.0204 - accuracy: 0.9897 - val_loss: 3.2653 - val_accuracy: 0.5376\n",
      "Epoch 48/50\n",
      "60/60 [==============================] - 501s 8s/step - loss: 0.0220 - accuracy: 0.9894 - val_loss: 3.2156 - val_accuracy: 0.5376\n",
      "Epoch 49/50\n",
      "60/60 [==============================] - 499s 8s/step - loss: 0.0240 - accuracy: 0.9897 - val_loss: 3.1692 - val_accuracy: 0.5376\n",
      "Epoch 50/50\n",
      "60/60 [==============================] - 504s 8s/step - loss: 0.0194 - accuracy: 0.9897 - val_loss: 3.3097 - val_accuracy: 0.5439\n"
     ]
    }
   ],
   "source": [
    "history = model.fit(X_train, y_train, epochs = 50, batch_size = 64, validation_split=0.2)"
   ]
  },
  {
   "cell_type": "code",
   "execution_count": 25,
   "metadata": {
    "colab": {
     "base_uri": "https://localhost:8080/",
     "height": 68
    },
    "colab_type": "code",
    "id": "A2sf4-u84RnY",
    "outputId": "1050f265-daf7-4a20-da6f-4b1cf7d6a057"
   },
   "outputs": [
    {
     "name": "stdout",
     "output_type": "stream",
     "text": [
      "['loss', 'accuracy']\n",
      "19/19 [==============================] - 15s 783ms/step - loss: 3.2710 - accuracy: 0.5724\n"
     ]
    },
    {
     "data": {
      "text/plain": [
       "[3.271000623703003, 0.5723793506622314]"
      ]
     },
     "execution_count": 25,
     "metadata": {},
     "output_type": "execute_result"
    }
   ],
   "source": [
    "print(model.metrics_names)\n",
    "model.evaluate(X_test, y_test, batch_size=64)"
   ]
  },
  {
   "cell_type": "code",
   "execution_count": 26,
   "metadata": {
    "colab": {
     "base_uri": "https://localhost:8080/",
     "height": 204
    },
    "colab_type": "code",
    "id": "Ssi-oagJuEIT",
    "outputId": "e4e5246f-0030-4def-e825-d12ec259c330"
   },
   "outputs": [
    {
     "name": "stdout",
     "output_type": "stream",
     "text": [
      "19/19 [==============================] - 16s 784ms/step\n",
      "              precision    recall  f1-score   support\n",
      "\n",
      "           0      0.575     0.557     0.566       601\n",
      "           1      0.570     0.587     0.579       601\n",
      "\n",
      "    accuracy                          0.572      1202\n",
      "   macro avg      0.572     0.572     0.572      1202\n",
      "weighted avg      0.572     0.572     0.572      1202\n",
      "\n",
      "0.5723793677204658\n"
     ]
    }
   ],
   "source": [
    "from sklearn.metrics import classification_report, roc_auc_score\n",
    "\n",
    "y_pred = model.predict(X_test, batch_size=64, verbose=1)\n",
    "y_pred = np.argmax(y_pred, axis=1)\n",
    "\n",
    "y_test_raw = df_test['READM_WITHIN_30']\n",
    "\n",
    "print(classification_report(y_test_raw, y_pred, digits=3))\n",
    "print(roc_auc_score(y_test_raw, y_pred))"
   ]
  },
  {
   "cell_type": "code",
   "execution_count": 27,
   "metadata": {
    "colab": {
     "base_uri": "https://localhost:8080/",
     "height": 292
    },
    "colab_type": "code",
    "id": "SGWn_I8IAS_f",
    "outputId": "f3f92ff1-86cb-4001-ea34-5df87508dbcc"
   },
   "outputs": [
    {
     "data": {
      "image/png": "[encoded data removed]",
      "text/plain": [
       "<Figure size 900x400 with 2 Axes>"
      ]
     },
     "metadata": {},
     "output_type": "display_data"
    }
   ],
   "source": [
    "sns.set('talk', 'whitegrid', 'dark', font_scale=0.7,\n",
    "        rc={\"lines.linewidth\": 1, 'grid.linestyle': '--'})\n",
    "\n",
    "fig, ax = plt.subplots(nrows=1, ncols=2, figsize=(9, 4))\n",
    "\n",
    "ax[0].plot(history.history['accuracy'])\n",
    "ax[0].plot(history.history['val_accuracy'])\n",
    "ax[0].set_title('Model accuracy')\n",
    "ax[0].set_ylabel('Accuracy')\n",
    "ax[0].set_xlabel('Epoch')\n",
    "ax[0].legend(['Train', 'Test'], loc='upper left')\n",
    "\n",
    "ax[1].plot(history.history['loss'])\n",
    "ax[1].plot(history.history['val_loss'])\n",
    "ax[1].set_title('Model loss')\n",
    "ax[1].set_ylabel('Loss')\n",
    "ax[1].set_xlabel('Epoch')\n",
    "ax[1].legend(['Train', 'Test'], loc='upper left')\n",
    "\n",
    "fig.tight_layout()\n",
    "plt.show()"
   ]
  }
 ],
 "metadata": {
  "accelerator": "GPU",
  "colab": {
   "collapsed_sections": [],
   "name": "GRU-CNN.ipynb",
   "provenance": []
  },
  "file_extension": ".py",
  "kernelspec": {
   "display_name": "Python 3 (ipykernel)",
   "language": "python",
   "name": "python3"
  },
  "language_info": {
   "codemirror_mode": {
    "name": "ipython",
    "version": 3
   },
   "file_extension": ".py",
   "mimetype": "text/x-python",
   "name": "python",
   "nbconvert_exporter": "python",
   "pygments_lexer": "ipython3",
   "version": "3.9.13"
  },
  "mimetype": "text/x-python",
  "name": "python",
  "npconvert_exporter": "python",
  "pygments_lexer": "ipython3",
  "version": 3
 },
 "nbformat": 4,
 "nbformat_minor": 1
}
