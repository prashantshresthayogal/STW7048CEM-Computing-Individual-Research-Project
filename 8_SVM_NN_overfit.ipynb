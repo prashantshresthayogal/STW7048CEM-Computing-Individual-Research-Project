{
 "cells": [
  {
   "cell_type": "code",
   "execution_count": 1,
   "metadata": {},
   "outputs": [],
   "source": [
    "import pandas as pd\n",
    "import numpy as np\n",
    "import re\n",
    "import datetime\n",
    "import seaborn as sns\n",
    "import matplotlib.pyplot as plt"
   ]
  },
  {
   "cell_type": "code",
   "execution_count": 2,
   "metadata": {},
   "outputs": [],
   "source": [
    "DIR_ = \"D:/Drive/OneDrive/Documents/MIMIC\"\n",
    "DIR = \"D:/Workspace/MIMIC_DATA/mimic-iii-clinical-database-1.4/\""
   ]
  },
  {
   "cell_type": "code",
   "execution_count": 3,
   "metadata": {},
   "outputs": [],
   "source": [
    "adm_notes = pd.read_csv(DIR + \"readmission.csv\", low_memory=False)"
   ]
  },
  {
   "cell_type": "markdown",
   "metadata": {},
   "source": [
    "# Natural Language"
   ]
  },
  {
   "cell_type": "code",
   "execution_count": 4,
   "metadata": {},
   "outputs": [],
   "source": [
    "import string\n",
    "import nltk\n",
    "from nltk import word_tokenize\n",
    "from nltk.stem.porter import PorterStemmer\n",
    "from nltk.corpus import stopwords"
   ]
  },
  {
   "cell_type": "code",
   "execution_count": 5,
   "metadata": {},
   "outputs": [],
   "source": [
    "def clean_text(texts):\n",
    "    texts = texts.fillna(' ')\n",
    "    texts = texts.str.replace('\\n',' ')\n",
    "    texts = texts.str.replace('\\r',' ')\n",
    "\n",
    "    table = str.maketrans('', '', string.punctuation + '0123456789')\n",
    "    texts = [text.lower().translate(table) for text in texts]\n",
    "\n",
    "    return texts"
   ]
  },
  {
   "cell_type": "code",
   "execution_count": 6,
   "metadata": {},
   "outputs": [],
   "source": [
    "adm_notes['TEXT'] = clean_text(adm_notes['TEXT'])"
   ]
  },
  {
   "cell_type": "code",
   "execution_count": 7,
   "metadata": {},
   "outputs": [],
   "source": [
    "stop_words = stopwords.words('english')\n",
    "stop_words = stop_words + ['patient', 'date', 'admission', 'discharge', 'lastname', 'firstname', 'sex']"
   ]
  },
  {
   "cell_type": "code",
   "execution_count": 8,
   "metadata": {},
   "outputs": [],
   "source": [
    "porter = PorterStemmer()"
   ]
  },
  {
   "cell_type": "code",
   "execution_count": 9,
   "metadata": {},
   "outputs": [],
   "source": [
    "def tokenize_stem(text):\n",
    "    words = word_tokenize(text)\n",
    "    words = [word for word in words if word not in stop_words]\n",
    "    words = [porter.stem(word) for word in words]\n",
    "    return words"
   ]
  },
  {
   "cell_type": "markdown",
   "metadata": {},
   "source": [
    "# Model\n",
    "## Words, Train and Test"
   ]
  },
  {
   "cell_type": "code",
   "execution_count": 10,
   "metadata": {},
   "outputs": [],
   "source": [
    "from sklearn import metrics\n",
    "from sklearn.feature_extraction.text import CountVectorizer\n",
    "from sklearn.linear_model import LogisticRegression, Ridge, Lasso, ElasticNet\n",
    "from sklearn.svm import SVC\n",
    "from sklearn.naive_bayes import MultinomialNB\n",
    "from sklearn.ensemble import RandomForestClassifier\n",
    "from sklearn.neural_network import MLPClassifier\n",
    "from sklearn.model_selection import GridSearchCV, train_test_split, cross_val_score, cross_validate\n",
    "from xgboost import XGBClassifier\n",
    "from sklearn.model_selection import RandomizedSearchCV\n"
   ]
  },
  {
   "cell_type": "markdown",
   "metadata": {},
   "source": [
    "Repartition data"
   ]
  },
  {
   "cell_type": "code",
   "execution_count": 11,
   "metadata": {},
   "outputs": [],
   "source": [
    "df_train, df_test = train_test_split(adm_notes, test_size=0.2)"
   ]
  },
  {
   "cell_type": "markdown",
   "metadata": {},
   "source": [
    "Subsample non-readmitted patients to match size of readmitted ones"
   ]
  },
  {
   "cell_type": "code",
   "execution_count": 12,
   "metadata": {},
   "outputs": [],
   "source": [
    "rows_pos = df_train['READM_WITHIN_30'] == 1\n",
    "df_train_pos = df_train.loc[rows_pos]\n",
    "df_train_neg = df_train.loc[~rows_pos]\n",
    "\n",
    "df_train = pd.concat([df_train_pos, df_train_neg.sample(n = len(df_train_pos))], axis = 0)\n",
    "df_train = df_train.sample(n = len(df_train)).reset_index(drop = True)"
   ]
  },
  {
   "cell_type": "code",
   "execution_count": 13,
   "metadata": {},
   "outputs": [],
   "source": [
    "rows_pos = df_test['READM_WITHIN_30'] == 1\n",
    "df_test_pos = df_test.loc[rows_pos]\n",
    "df_test_neg = df_test.loc[~rows_pos]\n",
    "\n",
    "df_test = pd.concat([df_test_pos, df_test_neg.sample(n = len(df_test_pos))], axis = 0)\n",
    "df_test = df_test.sample(n = len(df_test)).reset_index(drop = True)"
   ]
  },
  {
   "cell_type": "code",
   "execution_count": 14,
   "metadata": {},
   "outputs": [
    {
     "name": "stdout",
     "output_type": "stream",
     "text": [
      "(4736, 10)\n",
      "(1190, 10)\n"
     ]
    }
   ],
   "source": [
    "print(df_train.shape)\n",
    "print(df_test.shape)"
   ]
  },
  {
   "cell_type": "markdown",
   "metadata": {},
   "source": [
    "Sparse Matrix with word count"
   ]
  },
  {
   "cell_type": "code",
   "execution_count": 15,
   "metadata": {},
   "outputs": [],
   "source": [
    "\n",
    "# Assuming df_train and df_test are already defined and contain the required columns\n",
    "\n",
    "# Vectorization\n",
    "vect = CountVectorizer(lowercase=True, max_features=1000, tokenizer=tokenize_stem, token_pattern=None)\n",
    "\n",
    "# Fit the vectorizer\n",
    "vect.fit(df_train['TEXT'].values)\n",
    "\n",
    "# Transform the text data\n",
    "X_train_tf = vect.transform(df_train['TEXT'].values)\n",
    "X_test_tf = vect.transform(df_test['TEXT'].values)\n",
    "\n",
    "\n",
    "# Extract target variables\n",
    "y_train = df_train['READM_WITHIN_30']\n",
    "y_test = df_test['READM_WITHIN_30']\n",
    "\n",
    "     "
   ]
  },
  {
   "cell_type": "code",
   "execution_count": 16,
   "metadata": {},
   "outputs": [],
   "source": [
    "metrics = ['roc_auc', 'accuracy', 'precision', 'recall']"
   ]
  },
  {
   "cell_type": "markdown",
   "metadata": {},
   "source": [
    "## Support Vector Machine"
   ]
  },
  {
   "cell_type": "code",
   "execution_count": 17,
   "metadata": {},
   "outputs": [
    {
     "data": {
      "text/plain": [
       "GridSearchCV(estimator=SVC(),\n",
       "             param_grid={'gamma': array([1.e-03, 1.e-02, 1.e-01, 1.e+00, 1.e+01, 1.e+02, 1.e+03]),\n",
       "                         'kernel': ['linear', 'poly', 'rbf']})"
      ]
     },
     "execution_count": 17,
     "metadata": {},
     "output_type": "execute_result"
    }
   ],
   "source": [
    "grid = {\n",
    "    'kernel': ['linear', 'poly', 'rbf'],\n",
    "    #'C': np.logspace(-3, 3, 7),\n",
    "    'gamma': np.logspace(-3, 3, 7)\n",
    "}\n",
    "\n",
    "model_svm = GridSearchCV(SVC(), param_grid=grid)\n",
    "model_svm.fit(X_test_tf, y_test)"
   ]
  },
  {
   "cell_type": "code",
   "execution_count": 18,
   "metadata": {},
   "outputs": [
    {
     "data": {
      "text/plain": [
       "{'gamma': 0.001, 'kernel': 'rbf'}"
      ]
     },
     "execution_count": 18,
     "metadata": {},
     "output_type": "execute_result"
    }
   ],
   "source": [
    "model_svm.best_params_"
   ]
  },
  {
   "cell_type": "code",
   "execution_count": 19,
   "metadata": {},
   "outputs": [],
   "source": [
    "model_svm = SVC(C=0.3, gamma=0.001, kernel='rbf')\n",
    "scores_svm = cross_validate(model_svm, X_train_tf, y_train, cv=5, scoring=metrics, return_train_score=True)"
   ]
  },
  {
   "cell_type": "code",
   "execution_count": 20,
   "metadata": {
    "scrolled": true
   },
   "outputs": [
    {
     "name": "stdout",
     "output_type": "stream",
     "text": [
      "Set\t\t Train\t\t \t Sd Train\n",
      "AUC\t\t 0.8130068530783865 \t 0.0028869431409570996\n",
      "Accuracy\t 0.6855996057057291 \t 0.0021547316301761374\n",
      "Precission\t 0.662021267313204 \t 0.0028531636733218264\n",
      "Recall\t\t 0.662021267313204 \t 0.0028531636733218264\n"
     ]
    }
   ],
   "source": [
    "print('Set\\t\\t', 'Train\\t\\t', '\\t Sd Train')\n",
    "print('AUC\\t\\t', np.mean(scores_svm['train_roc_auc']), '\\t', np.std(scores_svm['train_roc_auc']))\n",
    "print('Accuracy\\t', np.mean(scores_svm['train_accuracy']), '\\t', np.std(scores_svm['train_accuracy']))\n",
    "print('Precission\\t', np.mean(scores_svm['train_precision']), '\\t', np.std(scores_svm['train_precision']))\n",
    "print('Recall\\t\\t', np.mean(scores_svm['train_recall']), '\\t', np.std(scores_svm['train_recall']))"
   ]
  },
  {
   "cell_type": "code",
   "execution_count": null,
   "metadata": {},
   "outputs": [],
   "source": [
    "plt.plot(fpr, tpr, label='Train')\n",
    "plt.plot(fprt, tprt, label='Test')\n",
    "plt.title(\"ROC Curve\")\n",
    "plt.legend(loc=\"lower right\")\n",
    "plt.xlabel(\"False Positive Rate\")\n",
    "plt.ylabel(\"True Positive Rate\")\n",
    "\n",
    "plt.savefig('svm_train.png')  "
   ]
  },
  {
   "cell_type": "code",
   "execution_count": 21,
   "metadata": {},
   "outputs": [
    {
     "name": "stdout",
     "output_type": "stream",
     "text": [
      "Set\t\t Test\t\t \t Sd Test\n",
      "AUC\t\t 0.6458777265995475 \t 0.014052480146093211\n",
      "Accuracy\t 0.6055730064739194 \t 0.015416153576061173\n",
      "Precission\t 0.5894209949290333 \t 0.013265640502348805\n",
      "Recall\t\t 0.6963684534482296 \t 0.018063937139110645\n"
     ]
    }
   ],
   "source": [
    "print('Set\\t\\t', 'Test\\t\\t', '\\t Sd Test')\n",
    "print('AUC\\t\\t', np.mean(scores_svm['test_roc_auc']), '\\t', np.std(scores_svm['test_roc_auc']))\n",
    "print('Accuracy\\t', np.mean(scores_svm['test_accuracy']), '\\t', np.std(scores_svm['test_accuracy']))\n",
    "print('Precission\\t', np.mean(scores_svm['test_precision']), '\\t', np.std(scores_svm['test_precision']))\n",
    "print('Recall\\t\\t', np.mean(scores_svm['test_recall']), '\\t', np.std(scores_svm['test_recall']))"
   ]
  },
  {
   "cell_type": "markdown",
   "metadata": {},
   "source": [
    "## Multi-layer Perceptron"
   ]
  },
  {
   "cell_type": "code",
   "execution_count": 22,
   "metadata": {},
   "outputs": [
    {
     "name": "stdout",
     "output_type": "stream",
     "text": [
      "Fitting 5 folds for each of 10 candidates, totalling 50 fits\n",
      "Best parameters found by randomized search: {'solver': 'adam', 'learning_rate_init': 0.001, 'alpha': 0.001}\n"
     ]
    }
   ],
   "source": [
    "\n",
    "# Define the parameter grid\n",
    "param_dist = {\n",
    "    'alpha': [1e-1, 1e-2, 1e-3, 1e-4, 1e-5],\n",
    "    'solver': ['adam', 'sgd'],\n",
    "    'learning_rate_init': [0.01, 0.001, 0.0001]\n",
    "}\n",
    "\n",
    "# Initialize the RandomizedSearchCV with the MLPClassifier\n",
    "model_mlp = RandomizedSearchCV(MLPClassifier(hidden_layer_sizes=(10, 2), max_iter=1000), param_distributions=param_dist, cv=5, n_iter=10, n_jobs=-1, verbose=2)\n",
    "\n",
    "# Fit the model to the training data\n",
    "model_mlp.fit(X_train_tf, y_train)\n",
    "\n",
    "# Access the best parameters found by the randomized search\n",
    "best_params = model_mlp.best_params_\n",
    "print(\"Best parameters found by randomized search:\", best_params)\n"
   ]
  },
  {
   "cell_type": "code",
   "execution_count": 23,
   "metadata": {},
   "outputs": [
    {
     "name": "stderr",
     "output_type": "stream",
     "text": [
      "[Parallel(n_jobs=-1)]: Using backend LokyBackend with 8 concurrent workers.\n",
      "[Parallel(n_jobs=-1)]: Done   2 out of   5 | elapsed:   12.4s remaining:   18.6s\n",
      "[Parallel(n_jobs=-1)]: Done   5 out of   5 | elapsed:   16.7s remaining:    0.0s\n",
      "[Parallel(n_jobs=-1)]: Done   5 out of   5 | elapsed:   16.7s finished\n"
     ]
    }
   ],
   "source": [
    "# Initialize the MLPClassifier with the best parameters and increased max_iter\n",
    "model_mlp_best = MLPClassifier(hidden_layer_sizes=(10, 2), \n",
    "                               alpha=best_params['alpha'], \n",
    "                               learning_rate_init=best_params['learning_rate_init'], \n",
    "                               solver=best_params['solver'], \n",
    "                               max_iter=1000)\n",
    "\n",
    "# Define the metrics for cross-validation\n",
    "metrics = ['accuracy', 'precision', 'recall', 'f1', 'roc_auc']\n",
    "\n",
    "# Perform cross-validation\n",
    "scores_mlp = cross_validate(model_mlp_best, X_train_tf, y_train, cv=5, scoring=metrics, return_train_score=True, n_jobs=-1, verbose=2)\n"
   ]
  },
  {
   "cell_type": "code",
   "execution_count": 24,
   "metadata": {},
   "outputs": [
    {
     "name": "stdout",
     "output_type": "stream",
     "text": [
      "Set\t\t Train\t\t Sd Train\n",
      "AUC\t\t 0.9657754597110657 \t 0.05173648077126075\n",
      "Accuracy\t 0.9391906154173297 \t 0.048347474457968054\n",
      "Precision\t 0.9993660670007303 \t 0.0005520549699767634\n",
      "Recall\t\t 0.8789064202188273 \t 0.09649267520278766\n",
      "F1 Score\t 0.9323968125810411 \t 0.056456520655302975\n"
     ]
    }
   ],
   "source": [
    "\n",
    "# Print cross-validation results\n",
    "print('Set\\t\\t', 'Train\\t\\t', 'Sd Train')\n",
    "print('AUC\\t\\t', np.mean(scores_mlp['train_roc_auc']), '\\t', np.std(scores_mlp['train_roc_auc']))\n",
    "print('Accuracy\\t', np.mean(scores_mlp['train_accuracy']), '\\t', np.std(scores_mlp['train_accuracy']))\n",
    "print('Precision\\t', np.mean(scores_mlp['train_precision']), '\\t', np.std(scores_mlp['train_precision']))\n",
    "print('Recall\\t\\t', np.mean(scores_mlp['train_recall']), '\\t', np.std(scores_mlp['train_recall']))\n",
    "print('F1 Score\\t', np.mean(scores_mlp['train_f1']), '\\t', np.std(scores_mlp['train_f1']))"
   ]
  },
  {
   "cell_type": "code",
   "execution_count": 25,
   "metadata": {},
   "outputs": [
    {
     "name": "stdout",
     "output_type": "stream",
     "text": [
      "Set\t\t Test\t\t \t Sd Test\n",
      "AUC\t\t 0.619740610646585 \t 0.011481758410409682\n",
      "Accuracy\t 0.5920557478869537 \t 0.013836942434386686\n",
      "Precission\t 0.6006336194806657 \t 0.0160493266706609\n",
      "Recall\t\t 0.5510807218490469 \t 0.02680437929760938\n",
      "F1 Score\t 0.5743881472326804 \t 0.016980076531496153\n"
     ]
    }
   ],
   "source": [
    "print('Set\\t\\t', 'Test\\t\\t', '\\t Sd Test')\n",
    "print('AUC\\t\\t', np.mean(scores_mlp['test_roc_auc']), '\\t', np.std(scores_mlp['test_roc_auc']))\n",
    "print('Accuracy\\t', np.mean(scores_mlp['test_accuracy']), '\\t', np.std(scores_mlp['test_accuracy']))\n",
    "print('Precission\\t', np.mean(scores_mlp['test_precision']), '\\t', np.std(scores_mlp['test_precision']))\n",
    "print('Recall\\t\\t', np.mean(scores_mlp['test_recall']), '\\t', np.std(scores_mlp['test_recall']))\n",
    "print('F1 Score\\t', np.mean(scores_mlp['test_f1']), '\\t', np.std(scores_mlp['test_f1']))"
   ]
  },
  {
   "cell_type": "code",
   "execution_count": null,
   "metadata": {},
   "outputs": [],
   "source": []
  }
 ],
 "metadata": {
  "file_extension": ".py",
  "kernelspec": {
   "display_name": "Python 3 (ipykernel)",
   "language": "python",
   "name": "python3"
  },
  "language_info": {
   "codemirror_mode": {
    "name": "ipython",
    "version": 3
   },
   "file_extension": ".py",
   "mimetype": "text/x-python",
   "name": "python",
   "nbconvert_exporter": "python",
   "pygments_lexer": "ipython3",
   "version": "3.9.13"
  },
  "mimetype": "text/x-python",
  "name": "python",
  "npconvert_exporter": "python",
  "pygments_lexer": "ipython3",
  "version": 3
 },
 "nbformat": 4,
 "nbformat_minor": 2
}
