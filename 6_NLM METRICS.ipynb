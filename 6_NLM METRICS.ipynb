{
 "cells": [
  {
   "cell_type": "code",
   "execution_count": 1,
   "metadata": {},
   "outputs": [],
   "source": [
    "import pandas as pd\n",
    "import numpy as np\n",
    "import re\n",
    "import datetime\n",
    "import seaborn as sns\n",
    "import matplotlib.pyplot as plt\n",
    "from sklearn.model_selection import RandomizedSearchCV\n"
   ]
  },
  {
   "cell_type": "code",
   "execution_count": 2,
   "metadata": {},
   "outputs": [],
   "source": [
    "DIR_ = \"D:/Drive/OneDrive/Documents/MIMIC\"\n",
    "DIR = \"D:/Workspace/MIMIC_DATA/mimic-iii-clinical-database-1.4/\""
   ]
  },
  {
   "cell_type": "code",
   "execution_count": 3,
   "metadata": {},
   "outputs": [],
   "source": [
    "adm_notes = pd.read_csv(DIR + \"readmission.csv\", low_memory=False)"
   ]
  },
  {
   "cell_type": "markdown",
   "metadata": {},
   "source": [
    "# Natural Language"
   ]
  },
  {
   "cell_type": "code",
   "execution_count": 4,
   "metadata": {},
   "outputs": [],
   "source": [
    "import string\n",
    "import nltk\n",
    "from nltk import word_tokenize\n",
    "from nltk.stem.porter import PorterStemmer\n",
    "from nltk.corpus import stopwords"
   ]
  },
  {
   "cell_type": "code",
   "execution_count": 5,
   "metadata": {},
   "outputs": [],
   "source": [
    "def clean_text(texts):\n",
    "    texts = texts.fillna(' ')\n",
    "    texts = texts.str.replace('\\n',' ')\n",
    "    texts = texts.str.replace('\\r',' ')\n",
    "\n",
    "    table = str.maketrans('', '', string.punctuation + '0123456789')\n",
    "    texts = [text.lower().translate(table) for text in texts]\n",
    "\n",
    "    return texts"
   ]
  },
  {
   "cell_type": "code",
   "execution_count": 6,
   "metadata": {},
   "outputs": [],
   "source": [
    "adm_notes['TEXT'] = clean_text(adm_notes['TEXT'])"
   ]
  },
  {
   "cell_type": "code",
   "execution_count": 7,
   "metadata": {},
   "outputs": [],
   "source": [
    "stop_words = stopwords.words('english')\n",
    "stop_words = stop_words + ['patient', 'date', 'admission', 'discharge', 'lastname', 'firstname', 'sex']"
   ]
  },
  {
   "cell_type": "code",
   "execution_count": 8,
   "metadata": {},
   "outputs": [],
   "source": [
    "porter = PorterStemmer()"
   ]
  },
  {
   "cell_type": "code",
   "execution_count": 9,
   "metadata": {},
   "outputs": [],
   "source": [
    "def tokenize_stem(text):\n",
    "    words = word_tokenize(text)\n",
    "    words = [word for word in words if word not in stop_words]\n",
    "    words = [porter.stem(word) for word in words]\n",
    "    return words"
   ]
  },
  {
   "cell_type": "markdown",
   "metadata": {},
   "source": [
    "# Model\n",
    "## Words, Train and Test"
   ]
  },
  {
   "cell_type": "code",
   "execution_count": 10,
   "metadata": {},
   "outputs": [],
   "source": [
    "from sklearn import metrics\n",
    "from sklearn.feature_extraction.text import CountVectorizer\n",
    "from sklearn.linear_model import LogisticRegression, Ridge, Lasso, ElasticNet\n",
    "from sklearn.svm import SVC\n",
    "from sklearn.naive_bayes import MultinomialNB\n",
    "from sklearn.ensemble import RandomForestClassifier\n",
    "from sklearn.neural_network import MLPClassifier\n",
    "from sklearn.model_selection import GridSearchCV, train_test_split, cross_val_score, cross_validate\n",
    "from xgboost import XGBClassifier\n",
    "from sklearn.model_selection import RandomizedSearchCV\n",
    "from sklearn.metrics import make_scorer, precision_score, recall_score, f1_score, roc_auc_score\n",
    "from sklearn.pipeline import make_pipeline\n",
    "from imblearn.over_sampling import SMOTE"
   ]
  },
  {
   "cell_type": "markdown",
   "metadata": {},
   "source": [
    "Repartition data"
   ]
  },
  {
   "cell_type": "code",
   "execution_count": 11,
   "metadata": {},
   "outputs": [],
   "source": [
    "df_train, df_test = train_test_split(adm_notes, test_size=0.2)"
   ]
  },
  {
   "cell_type": "markdown",
   "metadata": {},
   "source": [
    "Subsample non-readmitted patients to match size of readmitted ones"
   ]
  },
  {
   "cell_type": "code",
   "execution_count": 12,
   "metadata": {},
   "outputs": [],
   "source": [
    "rows_pos = df_train['READM_WITHIN_30'] == 1\n",
    "df_train_pos = df_train.loc[rows_pos]\n",
    "df_train_neg = df_train.loc[~rows_pos]\n",
    "\n",
    "df_train = pd.concat([df_train_pos, df_train_neg.sample(n = len(df_train_pos))], axis = 0)\n",
    "df_train = df_train.sample(n = len(df_train)).reset_index(drop = True)"
   ]
  },
  {
   "cell_type": "code",
   "execution_count": 13,
   "metadata": {},
   "outputs": [],
   "source": [
    "rows_pos = df_test['READM_WITHIN_30'] == 1\n",
    "df_test_pos = df_test.loc[rows_pos]\n",
    "df_test_neg = df_test.loc[~rows_pos]\n",
    "\n",
    "df_test = pd.concat([df_test_pos, df_test_neg.sample(n = len(df_test_pos))], axis = 0)\n",
    "df_test = df_test.sample(n = len(df_test)).reset_index(drop = True)"
   ]
  },
  {
   "cell_type": "code",
   "execution_count": 14,
   "metadata": {},
   "outputs": [
    {
     "name": "stdout",
     "output_type": "stream",
     "text": [
      "(4812, 10)\n",
      "(1114, 10)\n"
     ]
    }
   ],
   "source": [
    "print(df_train.shape)\n",
    "print(df_test.shape)"
   ]
  },
  {
   "cell_type": "markdown",
   "metadata": {},
   "source": [
    "Sparse Matrix with word count"
   ]
  },
  {
   "cell_type": "code",
   "execution_count": 15,
   "metadata": {},
   "outputs": [],
   "source": [
    "# Tokenize and stem function\n",
    "def tokenize_stem(text):\n",
    "    stemmer = PorterStemmer()\n",
    "    tokens = word_tokenize(text)\n",
    "    stemmed_tokens = [stemmer.stem(token) for token in tokens]\n",
    "    return stemmed_tokens\n",
    "\n",
    "# Assuming df_train and df_test are already defined and contain the required columns\n",
    "\n",
    "# Vectorization\n",
    "vect = CountVectorizer(lowercase=True, max_features=1000, tokenizer=tokenize_stem, token_pattern=None)\n",
    "\n",
    "# Fit the vectorizer\n",
    "vect.fit(df_train['TEXT'].values)\n",
    "\n",
    "# Transform the text data\n",
    "X_train_tf = vect.transform(df_train['TEXT'].values)\n",
    "X_test_tf = vect.transform(df_test['TEXT'].values)\n",
    "\n",
    "\n",
    "# Extract target variables\n",
    "y_train = df_train['READM_WITHIN_30']\n",
    "y_test = df_test['READM_WITHIN_30']\n"
   ]
  },
  {
   "cell_type": "code",
   "execution_count": 16,
   "metadata": {},
   "outputs": [],
   "source": [
    "metrics = ['roc_auc', 'accuracy', 'precision', 'recall']"
   ]
  },
  {
   "cell_type": "markdown",
   "metadata": {},
   "source": [
    "## Support Vector Machine"
   ]
  },
  {
   "cell_type": "code",
   "execution_count": 17,
   "metadata": {},
   "outputs": [
    {
     "data": {
      "text/plain": [
       "GridSearchCV(estimator=SVC(),\n",
       "             param_grid={'C': [0.1, 1, 2], 'kernel': ['linear', 'poly', 'rbf']})"
      ]
     },
     "execution_count": 17,
     "metadata": {},
     "output_type": "execute_result"
    }
   ],
   "source": [
    "grid = {\n",
    "    'kernel': ['linear', 'poly', 'rbf'],\n",
    "    'C': [0.1, 1, 2]\n",
    "}\n",
    "\n",
    "model_svm = GridSearchCV(SVC(), param_grid=grid)\n",
    "model_svm.fit(X_test_tf, y_test)"
   ]
  },
  {
   "cell_type": "code",
   "execution_count": 18,
   "metadata": {},
   "outputs": [
    {
     "data": {
      "text/plain": [
       "{'C': 2, 'kernel': 'rbf'}"
      ]
     },
     "execution_count": 18,
     "metadata": {},
     "output_type": "execute_result"
    }
   ],
   "source": [
    "model_svm.best_params_"
   ]
  },
  {
   "cell_type": "code",
   "execution_count": 19,
   "metadata": {},
   "outputs": [],
   "source": [
    "model_svm = SVC(C=1, kernel='rbf')\n",
    "scores_svm = cross_validate(model_svm, X_train_tf, y_train, cv=5, scoring=metrics, return_train_score=True)"
   ]
  },
  {
   "cell_type": "code",
   "execution_count": 20,
   "metadata": {},
   "outputs": [
    {
     "name": "stdout",
     "output_type": "stream",
     "text": [
      "Set\t\t Train\t\t \t Sd Train\n",
      "AUC\t\t 0.7740864123310878 \t 0.0025231317110981475\n",
      "Accuracy\t 0.6984623160679279 \t 0.0019387663864241134\n",
      "Precission\t 0.7411202626804692 \t 0.0031680394832970618\n",
      "Recall\t\t 0.6100374220374221 \t 0.004109178174346998\n"
     ]
    }
   ],
   "source": [
    "print('Set\\t\\t', 'Train\\t\\t', '\\t Sd Train')\n",
    "print('AUC\\t\\t', np.mean(scores_svm['train_roc_auc']), '\\t', np.std(scores_svm['train_roc_auc']))\n",
    "print('Accuracy\\t', np.mean(scores_svm['train_accuracy']), '\\t', np.std(scores_svm['train_accuracy']))\n",
    "print('Precission\\t', np.mean(scores_svm['train_precision']), '\\t', np.std(scores_svm['train_precision']))\n",
    "print('Recall\\t\\t', np.mean(scores_svm['train_recall']), '\\t', np.std(scores_svm['train_recall']))"
   ]
  },
  {
   "cell_type": "code",
   "execution_count": 21,
   "metadata": {},
   "outputs": [
    {
     "name": "stdout",
     "output_type": "stream",
     "text": [
      "Set\t\t Test\t\t \t Sd Test\n",
      "AUC\t\t 0.6677065933550954 \t 0.009293929768656112\n",
      "Accuracy\t 0.6217811629026582 \t 0.005416075762879975\n",
      "Precission\t 0.6450445570836413 \t 0.00866824826785391\n",
      "Recall\t\t 0.5419768635536271 \t 0.0030324012864771997\n"
     ]
    }
   ],
   "source": [
    "print('Set\\t\\t', 'Test\\t\\t', '\\t Sd Test')\n",
    "print('AUC\\t\\t', np.mean(scores_svm['test_roc_auc']), '\\t', np.std(scores_svm['test_roc_auc']))\n",
    "print('Accuracy\\t', np.mean(scores_svm['test_accuracy']), '\\t', np.std(scores_svm['test_accuracy']))\n",
    "print('Precission\\t', np.mean(scores_svm['test_precision']), '\\t', np.std(scores_svm['test_precision']))\n",
    "print('Recall\\t\\t', np.mean(scores_svm['test_recall']), '\\t', np.std(scores_svm['test_recall']))"
   ]
  },
  {
   "cell_type": "markdown",
   "metadata": {},
   "source": [
    "## Multi-layer Perceptron"
   ]
  },
  {
   "cell_type": "code",
   "execution_count": 22,
   "metadata": {},
   "outputs": [
    {
     "name": "stdout",
     "output_type": "stream",
     "text": [
      "Fitting 5 folds for each of 10 candidates, totalling 50 fits\n",
      "Best parameters found by randomized search: {'solver': 'adam', 'learning_rate_init': 0.0001, 'alpha': 0.01}\n"
     ]
    },
    {
     "name": "stderr",
     "output_type": "stream",
     "text": [
      "C:\\Users\\Dell\\anaconda3\\lib\\site-packages\\sklearn\\neural_network\\_multilayer_perceptron.py:692: ConvergenceWarning: Stochastic Optimizer: Maximum iterations (1000) reached and the optimization hasn't converged yet.\n",
      "  warnings.warn(\n"
     ]
    }
   ],
   "source": [
    "# Define the parameter grid\n",
    "param_dist = {\n",
    "    'alpha': [1e-1, 1e-2, 1e-3, 1e-4, 1e-5],\n",
    "    'solver': ['adam', 'sgd'],\n",
    "    'learning_rate_init': [0.01, 0.001, 0.0001]\n",
    "}\n",
    "\n",
    "# Initialize the RandomizedSearchCV with the MLPClassifier\n",
    "model_mlp = RandomizedSearchCV(MLPClassifier(hidden_layer_sizes=(10, 2), max_iter=1000), param_distributions=param_dist, cv=5, n_iter=10, n_jobs=-1, verbose=2)\n",
    "\n",
    "# Fit the model to the training data\n",
    "model_mlp.fit(X_train_tf, y_train)\n",
    "\n",
    "# Access the best parameters found by the randomized search\n",
    "best_params = model_mlp.best_params_\n",
    "print(\"Best parameters found by randomized search:\", best_params)"
   ]
  },
  {
   "cell_type": "code",
   "execution_count": 23,
   "metadata": {},
   "outputs": [
    {
     "name": "stdout",
     "output_type": "stream",
     "text": [
      "Cross-validation results: {'fit_time': array([1.80698848, 0.46373463, 0.6175375 , 0.48603916, 0.48197675]), 'score_time': array([0.01562309, 0.01562381, 0.01562572, 0.02428484, 0.01844049]), 'test_accuracy': array([0.58359294, 0.50051921, 0.48648649, 0.5031185 , 0.50831601]), 'train_accuracy': array([0.66147051, 0.4998701 , 0.51688312, 0.51974026, 0.50233766]), 'test_precision': array([0.62461538, 1.        , 0.49245064, 0.50190597, 0.50666667]), 'train_precision': array([0.72881356, 1.        , 0.50938493, 0.51175743, 0.5018649 ]), 'test_recall': array([0.42116183, 0.        , 0.88149688, 0.82120582, 0.63201663]), 'train_recall': array([0.51403326, 0.        , 0.91636364, 0.85922078, 0.62909091]), 'test_f1': array([0.50309789, 0.        , 0.6318927 , 0.62302839, 0.56244218]), 'train_f1': array([0.60286498, 0.        , 0.65478842, 0.64145821, 0.55832181]), 'test_roc_auc': array([0.60832809, 0.49039432, 0.50211142, 0.49333077, 0.49909449]), 'train_roc_auc': array([0.68160191, 0.51203931, 0.52382311, 0.50648177, 0.50706966])}\n"
     ]
    }
   ],
   "source": [
    "\n",
    "# Option 1: Apply SMOTE to balance the dataset\n",
    "smote = SMOTE(random_state=42)\n",
    "X_resampled, y_resampled = smote.fit_resample(X_train_tf, y_train)\n",
    "\n",
    "# Initialize the MLPClassifier with adjusted parameters\n",
    "model_mlp_best = MLPClassifier(hidden_layer_sizes=(10, 2), \n",
    "                               alpha=best_params['alpha'], \n",
    "                               learning_rate_init=best_params['learning_rate_init'], \n",
    "                               solver=best_params['solver'], \n",
    "                               max_iter=6000,\n",
    "                               early_stopping=True,  # Enable early stopping\n",
    "                               validation_fraction=0.1)  # Use 10% of data for validation\n",
    "\n",
    "# Define the metrics for cross-validation with zero_division handling\n",
    "scoring = {\n",
    "    'accuracy': 'accuracy',\n",
    "    'precision': make_scorer(precision_score, zero_division=1),\n",
    "    'recall': make_scorer(recall_score, zero_division=1),\n",
    "    'f1': make_scorer(f1_score, zero_division=1),\n",
    "    'roc_auc': 'roc_auc'\n",
    "}\n",
    "\n",
    "# Perform cross-validation on the resampled data\n",
    "scores_mlp = cross_validate(model_mlp_best, X_resampled, y_resampled, cv=5, scoring=scoring, return_train_score=True)\n",
    "\n",
    "# Output results\n",
    "print(\"Cross-validation results:\", scores_mlp)\n"
   ]
  },
  {
   "cell_type": "code",
   "execution_count": 24,
   "metadata": {},
   "outputs": [
    {
     "name": "stdout",
     "output_type": "stream",
     "text": [
      "Set\t\t Train\t\t Sd Train\n",
      "AUC\t\t 0.5462031511205537 \t 0.06798540615479089\n",
      "Accuracy\t 0.5400603293822311 \t 0.06120257391201039\n",
      "Precision\t 0.6503641619791343 \t 0.1946990141939245\n",
      "Recall\t\t 0.5837417177417178 \t 0.32686274329375975\n",
      "F1 Score\t 0.49148668366410214 \t 0.24802827860013943\n"
     ]
    }
   ],
   "source": [
    "# Print cross-validation results\n",
    "print('Set\\t\\t', 'Train\\t\\t', 'Sd Train')\n",
    "print('AUC\\t\\t', np.mean(scores_mlp['train_roc_auc']), '\\t', np.std(scores_mlp['train_roc_auc']))\n",
    "print('Accuracy\\t', np.mean(scores_mlp['train_accuracy']), '\\t', np.std(scores_mlp['train_accuracy']))\n",
    "print('Precision\\t', np.mean(scores_mlp['train_precision']), '\\t', np.std(scores_mlp['train_precision']))\n",
    "print('Recall\\t\\t', np.mean(scores_mlp['train_recall']), '\\t', np.std(scores_mlp['train_recall']))\n",
    "print('F1 Score\\t', np.mean(scores_mlp['train_f1']), '\\t', np.std(scores_mlp['train_f1']))\n"
   ]
  },
  {
   "cell_type": "code",
   "execution_count": 25,
   "metadata": {},
   "outputs": [
    {
     "name": "stdout",
     "output_type": "stream",
     "text": [
      "Set\t\t Test\t\t \t Sd Test\n",
      "AUC\t\t 0.5186518164451412 \t 0.04502787713092768\n",
      "Accuracy\t 0.5164066294907416 \t 0.03436177420667939\n",
      "Precission\t 0.6251277324239795 \t 0.19357133930597073\n",
      "Recall\t\t 0.5511762320890952 \t 0.319143185847988\n",
      "F1 Score\t 0.4640922330459727 \t 0.23664042478918004\n"
     ]
    }
   ],
   "source": [
    "print('Set\\t\\t', 'Test\\t\\t', '\\t Sd Test')\n",
    "print('AUC\\t\\t', np.mean(scores_mlp['test_roc_auc']), '\\t', np.std(scores_mlp['test_roc_auc']))\n",
    "print('Accuracy\\t', np.mean(scores_mlp['test_accuracy']), '\\t', np.std(scores_mlp['test_accuracy']))\n",
    "print('Precission\\t', np.mean(scores_mlp['test_precision']), '\\t', np.std(scores_mlp['test_precision']))\n",
    "print('Recall\\t\\t', np.mean(scores_mlp['test_recall']), '\\t', np.std(scores_mlp['test_recall']))\n",
    "print('F1 Score\\t', np.mean(scores_mlp['test_f1']), '\\t', np.std(scores_mlp['test_f1']))"
   ]
  },
  {
   "cell_type": "markdown",
   "metadata": {},
   "source": [
    "## Random Forest"
   ]
  },
  {
   "cell_type": "code",
   "execution_count": 26,
   "metadata": {},
   "outputs": [
    {
     "data": {
      "text/plain": [
       "GridSearchCV(estimator=RandomForestClassifier(bootstrap=False),\n",
       "             param_grid={'max_depth': [10, 20, 30, 40],\n",
       "                         'max_features': ['auto', 'sqrt'],\n",
       "                         'min_samples_leaf': [1, 2],\n",
       "                         'min_samples_split': [2, 5],\n",
       "                         'n_estimators': [100, 200, 300]})"
      ]
     },
     "execution_count": 26,
     "metadata": {},
     "output_type": "execute_result"
    }
   ],
   "source": [
    "grid = {\n",
    "    'max_depth': [10, 20, 30, 40],\n",
    "    'max_features': ['auto', 'sqrt'],\n",
    "    'min_samples_leaf': [1, 2],\n",
    "    'min_samples_split': [2, 5],\n",
    "    'n_estimators': [100, 200, 300]\n",
    "}\n",
    "model_rf = GridSearchCV(RandomForestClassifier(bootstrap=False), param_grid=grid)\n",
    "model_rf.fit(X_test_tf, y_test)"
   ]
  },
  {
   "cell_type": "code",
   "execution_count": 27,
   "metadata": {},
   "outputs": [
    {
     "data": {
      "text/plain": [
       "{'max_depth': 30,\n",
       " 'max_features': 'auto',\n",
       " 'min_samples_leaf': 1,\n",
       " 'min_samples_split': 2,\n",
       " 'n_estimators': 100}"
      ]
     },
     "execution_count": 27,
     "metadata": {},
     "output_type": "execute_result"
    }
   ],
   "source": [
    "model_rf.best_params_"
   ]
  },
  {
   "cell_type": "code",
   "execution_count": 28,
   "metadata": {},
   "outputs": [],
   "source": [
    "model_rf = RandomForestClassifier(\n",
    "    bootstrap=False, max_depth=20, max_features='auto', min_samples_leaf=2, min_samples_split=2, n_estimators=100\n",
    ")\n",
    "scores_rf = cross_validate(model_rf, X_train_tf, y_train, cv=5, scoring=metrics, return_train_score=True)"
   ]
  },
  {
   "cell_type": "code",
   "execution_count": 29,
   "metadata": {},
   "outputs": [
    {
     "name": "stdout",
     "output_type": "stream",
     "text": [
      "Set\t\t Train\t\t \t Sd Train\n",
      "AUC\t\t 0.9993126339438027 \t 0.00012505394134589012\n",
      "Accuracy\t 0.9891417504293575 \t 0.0008596594841735451\n",
      "Precission\t 0.9986227108629109 \t 0.0002609919608423704\n",
      "Recall\t\t 0.9986227108629109 \t 0.0002609919608423704\n"
     ]
    }
   ],
   "source": [
    "print('Set\\t\\t', 'Train\\t\\t', '\\t Sd Train')\n",
    "print('AUC\\t\\t', np.mean(scores_rf['train_roc_auc']), '\\t', np.std(scores_rf['train_roc_auc']))\n",
    "print('Accuracy\\t', np.mean(scores_rf['train_accuracy']), '\\t', np.std(scores_rf['train_accuracy']))\n",
    "print('Precission\\t', np.mean(scores_rf['train_precision']), '\\t', np.std(scores_rf['train_precision']))\n",
    "print('Recall\\t\\t', np.mean(scores_rf['train_precision']), '\\t', np.std(scores_rf['train_precision']))"
   ]
  },
  {
   "cell_type": "code",
   "execution_count": 30,
   "metadata": {},
   "outputs": [
    {
     "name": "stdout",
     "output_type": "stream",
     "text": [
      "Set\t\t Test\t\t \t Sd Test\n",
      "AUC\t\t 0.6819069589671984 \t 0.010722062650976794\n",
      "Accuracy\t 0.6292608208496059 \t 0.010315798972472486\n",
      "Precission\t 0.6270156468874004 \t 0.009773754255914424\n",
      "Recall\t\t 0.6379870774061646 \t 0.012875200298392033\n"
     ]
    }
   ],
   "source": [
    "print('Set\\t\\t', 'Test\\t\\t', '\\t Sd Test')\n",
    "print('AUC\\t\\t', np.mean(scores_rf['test_roc_auc']), '\\t', np.std(scores_rf['test_roc_auc']))\n",
    "print('Accuracy\\t', np.mean(scores_rf['test_accuracy']), '\\t', np.std(scores_rf['test_accuracy']))\n",
    "print('Precission\\t', np.mean(scores_rf['test_precision']), '\\t', np.std(scores_rf['test_precision']))\n",
    "print('Recall\\t\\t', np.mean(scores_rf['test_recall']), '\\t', np.std(scores_rf['test_recall']))"
   ]
  },
  {
   "cell_type": "markdown",
   "metadata": {},
   "source": [
    "## Naive Bayes"
   ]
  },
  {
   "cell_type": "code",
   "execution_count": 31,
   "metadata": {},
   "outputs": [
    {
     "name": "stdout",
     "output_type": "stream",
     "text": [
      "Best alpha: 10\n"
     ]
    }
   ],
   "source": [
    "# Define the parameter grid\n",
    "param_grid = {'alpha': [10, 1, 0.1, 0.01, 0.001]}\n",
    "\n",
    "# Initialize the GridSearchCV with the MultinomialNB\n",
    "grid_search_nb = GridSearchCV(MultinomialNB(), param_grid=param_grid, cv=3, n_jobs=-1)\n",
    "\n",
    "# Fit the model to the training data\n",
    "grid_search_nb.fit(X_train_tf, y_train)\n",
    "\n",
    "# Get the best parameters\n",
    "best_alpha = grid_search_nb.best_params_['alpha']\n",
    "print(f\"Best alpha: {best_alpha}\")"
   ]
  },
  {
   "cell_type": "code",
   "execution_count": 32,
   "metadata": {},
   "outputs": [],
   "source": [
    "\n",
    "# Initialize the MultinomialNB with the best alpha parameter\n",
    "model_nb = MultinomialNB(alpha=best_alpha)\n",
    "\n",
    "# Define the metrics for cross-validation\n",
    "metrics = ['accuracy', 'precision', 'recall', 'f1', 'roc_auc']\n",
    "\n",
    "# Perform cross-validation\n",
    "scores_nb = cross_validate(model_nb, X_train_tf, y_train, cv=5, scoring=metrics, return_train_score=True)"
   ]
  },
  {
   "cell_type": "code",
   "execution_count": 33,
   "metadata": {},
   "outputs": [
    {
     "name": "stdout",
     "output_type": "stream",
     "text": [
      "Set\t\t Train\t\t Sd Train\n",
      "AUC\t\t 0.6734183639877147 \t 0.0026134150780360204\n",
      "Accuracy\t 0.6261949232892335 \t 0.004369307292110166\n",
      "Precision\t 0.6445396796392868 \t 0.008274878045143765\n",
      "Recall\t\t 0.5633829413829414 \t 0.00874023419152409\n",
      "F1 Score\t 0.6011262665640174 \t 0.002871598848647839\n"
     ]
    }
   ],
   "source": [
    "# Print cross-validation results\n",
    "print('Set\\t\\t', 'Train\\t\\t', 'Sd Train')\n",
    "print('AUC\\t\\t', np.mean(scores_nb['train_roc_auc']), '\\t', np.std(scores_nb['train_roc_auc']))\n",
    "print('Accuracy\\t', np.mean(scores_nb['train_accuracy']), '\\t', np.std(scores_nb['train_accuracy']))\n",
    "print('Precision\\t', np.mean(scores_nb['train_precision']), '\\t', np.std(scores_nb['train_precision']))\n",
    "print('Recall\\t\\t', np.mean(scores_nb['train_recall']), '\\t', np.std(scores_nb['train_recall']))\n",
    "print('F1 Score\\t', np.mean(scores_nb['train_f1']), '\\t', np.std(scores_nb['train_f1']))"
   ]
  },
  {
   "cell_type": "code",
   "execution_count": 34,
   "metadata": {},
   "outputs": [
    {
     "name": "stdout",
     "output_type": "stream",
     "text": [
      "Set\t\t Test\t\t \t Sd Test\n",
      "AUC\t\t 0.6540547427444539 \t 0.008658727420077068\n",
      "Accuracy\t 0.6151318104589132 \t 0.007053694917402308\n",
      "Precission\t 0.6306097515565947 \t 0.012165307860963905\n",
      "Recall\t\t 0.5573571656559209 \t 0.01258679884817839\n"
     ]
    }
   ],
   "source": [
    "print('Set\\t\\t', 'Test\\t\\t', '\\t Sd Test')\n",
    "print('AUC\\t\\t', np.mean(scores_nb['test_roc_auc']), '\\t', np.std(scores_nb['test_roc_auc']))\n",
    "print('Accuracy\\t', np.mean(scores_nb['test_accuracy']), '\\t', np.std(scores_nb['test_accuracy']))\n",
    "print('Precission\\t', np.mean(scores_nb['test_precision']), '\\t', np.std(scores_nb['test_precision']))\n",
    "print('Recall\\t\\t', np.mean(scores_nb['test_recall']), '\\t', np.std(scores_nb['test_recall']))"
   ]
  },
  {
   "cell_type": "markdown",
   "metadata": {},
   "source": [
    "There is no improvement when using the whole Dataset with ComplementNB, same scores on test"
   ]
  },
  {
   "cell_type": "markdown",
   "metadata": {},
   "source": [
    "## XGBoost"
   ]
  },
  {
   "cell_type": "code",
   "execution_count": 35,
   "metadata": {},
   "outputs": [
    {
     "data": {
      "text/plain": [
       "GridSearchCV(estimator=XGBClassifier(base_score=None, booster=None,\n",
       "                                     callbacks=None, colsample_bylevel=None,\n",
       "                                     colsample_bynode=None,\n",
       "                                     colsample_bytree=None,\n",
       "                                     early_stopping_rounds=None,\n",
       "                                     enable_categorical=False, eval_metric=None,\n",
       "                                     feature_types=None, gamma=None,\n",
       "                                     gpu_id=None, grow_policy=None,\n",
       "                                     importance_type=None,\n",
       "                                     interaction_constraints=None,\n",
       "                                     learning_rate=None, max_b...one,\n",
       "                                     max_cat_threshold=None,\n",
       "                                     max_cat_to_onehot=None,\n",
       "                                     max_delta_step=None, max_depth=None,\n",
       "                                     max_leaves=None, min_child_weight=None,\n",
       "                                     missing=nan, monotone_constraints=None,\n",
       "                                     n_estimators=100, n_jobs=None,\n",
       "                                     num_parallel_tree=None, predictor=None,\n",
       "                                     random_state=None, ...),\n",
       "             param_grid={'eta': [0.1, 0.01, 0.001], 'gamma': [0.5, 1, 1.5],\n",
       "                         'max_depth': [3, 5], 'min_child_weight': [1, 5]})"
      ]
     },
     "execution_count": 35,
     "metadata": {},
     "output_type": "execute_result"
    }
   ],
   "source": [
    "grid = {\n",
    "    'min_child_weight': [1, 5],\n",
    "    'gamma': [0.5, 1, 1.5],\n",
    "    'max_depth': [3, 5],\n",
    "    'eta': [0.1,0.01,0.001]\n",
    "}\n",
    "\n",
    "model_xgb = GridSearchCV(XGBClassifier(), param_grid=grid)\n",
    "model_xgb.fit(X_test_tf, y_test)"
   ]
  },
  {
   "cell_type": "code",
   "execution_count": 36,
   "metadata": {},
   "outputs": [
    {
     "data": {
      "text/plain": [
       "{'eta': 0.1, 'gamma': 1, 'max_depth': 5, 'min_child_weight': 1}"
      ]
     },
     "execution_count": 36,
     "metadata": {},
     "output_type": "execute_result"
    }
   ],
   "source": [
    "model_xgb.best_params_"
   ]
  },
  {
   "cell_type": "code",
   "execution_count": 37,
   "metadata": {},
   "outputs": [],
   "source": [
    "model_xgb = XGBClassifier(\n",
    "    min_child_weight=1, gamma=1.5, max_depth=5, eta=0.01\n",
    ")\n",
    "scores_xgb = cross_validate(model_xgb, X_train_tf, y_train, cv=5, scoring=metrics, return_train_score=True)"
   ]
  },
  {
   "cell_type": "code",
   "execution_count": 38,
   "metadata": {},
   "outputs": [
    {
     "name": "stdout",
     "output_type": "stream",
     "text": [
      "Set\t\t Train\t\t \t Sd Train\n",
      "AUC\t\t 0.8587153292477968 \t 0.006308650497813779\n",
      "Accuracy\t 0.774522483492086 \t 0.007718288579186365\n",
      "Precission\t 0.7929099234579235 \t 0.0074054330986203926\n",
      "Recall\t\t 0.7929099234579235 \t 0.0074054330986203926\n"
     ]
    }
   ],
   "source": [
    "print('Set\\t\\t', 'Train\\t\\t', '\\t Sd Train')\n",
    "print('AUC\\t\\t', np.mean(scores_xgb['train_roc_auc']), '\\t', np.std(scores_xgb['train_roc_auc']))\n",
    "print('Accuracy\\t', np.mean(scores_xgb['train_accuracy']), '\\t', np.std(scores_xgb['train_accuracy']))\n",
    "print('Precission\\t', np.mean(scores_xgb['train_precision']), '\\t', np.std(scores_xgb['train_precision']))\n",
    "print('Recall\\t\\t', np.mean(scores_xgb['train_precision']), '\\t', np.std(scores_xgb['train_precision']))"
   ]
  },
  {
   "cell_type": "code",
   "execution_count": 39,
   "metadata": {},
   "outputs": [
    {
     "name": "stdout",
     "output_type": "stream",
     "text": [
      "Set\t\t Test\t\t \t Sd Test\n",
      "AUC\t\t 0.6753096555595672 \t 0.016566031822220134\n",
      "Accuracy\t 0.6336200326854532 \t 0.01205788762650399\n",
      "Precission\t 0.6378737690125987 \t 0.012257182307993142\n",
      "Recall\t\t 0.6184358312989018 \t 0.02226036116193176\n"
     ]
    }
   ],
   "source": [
    "print('Set\\t\\t', 'Test\\t\\t', '\\t Sd Test')\n",
    "print('AUC\\t\\t', np.mean(scores_xgb['test_roc_auc']), '\\t', np.std(scores_xgb['test_roc_auc']))\n",
    "print('Accuracy\\t', np.mean(scores_xgb['test_accuracy']), '\\t', np.std(scores_xgb['test_accuracy']))\n",
    "print('Precission\\t', np.mean(scores_xgb['test_precision']), '\\t', np.std(scores_xgb['test_precision']))\n",
    "print('Recall\\t\\t', np.mean(scores_xgb['test_recall']), '\\t', np.std(scores_xgb['test_recall']))"
   ]
  },
  {
   "cell_type": "code",
   "execution_count": 40,
   "metadata": {},
   "outputs": [
    {
     "name": "stdout",
     "output_type": "stream",
     "text": [
      "Confusion Matrix:\n",
      "[[17  0]\n",
      " [ 0 13]]\n",
      "\n",
      "Classification Report:\n",
      "              precision    recall  f1-score   support\n",
      "\n",
      "           0       1.00      1.00      1.00        17\n",
      "           1       1.00      1.00      1.00        13\n",
      "\n",
      "    accuracy                           1.00        30\n",
      "   macro avg       1.00      1.00      1.00        30\n",
      "weighted avg       1.00      1.00      1.00        30\n",
      "\n"
     ]
    },
    {
     "data": {
      "image/png": "[encoded data removed]",
      "text/plain": [
       "<Figure size 640x480 with 1 Axes>"
      ]
     },
     "metadata": {},
     "output_type": "display_data"
    }
   ],
   "source": [
    "# SVM\n",
    "from sklearn import datasets\n",
    "from sklearn.model_selection import train_test_split\n",
    "from sklearn.svm import SVC\n",
    "from sklearn.metrics import classification_report, confusion_matrix\n",
    "\n",
    "# Load a simple dataset\n",
    "iris = datasets.load_iris()\n",
    "X = iris.data[:, :2]  # Using only two features for visualization\n",
    "y = iris.target\n",
    "\n",
    "# Binary classification (for simplicity)\n",
    "X = X[y != 2]\n",
    "y = y[y != 2]\n",
    "\n",
    "# Split the data into training and testing sets\n",
    "X_train, X_test, y_train, y_test = train_test_split(X, y, test_size=0.3, random_state=42)\n",
    "\n",
    "# Create a linear SVM classifier\n",
    "linear_svm = SVC(kernel='linear', C=1.0)\n",
    "\n",
    "# Train the model\n",
    "linear_svm.fit(X_train, y_train)\n",
    "\n",
    "# Predict on the test data\n",
    "y_pred = linear_svm.predict(X_test)\n",
    "\n",
    "# Evaluate the model\n",
    "print(\"Confusion Matrix:\")\n",
    "print(confusion_matrix(y_test, y_pred))\n",
    "print(\"\\nClassification Report:\")\n",
    "print(classification_report(y_test, y_pred))\n",
    "\n",
    "# Visualize the decision boundary\n",
    "import matplotlib.pyplot as plt\n",
    "import numpy as np\n",
    "\n",
    "# Create a grid to plot the decision boundary\n",
    "h = .02  # Step size in the mesh\n",
    "x_min, x_max = X[:, 0].min() - 1, X[:, 0].max() + 1\n",
    "y_min, y_max = X[:, 1].min() - 1, X[:, 1].max() + 1\n",
    "xx, yy = np.meshgrid(np.arange(x_min, x_max, h),\n",
    "                     np.arange(y_min, y_max, h))\n",
    "\n",
    "Z = linear_svm.predict(np.c_[xx.ravel(), yy.ravel()])\n",
    "Z = Z.reshape(xx.shape)\n",
    "\n",
    "plt.contourf(xx, yy, Z, alpha=0.8)\n",
    "plt.scatter(X[:, 0], X[:, 1], c=y, edgecolors='k', marker='o')\n",
    "plt.xlabel(\"False Positive Rate\")\n",
    "plt.ylabel(\"True Positive Rate\")\n",
    "plt.title('Linear SVM Decision Boundary')\n",
    "plt.show()\n"
   ]
  }
 ],
 "metadata": {
  "file_extension": ".py",
  "kernelspec": {
   "display_name": "Python 3 (ipykernel)",
   "language": "python",
   "name": "python3"
  },
  "language_info": {
   "codemirror_mode": {
    "name": "ipython",
    "version": 3
   },
   "file_extension": ".py",
   "mimetype": "text/x-python",
   "name": "python",
   "nbconvert_exporter": "python",
   "pygments_lexer": "ipython3",
   "version": "3.9.13"
  },
  "mimetype": "text/x-python",
  "name": "python",
  "npconvert_exporter": "python",
  "pygments_lexer": "ipython3",
  "version": 3
 },
 "nbformat": 4,
 "nbformat_minor": 2
}
