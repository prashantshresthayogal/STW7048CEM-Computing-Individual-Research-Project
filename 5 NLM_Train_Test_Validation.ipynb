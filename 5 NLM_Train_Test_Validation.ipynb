{
 "cells": [
  {
   "cell_type": "code",
   "execution_count": 1,
   "metadata": {},
   "outputs": [],
   "source": [
    "import pandas as pd\n",
    "import numpy as np\n",
    "import re\n",
    "import datetime\n",
    "import seaborn as sns\n",
    "import matplotlib.pyplot as plt\n",
    "from sklearn.model_selection import GridSearchCV\n",
    "from sklearn.naive_bayes import MultinomialNB"
   ]
  },
  {
   "cell_type": "code",
   "execution_count": 2,
   "metadata": {},
   "outputs": [],
   "source": [
    "DIR_ = \"D:/Drive/OneDrive/Documents/MIMIC\"\n",
    "DIR = \"D:/Workspace/MIMIC_DATA/mimic-iii-clinical-database-1.4/\""
   ]
  },
  {
   "cell_type": "code",
   "execution_count": 3,
   "metadata": {},
   "outputs": [],
   "source": [
    "adm_notes = pd.read_csv(DIR + \"readmission.csv\", low_memory=False)"
   ]
  },
  {
   "cell_type": "markdown",
   "metadata": {},
   "source": [
    "# Natural Language"
   ]
  },
  {
   "cell_type": "code",
   "execution_count": 4,
   "metadata": {},
   "outputs": [],
   "source": [
    "import string\n",
    "import nltk\n",
    "from nltk import word_tokenize\n",
    "from nltk.stem.porter import PorterStemmer\n",
    "from nltk.corpus import stopwords"
   ]
  },
  {
   "cell_type": "code",
   "execution_count": 5,
   "metadata": {},
   "outputs": [],
   "source": [
    "def clean_text(texts):\n",
    "    texts = texts.fillna(' ')\n",
    "    texts = texts.str.replace('\\n',' ')\n",
    "    texts = texts.str.replace('\\r',' ')\n",
    "\n",
    "    table = str.maketrans('', '', string.punctuation + '0123456789')\n",
    "    texts = [text.lower().translate(table) for text in texts]\n",
    "\n",
    "    return texts"
   ]
  },
  {
   "cell_type": "code",
   "execution_count": 6,
   "metadata": {},
   "outputs": [],
   "source": [
    "adm_notes['TEXT'] = clean_text(adm_notes['TEXT'])"
   ]
  },
  {
   "cell_type": "code",
   "execution_count": 7,
   "metadata": {},
   "outputs": [],
   "source": [
    "stop_words = stopwords.words('english')\n",
    "stop_words = stop_words + ['patient', 'date', 'admission', 'discharge', 'lastname', 'firstname', 'sex']"
   ]
  },
  {
   "cell_type": "code",
   "execution_count": 8,
   "metadata": {},
   "outputs": [],
   "source": [
    "porter = PorterStemmer()"
   ]
  },
  {
   "cell_type": "code",
   "execution_count": 9,
   "metadata": {},
   "outputs": [],
   "source": [
    "def tokenize_stem(text):\n",
    "    words = word_tokenize(text)\n",
    "    words = [word for word in words if word not in stop_words]\n",
    "    words = [porter.stem(word) for word in words]\n",
    "    return words"
   ]
  },
  {
   "cell_type": "markdown",
   "metadata": {},
   "source": [
    "# Model\n",
    "## Words, Train and Test"
   ]
  },
  {
   "cell_type": "code",
   "execution_count": 10,
   "metadata": {},
   "outputs": [],
   "source": [
    "from sklearn import metrics\n",
    "from sklearn.feature_extraction.text import CountVectorizer\n",
    "from sklearn.linear_model import LogisticRegression, Ridge, Lasso, ElasticNet\n",
    "from sklearn.svm import SVC\n",
    "from sklearn.naive_bayes import MultinomialNB\n",
    "from sklearn.ensemble import RandomForestClassifier\n",
    "from sklearn.neural_network import MLPClassifier\n",
    "from sklearn.model_selection import GridSearchCV, train_test_split, cross_val_score, cross_validate\n",
    "from xgboost import XGBClassifier"
   ]
  },
  {
   "cell_type": "markdown",
   "metadata": {},
   "source": [
    "Repartition data"
   ]
  },
  {
   "cell_type": "code",
   "execution_count": 11,
   "metadata": {},
   "outputs": [],
   "source": [
    "df_train, df_test = train_test_split(adm_notes, test_size=0.3)"
   ]
  },
  {
   "cell_type": "markdown",
   "metadata": {},
   "source": [
    "Subsample non-readmitted patients to match size of readmitted ones"
   ]
  },
  {
   "cell_type": "code",
   "execution_count": 12,
   "metadata": {},
   "outputs": [],
   "source": [
    "rows_pos = df_train['READM_WITHIN_30'] == 1\n",
    "df_train_pos = df_train.loc[rows_pos]\n",
    "df_train_neg = df_train.loc[~rows_pos]\n",
    "\n",
    "df_train = pd.concat([df_train_pos, df_train_neg.sample(n = len(df_train_pos))], axis = 0)\n",
    "df_train = df_train.sample(n = len(df_train)).reset_index(drop = True)"
   ]
  },
  {
   "cell_type": "code",
   "execution_count": 13,
   "metadata": {},
   "outputs": [],
   "source": [
    "rows_pos = df_test['READM_WITHIN_30'] == 1\n",
    "df_test_pos = df_test.loc[rows_pos]\n",
    "df_test_neg = df_test.loc[~rows_pos]\n",
    "\n",
    "df_test = pd.concat([df_test_pos, df_test_neg.sample(n = len(df_test_pos))], axis = 0)\n",
    "df_test = df_test.sample(n = len(df_test)).reset_index(drop = True)"
   ]
  },
  {
   "cell_type": "code",
   "execution_count": 14,
   "metadata": {},
   "outputs": [],
   "source": [
    "df_test, df_valid = train_test_split(df_test, test_size=0.5)"
   ]
  },
  {
   "cell_type": "code",
   "execution_count": 15,
   "metadata": {},
   "outputs": [
    {
     "name": "stdout",
     "output_type": "stream",
     "text": [
      "(4150, 10)\n",
      "(888, 10)\n",
      "(888, 10)\n"
     ]
    }
   ],
   "source": [
    "print(df_train.shape)\n",
    "print(df_test.shape)\n",
    "print(df_valid.shape)"
   ]
  },
  {
   "cell_type": "markdown",
   "metadata": {},
   "source": [
    "Sparse Matrix with word count"
   ]
  },
  {
   "cell_type": "code",
   "execution_count": 16,
   "metadata": {},
   "outputs": [],
   "source": [
    "# Tokenize and stem function\n",
    "def tokenize_stem(text):\n",
    "    stemmer = PorterStemmer()\n",
    "    tokens = word_tokenize(text)\n",
    "    stemmed_tokens = [stemmer.stem(token) for token in tokens]\n",
    "    return stemmed_tokens\n",
    "\n",
    "# Assuming df_train and df_test are already defined and contain the required columns\n",
    "\n",
    "# Vectorization\n",
    "vect = CountVectorizer(lowercase=True, max_features=1000, tokenizer=tokenize_stem, token_pattern=None)\n",
    "\n",
    "# Fit the vectorizer\n",
    "vect.fit(df_train['TEXT'].values)\n",
    "\n",
    "# Transform the text data\n",
    "X_train_tf = vect.transform(df_train['TEXT'].values)\n",
    "X_test_tf = vect.transform(df_test['TEXT'].values)\n",
    "X_valid_tf = vect.transform(df_valid['TEXT'].values)\n",
    "\n",
    "# Extract target variables\n",
    "y_train = df_train['READM_WITHIN_30']\n",
    "y_test = df_test['READM_WITHIN_30']\n",
    "y_valid = df_valid['READM_WITHIN_30']\n",
    "     \n"
   ]
  },
  {
   "cell_type": "markdown",
   "metadata": {},
   "source": [
    "## Support Vector Machine"
   ]
  },
  {
   "cell_type": "code",
   "execution_count": 17,
   "metadata": {},
   "outputs": [
    {
     "data": {
      "text/plain": [
       "GridSearchCV(estimator=SVC(),\n",
       "             param_grid={'C': [0.1, 1, 2], 'kernel': ['linear', 'poly', 'rbf']})"
      ]
     },
     "execution_count": 17,
     "metadata": {},
     "output_type": "execute_result"
    }
   ],
   "source": [
    "grid = {\n",
    "    'kernel': ['linear', 'poly', 'rbf'],\n",
    "    'C': [0.1, 1, 2]\n",
    "}\n",
    "\n",
    "model_svm = GridSearchCV(SVC(), param_grid=grid)\n",
    "model_svm.fit(X_test_tf, y_test)"
   ]
  },
  {
   "cell_type": "code",
   "execution_count": 18,
   "metadata": {},
   "outputs": [
    {
     "data": {
      "text/plain": [
       "{'C': 1, 'kernel': 'rbf'}"
      ]
     },
     "execution_count": 18,
     "metadata": {},
     "output_type": "execute_result"
    }
   ],
   "source": [
    "model_svm.best_params_"
   ]
  },
  {
   "cell_type": "code",
   "execution_count": 19,
   "metadata": {},
   "outputs": [],
   "source": [
    "model_svm = SVC(kernel='rbf', C=1).fit(X_train_tf, y_train)"
   ]
  },
  {
   "cell_type": "code",
   "execution_count": 20,
   "metadata": {},
   "outputs": [],
   "source": [
    "y_train_preds = model_svm.predict(X_train_tf)\n",
    "y_valid_preds = model_svm.predict(X_valid_tf)"
   ]
  },
  {
   "cell_type": "code",
   "execution_count": 21,
   "metadata": {},
   "outputs": [],
   "source": [
    "fpr, tpr, thresholds = metrics.roc_curve(y_train, y_train_preds)\n",
    "fprt, tprt, thresholds = metrics.roc_curve(y_valid, y_valid_preds)\n",
    "\n",
    "auc_train = metrics.auc(fpr, tpr)\n",
    "auc_test = metrics.auc(fprt, tprt)\n",
    "\n",
    "acc_train = metrics.accuracy_score(y_train, y_train_preds)\n",
    "acc_test = metrics.accuracy_score(y_valid, y_valid_preds)\n",
    "\n",
    "prec_train = metrics.precision_score(y_train, y_train_preds)\n",
    "prec_test = metrics.precision_score(y_valid, y_valid_preds)\n",
    "\n",
    "rec_train = metrics.recall_score(y_train, y_train_preds)\n",
    "rec_test = metrics.recall_score(y_valid, y_valid_preds)"
   ]
  },
  {
   "cell_type": "code",
   "execution_count": 22,
   "metadata": {},
   "outputs": [
    {
     "name": "stdout",
     "output_type": "stream",
     "text": [
      "Set\t\t Train\t\t    Test\n",
      "AUC\t\t 0.7146987951807229 0.6241274350649351\n",
      "Accuracy\t 0.7146987951807229 0.6238738738738738\n",
      "Precission\t 0.7507034327518289 0.6357142857142857\n",
      "Recall\t\t 0.6428915662650603 0.5959821428571429\n"
     ]
    }
   ],
   "source": [
    "print('Set\\t\\t', 'Train\\t\\t', '   Test')\n",
    "print('AUC\\t\\t', auc_train, auc_test)\n",
    "print('Accuracy\\t', acc_train, acc_test)\n",
    "print('Precission\\t', prec_train, prec_test)\n",
    "print('Recall\\t\\t', rec_train, rec_test)"
   ]
  },
  {
   "cell_type": "markdown",
   "metadata": {},
   "source": [
    "## Multi-layer Perceptron"
   ]
  },
  {
   "cell_type": "code",
   "execution_count": 24,
   "metadata": {},
   "outputs": [
    {
     "name": "stdout",
     "output_type": "stream",
     "text": [
      "{'alpha': 0.1, 'learning_rate_init': 0.001, 'solver': 'adam'}\n"
     ]
    }
   ],
   "source": [
    "from sklearn.model_selection import GridSearchCV\n",
    "from sklearn.neural_network import MLPClassifier\n",
    "\n",
    "# Define the parameter grid\n",
    "grid = {\n",
    "    'alpha': [1e-1, 1e-2, 1e-3, 1e-4, 1e-5],\n",
    "    'solver': ['adam', 'sgd', 'lbfgs'],\n",
    "    'learning_rate_init': [0.01, 0.001, 0.0001]\n",
    "}\n",
    "\n",
    "# Initialize the GridSearchCV with the MLPClassifier\n",
    "model_mlp = GridSearchCV(MLPClassifier(hidden_layer_sizes=(10, 2), max_iter=6000), param_grid=grid, cv=5)\n",
    "\n",
    "# Fit the model to the training data\n",
    "model_mlp.fit(X_train_tf, y_train)\n",
    "\n",
    "# Access the best parameters found by the grid search\n",
    "best_params = model_mlp.best_params_\n",
    "print(best_params)"
   ]
  },
  {
   "cell_type": "code",
   "execution_count": 25,
   "metadata": {},
   "outputs": [
    {
     "data": {
      "text/plain": [
       "{'alpha': 0.1, 'learning_rate_init': 0.001, 'solver': 'adam'}"
      ]
     },
     "execution_count": 25,
     "metadata": {},
     "output_type": "execute_result"
    }
   ],
   "source": [
    "model_mlp.best_params_"
   ]
  },
  {
   "cell_type": "code",
   "execution_count": 26,
   "metadata": {},
   "outputs": [],
   "source": [
    "model_mlp = MLPClassifier(hidden_layer_sizes=(10,2), alpha=0.1, learning_rate_init=0.001, solver='lbfgs').fit(X_train_tf, y_train)"
   ]
  },
  {
   "cell_type": "code",
   "execution_count": 27,
   "metadata": {},
   "outputs": [],
   "source": [
    "y_train_preds = model_mlp.predict(X_train_tf)\n",
    "y_valid_preds = model_mlp.predict(X_valid_tf)"
   ]
  },
  {
   "cell_type": "code",
   "execution_count": 28,
   "metadata": {},
   "outputs": [],
   "source": [
    "fpr, tpr, thresholds = metrics.roc_curve(y_train, y_train_preds)\n",
    "fprt, tprt, thresholds = metrics.roc_curve(y_valid, y_valid_preds)\n",
    "\n",
    "auc_train = metrics.auc(fpr, tpr)\n",
    "auc_test = metrics.auc(fprt, tprt)\n",
    "\n",
    "acc_train = metrics.accuracy_score(y_train, y_train_preds)\n",
    "acc_test = metrics.accuracy_score(y_valid, y_valid_preds)\n",
    "\n",
    "prec_train = metrics.precision_score(y_train, y_train_preds)\n",
    "prec_test = metrics.precision_score(y_valid, y_valid_preds)\n",
    "\n",
    "rec_train = metrics.recall_score(y_train, y_train_preds)\n",
    "rec_test = metrics.recall_score(y_valid, y_valid_preds)"
   ]
  },
  {
   "cell_type": "code",
   "execution_count": 29,
   "metadata": {},
   "outputs": [
    {
     "name": "stdout",
     "output_type": "stream",
     "text": [
      "Set\t\t Train\t\t    Test\n",
      "AUC\t\t 0.5202409638554217 0.5042410714285714\n",
      "Accuracy\t 0.5202409638554217 0.5\n",
      "Precission\t 0.9772727272727273 0.5769230769230769\n",
      "Recall\t\t 0.04144578313253012 0.033482142857142856\n"
     ]
    }
   ],
   "source": [
    "print('Set\\t\\t', 'Train\\t\\t', '   Test')\n",
    "print('AUC\\t\\t', auc_train, auc_test)\n",
    "print('Accuracy\\t', acc_train, acc_test)\n",
    "print('Precission\\t', prec_train, prec_test)\n",
    "print('Recall\\t\\t', rec_train, rec_test)"
   ]
  },
  {
   "cell_type": "markdown",
   "metadata": {},
   "source": [
    "## Random Forest"
   ]
  },
  {
   "cell_type": "code",
   "execution_count": 30,
   "metadata": {},
   "outputs": [
    {
     "data": {
      "text/plain": [
       "GridSearchCV(estimator=RandomForestClassifier(bootstrap=False),\n",
       "             param_grid={'max_depth': [10, 20, 30, 40],\n",
       "                         'max_features': ['auto', 'sqrt'],\n",
       "                         'min_samples_leaf': [1, 2],\n",
       "                         'min_samples_split': [2, 5],\n",
       "                         'n_estimators': [100, 200, 300]})"
      ]
     },
     "execution_count": 30,
     "metadata": {},
     "output_type": "execute_result"
    }
   ],
   "source": [
    "grid = {\n",
    "    'max_depth': [10, 20, 30, 40],\n",
    "    'max_features': ['auto', 'sqrt'],\n",
    "    'min_samples_leaf': [1, 2],\n",
    "    'min_samples_split': [2, 5],\n",
    "    'n_estimators': [100, 200, 300]\n",
    "}\n",
    "model_rf = GridSearchCV(RandomForestClassifier(bootstrap=False), param_grid=grid)\n",
    "model_rf.fit(X_test_tf, y_test)"
   ]
  },
  {
   "cell_type": "code",
   "execution_count": 31,
   "metadata": {},
   "outputs": [
    {
     "data": {
      "text/plain": [
       "{'max_depth': 20,\n",
       " 'max_features': 'sqrt',\n",
       " 'min_samples_leaf': 2,\n",
       " 'min_samples_split': 5,\n",
       " 'n_estimators': 100}"
      ]
     },
     "execution_count": 31,
     "metadata": {},
     "output_type": "execute_result"
    }
   ],
   "source": [
    "model_rf.best_params_"
   ]
  },
  {
   "cell_type": "code",
   "execution_count": 32,
   "metadata": {},
   "outputs": [],
   "source": [
    "model_rf = RandomForestClassifier(\n",
    "    bootstrap=False, max_depth=10, max_features='auto', min_samples_leaf=2, min_samples_split=2, n_estimators=100\n",
    ").fit(X_train_tf, y_train)"
   ]
  },
  {
   "cell_type": "code",
   "execution_count": 33,
   "metadata": {},
   "outputs": [],
   "source": [
    "y_train_preds = model_rf.predict(X_train_tf)\n",
    "y_valid_preds = model_rf.predict(X_valid_tf)"
   ]
  },
  {
   "cell_type": "code",
   "execution_count": 34,
   "metadata": {},
   "outputs": [],
   "source": [
    "fpr, tpr, thresholds = metrics.roc_curve(y_train, y_train_preds)\n",
    "fprt, tprt, thresholds = metrics.roc_curve(y_valid, y_valid_preds)\n",
    "\n",
    "auc_train = metrics.auc(fpr, tpr)\n",
    "auc_test = metrics.auc(fprt, tprt)\n",
    "\n",
    "acc_train = metrics.accuracy_score(y_train, y_train_preds)\n",
    "acc_test = metrics.accuracy_score(y_valid, y_valid_preds)\n",
    "\n",
    "prec_train = metrics.precision_score(y_train, y_train_preds)\n",
    "prec_test = metrics.precision_score(y_valid, y_valid_preds)\n",
    "\n",
    "rec_train = metrics.recall_score(y_train, y_train_preds)\n",
    "rec_test = metrics.recall_score(y_valid, y_valid_preds)"
   ]
  },
  {
   "cell_type": "code",
   "execution_count": 35,
   "metadata": {},
   "outputs": [
    {
     "name": "stdout",
     "output_type": "stream",
     "text": [
      "Set\t\t Train\t\t    Test\n",
      "AUC\t\t 0.9260240963855422 0.6179991883116882\n",
      "Accuracy\t 0.9260240963855422 0.6182432432432432\n",
      "Precission\t 0.9857142857142858 0.6162046908315565\n",
      "Recall\t\t 0.864578313253012 0.6450892857142857\n"
     ]
    }
   ],
   "source": [
    "print('Set\\t\\t', 'Train\\t\\t', '   Test')\n",
    "print('AUC\\t\\t', auc_train, auc_test)\n",
    "print('Accuracy\\t', acc_train, acc_test)\n",
    "print('Precission\\t', prec_train, prec_test)\n",
    "print('Recall\\t\\t', rec_train, rec_test)"
   ]
  },
  {
   "cell_type": "markdown",
   "metadata": {},
   "source": [
    "## Naive Bayes"
   ]
  },
  {
   "cell_type": "code",
   "execution_count": 36,
   "metadata": {},
   "outputs": [
    {
     "name": "stderr",
     "output_type": "stream",
     "text": [
      "C:\\Users\\Dell\\anaconda3\\lib\\site-packages\\sklearn\\naive_bayes.py:555: UserWarning: alpha too small will result in numeric errors, setting alpha = 1.0e-10\n",
      "  warnings.warn(\n",
      "C:\\Users\\Dell\\anaconda3\\lib\\site-packages\\sklearn\\naive_bayes.py:555: UserWarning: alpha too small will result in numeric errors, setting alpha = 1.0e-10\n",
      "  warnings.warn(\n",
      "C:\\Users\\Dell\\anaconda3\\lib\\site-packages\\sklearn\\naive_bayes.py:555: UserWarning: alpha too small will result in numeric errors, setting alpha = 1.0e-10\n",
      "  warnings.warn(\n",
      "C:\\Users\\Dell\\anaconda3\\lib\\site-packages\\sklearn\\naive_bayes.py:555: UserWarning: alpha too small will result in numeric errors, setting alpha = 1.0e-10\n",
      "  warnings.warn(\n",
      "C:\\Users\\Dell\\anaconda3\\lib\\site-packages\\sklearn\\naive_bayes.py:555: UserWarning: alpha too small will result in numeric errors, setting alpha = 1.0e-10\n",
      "  warnings.warn(\n",
      "C:\\Users\\Dell\\anaconda3\\lib\\site-packages\\sklearn\\naive_bayes.py:555: UserWarning: alpha too small will result in numeric errors, setting alpha = 1.0e-10\n",
      "  warnings.warn(\n"
     ]
    },
    {
     "data": {
      "text/plain": [
       "GridSearchCV(estimator=MultinomialNB(),\n",
       "             param_grid={'alpha': [10, 1, 0, 0.1, 0.01, 0.001]})"
      ]
     },
     "execution_count": 36,
     "metadata": {},
     "output_type": "execute_result"
    }
   ],
   "source": [
    "# Define the parameter grid\n",
    "param_grid = {'alpha': [10, 1, 0.1, 0.01, 0.001]}\n",
    "\n",
    "# Initialize the GridSearchCV with the MultinomialNB\n",
    "grid_search_nb = GridSearchCV(MultinomialNB(), param_grid=param_grid, cv=3, n_jobs=-1)\n",
    "\n",
    "# Fit the model to the training data\n",
    "grid_search_nb.fit(X_train_tf, y_train)\n",
    "\n",
    "# Get the best parameters\n",
    "best_alpha = grid_search_nb.best_params_['alpha']\n",
    "print(f\"Best alpha: {best_alpha}\")"
   ]
  },
  {
   "cell_type": "code",
   "execution_count": 37,
   "metadata": {},
   "outputs": [
    {
     "data": {
      "text/plain": [
       "{'alpha': 0}"
      ]
     },
     "execution_count": 37,
     "metadata": {},
     "output_type": "execute_result"
    }
   ],
   "source": [
    "model_nb.best_params_"
   ]
  },
  {
   "cell_type": "code",
   "execution_count": 38,
   "metadata": {},
   "outputs": [],
   "source": [
    "# model_nb = MultinomialNB(alpha=1)\n",
    "model_nb = MultinomialNB(alpha=best_alpha).fit(X_train_tf, y_train)"
   ]
  },
  {
   "cell_type": "code",
   "execution_count": 39,
   "metadata": {},
   "outputs": [],
   "source": [
    "y_train_preds = model_nb.predict(X_train_tf)\n",
    "y_valid_preds = model_nb.predict(X_valid_tf)"
   ]
  },
  {
   "cell_type": "code",
   "execution_count": 40,
   "metadata": {},
   "outputs": [],
   "source": [
    "fpr, tpr, thresholds = metrics.roc_curve(y_train, y_train_preds)\n",
    "fprt, tprt, thresholds = metrics.roc_curve(y_valid, y_valid_preds)\n",
    "\n",
    "auc_train = metrics.auc(fpr, tpr)\n",
    "auc_test = metrics.auc(fprt, tprt)\n",
    "\n",
    "acc_train = metrics.accuracy_score(y_train, y_train_preds)\n",
    "acc_test = metrics.accuracy_score(y_valid, y_valid_preds)\n",
    "\n",
    "prec_train = metrics.precision_score(y_train, y_train_preds)\n",
    "prec_test = metrics.precision_score(y_valid, y_valid_preds)\n",
    "\n",
    "rec_train = metrics.recall_score(y_train, y_train_preds)\n",
    "rec_test = metrics.recall_score(y_valid, y_valid_preds)"
   ]
  },
  {
   "cell_type": "code",
   "execution_count": 41,
   "metadata": {},
   "outputs": [
    {
     "name": "stdout",
     "output_type": "stream",
     "text": [
      "Set\t\t Train\t\t    Test\n",
      "AUC\t\t 0.6457831325301205 0.6150162337662337\n",
      "Accuracy\t 0.6457831325301204 0.6148648648648649\n",
      "Precission\t 0.6628971459343026 0.6232558139534884\n",
      "Recall\t\t 0.5932530120481928 0.5982142857142857\n"
     ]
    }
   ],
   "source": [
    "print('Set\\t\\t', 'Train\\t\\t', '   Test')\n",
    "print('AUC\\t\\t', auc_train, auc_test)\n",
    "print('Accuracy\\t', acc_train, acc_test)\n",
    "print('Precission\\t', prec_train, prec_test)\n",
    "print('Recall\\t\\t', rec_train, rec_test)"
   ]
  },
  {
   "cell_type": "markdown",
   "metadata": {},
   "source": [
    "There is no improvement when using the whole Dataset with ComplementNB, same scores on test"
   ]
  },
  {
   "cell_type": "markdown",
   "metadata": {},
   "source": [
    "## XGBoost"
   ]
  },
  {
   "cell_type": "code",
   "execution_count": 42,
   "metadata": {},
   "outputs": [
    {
     "data": {
      "text/plain": [
       "GridSearchCV(estimator=XGBClassifier(base_score=None, booster=None,\n",
       "                                     callbacks=None, colsample_bylevel=None,\n",
       "                                     colsample_bynode=None,\n",
       "                                     colsample_bytree=None,\n",
       "                                     early_stopping_rounds=None,\n",
       "                                     enable_categorical=False, eval_metric=None,\n",
       "                                     feature_types=None, gamma=None,\n",
       "                                     gpu_id=None, grow_policy=None,\n",
       "                                     importance_type=None,\n",
       "                                     interaction_constraints=None,\n",
       "                                     learning_rate=None, max_b...one,\n",
       "                                     max_cat_threshold=None,\n",
       "                                     max_cat_to_onehot=None,\n",
       "                                     max_delta_step=None, max_depth=None,\n",
       "                                     max_leaves=None, min_child_weight=None,\n",
       "                                     missing=nan, monotone_constraints=None,\n",
       "                                     n_estimators=100, n_jobs=None,\n",
       "                                     num_parallel_tree=None, predictor=None,\n",
       "                                     random_state=None, ...),\n",
       "             param_grid={'eta': [0.1, 0.01, 0.001], 'gamma': [0.5, 1, 1.5],\n",
       "                         'max_depth': [3, 5], 'min_child_weight': [1, 5]})"
      ]
     },
     "execution_count": 42,
     "metadata": {},
     "output_type": "execute_result"
    }
   ],
   "source": [
    "grid = {\n",
    "    'min_child_weight': [1, 5],\n",
    "    'gamma': [0.5, 1, 1.5],\n",
    "    'max_depth': [3, 5],\n",
    "    'eta': [0.1,0.01,0.001]\n",
    "}\n",
    "\n",
    "model_xgb = GridSearchCV(XGBClassifier(), param_grid=grid)\n",
    "model_xgb.fit(X_test_tf, y_test)"
   ]
  },
  {
   "cell_type": "code",
   "execution_count": 43,
   "metadata": {},
   "outputs": [
    {
     "data": {
      "text/plain": [
       "{'eta': 0.01, 'gamma': 1, 'max_depth': 5, 'min_child_weight': 5}"
      ]
     },
     "execution_count": 43,
     "metadata": {},
     "output_type": "execute_result"
    }
   ],
   "source": [
    "model_xgb.best_params_"
   ]
  },
  {
   "cell_type": "code",
   "execution_count": 44,
   "metadata": {},
   "outputs": [],
   "source": [
    "model_xgb = XGBClassifier(\n",
    "    min_child_weight=1, gamma=0.5, max_depth=3, eta=0.01\n",
    ").fit(X_train_tf, y_train)"
   ]
  },
  {
   "cell_type": "code",
   "execution_count": 45,
   "metadata": {},
   "outputs": [],
   "source": [
    "y_train_preds = model_xgb.predict(X_train_tf)\n",
    "y_valid_preds = model_xgb.predict(X_valid_tf)"
   ]
  },
  {
   "cell_type": "code",
   "execution_count": 46,
   "metadata": {},
   "outputs": [],
   "source": [
    "fpr, tpr, thresholds = metrics.roc_curve(y_train, y_train_preds)\n",
    "fprt, tprt, thresholds = metrics.roc_curve(y_valid, y_valid_preds)\n",
    "\n",
    "auc_train = metrics.auc(fpr, tpr)\n",
    "auc_test = metrics.auc(fprt, tprt)\n",
    "\n",
    "acc_train = metrics.accuracy_score(y_train, y_train_preds)\n",
    "acc_test = metrics.accuracy_score(y_valid, y_valid_preds)\n",
    "\n",
    "prec_train = metrics.precision_score(y_train, y_train_preds)\n",
    "prec_test = metrics.precision_score(y_valid, y_valid_preds)\n",
    "\n",
    "rec_train = metrics.recall_score(y_train, y_train_preds)\n",
    "rec_test = metrics.recall_score(y_valid, y_valid_preds)"
   ]
  },
  {
   "cell_type": "code",
   "execution_count": 47,
   "metadata": {},
   "outputs": [
    {
     "name": "stdout",
     "output_type": "stream",
     "text": [
      "Set\t\t Train\t\t    Test\n",
      "AUC\t\t 0.6761445783132531 0.6070616883116883\n",
      "Accuracy\t 0.676144578313253 0.6069819819819819\n",
      "Precission\t 0.6881111682964488 0.6132723112128147\n",
      "Recall\t\t 0.6443373493975904 0.5982142857142857\n"
     ]
    }
   ],
   "source": [
    "print('Set\\t\\t', 'Train\\t\\t', '   Test')\n",
    "print('AUC\\t\\t', auc_train, auc_test)\n",
    "print('Accuracy\\t', acc_train, acc_test)\n",
    "print('Precission\\t', prec_train, prec_test)\n",
    "print('Recall\\t\\t', rec_train, rec_test)"
   ]
  }
 ],
 "metadata": {
  "file_extension": ".py",
  "kernelspec": {
   "display_name": "Python 3 (ipykernel)",
   "language": "python",
   "name": "python3"
  },
  "language_info": {
   "codemirror_mode": {
    "name": "ipython",
    "version": 3
   },
   "file_extension": ".py",
   "mimetype": "text/x-python",
   "name": "python",
   "nbconvert_exporter": "python",
   "pygments_lexer": "ipython3",
   "version": "3.9.13"
  },
  "mimetype": "text/x-python",
  "name": "python",
  "npconvert_exporter": "python",
  "pygments_lexer": "ipython3",
  "version": 3
 },
 "nbformat": 4,
 "nbformat_minor": 2
}
