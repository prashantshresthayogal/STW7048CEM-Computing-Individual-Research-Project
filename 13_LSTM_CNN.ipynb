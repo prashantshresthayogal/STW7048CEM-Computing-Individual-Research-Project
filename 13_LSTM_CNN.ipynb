{
 "cells": [
  {
   "cell_type": "code",
   "execution_count": 1,
   "metadata": {
    "colab": {},
    "colab_type": "code",
    "id": "7OgnAuJpjEPQ"
   },
   "outputs": [],
   "source": [
    "import pandas as pd\n",
    "import numpy as np\n",
    "import re\n",
    "import datetime\n",
    "import seaborn as sns\n",
    "from matplotlib import pyplot as plt\n"
   ]
  },
  {
   "cell_type": "code",
   "execution_count": 2,
   "metadata": {
    "colab": {},
    "colab_type": "code",
    "id": "kua5IBPcjEPY"
   },
   "outputs": [],
   "source": [
    "DIR_ = \"D:/Drive/OneDrive/Documents/MIMIC\"\n",
    "DIR = \"D:/Workspace/MIMIC_DATA/mimic-iii-clinical-database-1.4/\""
   ]
  },
  {
   "cell_type": "code",
   "execution_count": 3,
   "metadata": {
    "colab": {},
    "colab_type": "code",
    "id": "mUya8neejEPe"
   },
   "outputs": [],
   "source": [
    "adm_notes = pd.read_csv(DIR + \"readmission.csv\", low_memory=False)"
   ]
  },
  {
   "cell_type": "markdown",
   "metadata": {
    "colab_type": "text",
    "id": "wVGx2JTOjEPi"
   },
   "source": [
    "# Natural Language"
   ]
  },
  {
   "cell_type": "code",
   "execution_count": 4,
   "metadata": {
    "colab": {},
    "colab_type": "code",
    "id": "-eSp2rKYjEPj"
   },
   "outputs": [],
   "source": [
    "import string\n",
    "import nltk\n",
    "from nltk import word_tokenize\n",
    "from nltk.stem.porter import PorterStemmer\n",
    "from nltk.corpus import stopwords"
   ]
  },
  {
   "cell_type": "code",
   "execution_count": 5,
   "metadata": {
    "colab": {},
    "colab_type": "code",
    "id": "5rxvNB8QjEPo"
   },
   "outputs": [],
   "source": [
    "def clean_text(texts):\n",
    "    texts = texts.fillna(' ')\n",
    "    texts = texts.str.replace('\\n',' ')\n",
    "    texts = texts.str.replace('\\r',' ')\n",
    "\n",
    "    table = str.maketrans('', '', string.punctuation + '0123456789')\n",
    "    texts = [text.lower().translate(table) for text in texts]\n",
    "\n",
    "    return texts"
   ]
  },
  {
   "cell_type": "code",
   "execution_count": 6,
   "metadata": {
    "colab": {},
    "colab_type": "code",
    "id": "21E4eXpFjEPt"
   },
   "outputs": [],
   "source": [
    "adm_notes['TEXT'] = clean_text(adm_notes['TEXT'])"
   ]
  },
  {
   "cell_type": "code",
   "execution_count": 7,
   "metadata": {
    "colab": {
     "base_uri": "https://localhost:8080/",
     "height": 102
    },
    "colab_type": "code",
    "id": "VWRV-T4ewLvK",
    "outputId": "b4eec674-ec5f-4a56-aa7c-149cff169b83"
   },
   "outputs": [
    {
     "name": "stderr",
     "output_type": "stream",
     "text": [
      "[nltk_data] Downloading package punkt to\n",
      "[nltk_data]     C:\\Users\\Dell\\AppData\\Roaming\\nltk_data...\n",
      "[nltk_data]   Package punkt is already up-to-date!\n",
      "[nltk_data] Downloading package stopwords to\n",
      "[nltk_data]     C:\\Users\\Dell\\AppData\\Roaming\\nltk_data...\n",
      "[nltk_data]   Package stopwords is already up-to-date!\n"
     ]
    },
    {
     "data": {
      "text/plain": [
       "True"
      ]
     },
     "execution_count": 7,
     "metadata": {},
     "output_type": "execute_result"
    }
   ],
   "source": [
    "nltk.download('punkt')\n",
    "nltk.download('stopwords')"
   ]
  },
  {
   "cell_type": "code",
   "execution_count": 8,
   "metadata": {
    "colab": {},
    "colab_type": "code",
    "id": "G3JaQ3fJjEPx"
   },
   "outputs": [],
   "source": [
    "stop_words = stopwords.words('english')\n",
    "stop_words = stop_words + ['patient', 'date', 'admission', 'discharge', 'lastname', 'firstname', 'sex']"
   ]
  },
  {
   "cell_type": "code",
   "execution_count": 9,
   "metadata": {
    "colab": {},
    "colab_type": "code",
    "id": "A12dNl0djEP2"
   },
   "outputs": [],
   "source": [
    "porter = PorterStemmer()"
   ]
  },
  {
   "cell_type": "code",
   "execution_count": 10,
   "metadata": {
    "colab": {},
    "colab_type": "code",
    "id": "ngzwTfGejEP6"
   },
   "outputs": [],
   "source": [
    "def tokenize_stem(text):\n",
    "    words = word_tokenize(text)\n",
    "    words = [word for word in words if word not in stop_words]\n",
    "    words = [porter.stem(word) for word in words]\n",
    "    return words"
   ]
  },
  {
   "cell_type": "code",
   "execution_count": 11,
   "metadata": {
    "colab": {},
    "colab_type": "code",
    "id": "gt9quJSrB3zn"
   },
   "outputs": [],
   "source": [
    "for i, text in enumerate(adm_notes['TEXT']):\n",
    "   adm_notes.loc[i, 'TEXT'] = (' ').join(tokenize_stem(adm_notes['TEXT'][i]))"
   ]
  },
  {
   "cell_type": "markdown",
   "metadata": {
    "colab_type": "text",
    "id": "UCpZCmD0jEP-"
   },
   "source": [
    "# Model\n",
    "## Words, Train and Test"
   ]
  },
  {
   "cell_type": "code",
   "execution_count": 12,
   "metadata": {
    "colab": {},
    "colab_type": "code",
    "id": "ehkOkbR-jEP_"
   },
   "outputs": [],
   "source": [
    "from sklearn.feature_extraction.text import CountVectorizer\n",
    "from sklearn.model_selection import train_test_split"
   ]
  },
  {
   "cell_type": "markdown",
   "metadata": {
    "colab_type": "text",
    "id": "EKUfyfFLjEQD"
   },
   "source": [
    "Repartition data"
   ]
  },
  {
   "cell_type": "code",
   "execution_count": 13,
   "metadata": {
    "colab": {},
    "colab_type": "code",
    "id": "LGDUXsUcjEQE"
   },
   "outputs": [],
   "source": [
    "df_train, df_test = train_test_split(adm_notes, test_size=0.2, random_state=42)"
   ]
  },
  {
   "cell_type": "markdown",
   "metadata": {
    "colab_type": "text",
    "id": "ADSXuj_wjEQI"
   },
   "source": [
    "Subsample non-readmitted patients to match size of readmitted ones"
   ]
  },
  {
   "cell_type": "code",
   "execution_count": 14,
   "metadata": {
    "colab": {},
    "colab_type": "code",
    "id": "90ZfPmgcjEQJ"
   },
   "outputs": [],
   "source": [
    "rows_pos = df_train['READM_WITHIN_30'] == 1\n",
    "df_train_pos = df_train.loc[rows_pos]\n",
    "df_train_neg = df_train.loc[~rows_pos]\n",
    "\n",
    "df_train = pd.concat([df_train_pos, df_train_neg.sample(n = len(df_train_pos))], axis = 0)\n",
    "df_train = df_train.sample(n = len(df_train)).reset_index(drop = True)"
   ]
  },
  {
   "cell_type": "code",
   "execution_count": 15,
   "metadata": {
    "colab": {},
    "colab_type": "code",
    "id": "xKRSSvW6jEQN"
   },
   "outputs": [],
   "source": [
    "rows_pos = df_test['READM_WITHIN_30'] == 1\n",
    "df_test_pos = df_test.loc[rows_pos]\n",
    "df_test_neg = df_test.loc[~rows_pos]\n",
    "\n",
    "df_test = pd.concat([df_test_pos, df_test_neg.sample(n = len(df_test_pos))], axis = 0)\n",
    "df_test = df_test.sample(n = len(df_test)).reset_index(drop = True)"
   ]
  },
  {
   "cell_type": "code",
   "execution_count": 16,
   "metadata": {
    "colab": {
     "base_uri": "https://localhost:8080/",
     "height": 51
    },
    "colab_type": "code",
    "id": "UT6P7kmvjEQR",
    "outputId": "471c45d2-786f-4d4e-cf8a-60f2c5caa16e"
   },
   "outputs": [
    {
     "name": "stdout",
     "output_type": "stream",
     "text": [
      "(4724, 10)\n",
      "(1202, 10)\n"
     ]
    }
   ],
   "source": [
    "print(df_train.shape)\n",
    "print(df_test.shape)"
   ]
  },
  {
   "cell_type": "markdown",
   "metadata": {
    "colab_type": "text",
    "id": "hs4rAD9djEQW"
   },
   "source": [
    "Sparse Matrix with word count"
   ]
  },
  {
   "cell_type": "markdown",
   "metadata": {
    "colab_type": "text",
    "id": "kr1gCKmGjEQa"
   },
   "source": [
    "# Recurrent Neural Network"
   ]
  },
  {
   "cell_type": "code",
   "execution_count": 17,
   "metadata": {
    "colab": {
     "base_uri": "https://localhost:8080/",
     "height": 34
    },
    "colab_type": "code",
    "id": "qCin9gZFjEQb",
    "outputId": "7faca848-b1ac-4979-e24f-fc9566f30a00"
   },
   "outputs": [],
   "source": [
    "from tensorflow.keras.models import Sequential, load_model\n",
    "from tensorflow.keras.layers import LSTM, Dense, Dropout, Embedding, Conv1D, MaxPooling1D, SpatialDropout1D,GRU, Dense\n",
    "from tensorflow.keras.optimizers import RMSprop, Adam\n",
    "from tensorflow.keras.utils import to_categorical\n",
    "from tensorflow.keras.callbacks import ModelCheckpoint\n",
    "from tensorflow.keras.preprocessing.text import Tokenizer\n",
    "from tensorflow.keras.preprocessing.sequence import pad_sequences\n",
    "\n",
    "\n",
    "import tensorflow as tf"
   ]
  },
  {
   "cell_type": "code",
   "execution_count": 18,
   "metadata": {
    "colab": {},
    "colab_type": "code",
    "id": "az3bfsS_-FOr"
   },
   "outputs": [],
   "source": [
    "NUMBER_WORDS = 5000\n",
    "\n",
    "tokenizer = Tokenizer(num_words=NUMBER_WORDS)\n",
    "tokenizer.fit_on_texts(df_train['TEXT'])\n",
    "sequences_train = tokenizer.texts_to_sequences(df_train['TEXT'])\n",
    "sequences_test = tokenizer.texts_to_sequences(df_test['TEXT'])\n",
    "\n",
    "X_train = pad_sequences(sequences_train, maxlen=NUMBER_WORDS)\n",
    "X_test = pad_sequences(sequences_test, maxlen=NUMBER_WORDS)"
   ]
  },
  {
   "cell_type": "code",
   "execution_count": 19,
   "metadata": {
    "colab": {},
    "colab_type": "code",
    "id": "AZo6vNQAN5mQ"
   },
   "outputs": [],
   "source": [
    "y_train = to_categorical(df_train['READM_WITHIN_30'])\n",
    "y_test = to_categorical(df_test['READM_WITHIN_30'])"
   ]
  },
  {
   "cell_type": "code",
   "execution_count": 20,
   "metadata": {
    "colab": {},
    "colab_type": "code",
    "id": "ewiT3ZwjNNft"
   },
   "outputs": [],
   "source": [
    "adam = Adam(learning_rate=0.00001)"
   ]
  },
  {
   "cell_type": "code",
   "execution_count": 21,
   "metadata": {
    "colab": {
     "base_uri": "https://localhost:8080/",
     "height": 323
    },
    "colab_type": "code",
    "id": "EEbedM5MjEQg",
    "outputId": "c381a7b1-d434-488d-b95b-5d28384b6942"
   },
   "outputs": [
    {
     "name": "stdout",
     "output_type": "stream",
     "text": [
      "Model: \"sequential\"\n",
      "_________________________________________________________________\n",
      " Layer (type)                Output Shape              Param #   \n",
      "=================================================================\n",
      " embedding (Embedding)       (None, 5000, 64)          320000    \n",
      "                                                                 \n",
      " conv1d (Conv1D)             (None, 4996, 64)          20544     \n",
      "                                                                 \n",
      " max_pooling1d (MaxPooling1D  (None, 1249, 64)         0         \n",
      " )                                                               \n",
      "                                                                 \n",
      " lstm (LSTM)                 (None, 128)               98816     \n",
      "                                                                 \n",
      " dense (Dense)               (None, 2)                 258       \n",
      "                                                                 \n",
      "=================================================================\n",
      "Total params: 439,618\n",
      "Trainable params: 439,618\n",
      "Non-trainable params: 0\n",
      "_________________________________________________________________\n"
     ]
    }
   ],
   "source": [
    "model = Sequential()\n",
    "model.add(Embedding(X_train.shape[1], 64, input_length=X_train.shape[1]))\n",
    "model.add(Conv1D(64, 5, padding='valid', activation='relu', strides=1))\n",
    "model.add(MaxPooling1D(pool_size=4))\n",
    "model.add(LSTM(128, dropout=0.2, recurrent_dropout=0.2))\n",
    "model.add(Dense(2, activation='sigmoid'))\n",
    "model.compile(loss='categorical_crossentropy', optimizer=adam, metrics=['accuracy'])\n",
    "\n",
    "model.summary()"
   ]
  },
  {
   "cell_type": "code",
   "execution_count": 22,
   "metadata": {
    "colab": {
     "base_uri": "https://localhost:8080/",
     "height": 644
    },
    "colab_type": "code",
    "id": "xrJGUu_-dRJG",
    "outputId": "14149827-88d0-46ba-f6cc-aa2eeaa86b75"
   },
   "outputs": [
    {
     "data": {
      "image/png": "[encoded data removed]",
      "text/plain": [
       "<IPython.core.display.Image object>"
      ]
     },
     "execution_count": 22,
     "metadata": {},
     "output_type": "execute_result"
    }
   ],
   "source": [
    "from keras.utils.vis_utils import plot_model\n",
    "\n",
    "plot_model(model, show_shapes=True, show_layer_names=False)"
   ]
  },
  {
   "cell_type": "code",
   "execution_count": 23,
   "metadata": {
    "colab": {
     "base_uri": "https://localhost:8080/",
     "height": 1000
    },
    "colab_type": "code",
    "id": "4gbF3pyHjEQk",
    "outputId": "30b57ae0-ef13-4d37-d040-39092bdb5e24"
   },
   "outputs": [
    {
     "name": "stdout",
     "output_type": "stream",
     "text": [
      "Epoch 1/50\n",
      "60/60 [==============================] - 801s 13s/step - loss: 0.6930 - accuracy: 0.5142 - val_loss: 0.6938 - val_accuracy: 0.4762\n",
      "Epoch 2/50\n",
      "60/60 [==============================] - 802s 13s/step - loss: 0.6928 - accuracy: 0.5189 - val_loss: 0.6938 - val_accuracy: 0.4762\n",
      "Epoch 3/50\n",
      "60/60 [==============================] - 1063s 18s/step - loss: 0.6926 - accuracy: 0.5155 - val_loss: 0.6940 - val_accuracy: 0.4751\n",
      "Epoch 4/50\n",
      "60/60 [==============================] - 848s 14s/step - loss: 0.6926 - accuracy: 0.5105 - val_loss: 0.6942 - val_accuracy: 0.4677\n",
      "Epoch 5/50\n",
      "60/60 [==============================] - 798s 13s/step - loss: 0.6923 - accuracy: 0.5115 - val_loss: 0.6943 - val_accuracy: 0.4677\n",
      "Epoch 6/50\n",
      "60/60 [==============================] - 800s 13s/step - loss: 0.6923 - accuracy: 0.5123 - val_loss: 0.6941 - val_accuracy: 0.4751\n",
      "Epoch 7/50\n",
      "60/60 [==============================] - 811s 14s/step - loss: 0.6921 - accuracy: 0.5136 - val_loss: 0.6940 - val_accuracy: 0.4751\n",
      "Epoch 8/50\n",
      "60/60 [==============================] - 804s 13s/step - loss: 0.6918 - accuracy: 0.5112 - val_loss: 0.6940 - val_accuracy: 0.4751\n",
      "Epoch 9/50\n",
      "60/60 [==============================] - 806s 13s/step - loss: 0.6918 - accuracy: 0.5128 - val_loss: 0.6940 - val_accuracy: 0.4751\n",
      "Epoch 10/50\n",
      "60/60 [==============================] - 807s 13s/step - loss: 0.6916 - accuracy: 0.5131 - val_loss: 0.6940 - val_accuracy: 0.4751\n",
      "Epoch 11/50\n",
      "60/60 [==============================] - 796s 13s/step - loss: 0.6916 - accuracy: 0.5147 - val_loss: 0.6940 - val_accuracy: 0.4751\n",
      "Epoch 12/50\n",
      "60/60 [==============================] - 799s 13s/step - loss: 0.6912 - accuracy: 0.5144 - val_loss: 0.6938 - val_accuracy: 0.4751\n",
      "Epoch 13/50\n",
      "60/60 [==============================] - 806s 13s/step - loss: 0.6912 - accuracy: 0.5160 - val_loss: 0.6936 - val_accuracy: 0.4772\n",
      "Epoch 14/50\n",
      "60/60 [==============================] - 810s 13s/step - loss: 0.6910 - accuracy: 0.5147 - val_loss: 0.6937 - val_accuracy: 0.4751\n",
      "Epoch 15/50\n",
      "60/60 [==============================] - 805s 13s/step - loss: 0.6907 - accuracy: 0.5181 - val_loss: 0.6936 - val_accuracy: 0.4772\n",
      "Epoch 16/50\n",
      "60/60 [==============================] - 800s 13s/step - loss: 0.6906 - accuracy: 0.5157 - val_loss: 0.6936 - val_accuracy: 0.4772\n",
      "Epoch 17/50\n",
      "60/60 [==============================] - 802s 13s/step - loss: 0.6901 - accuracy: 0.5210 - val_loss: 0.6933 - val_accuracy: 0.4868\n",
      "Epoch 18/50\n",
      "60/60 [==============================] - 808s 13s/step - loss: 0.6901 - accuracy: 0.5263 - val_loss: 0.6932 - val_accuracy: 0.4899\n",
      "Epoch 19/50\n",
      "60/60 [==============================] - 801s 13s/step - loss: 0.6898 - accuracy: 0.5501 - val_loss: 0.6927 - val_accuracy: 0.4984\n",
      "Epoch 20/50\n",
      "60/60 [==============================] - 811s 14s/step - loss: 0.6894 - accuracy: 0.5374 - val_loss: 0.6928 - val_accuracy: 0.4974\n",
      "Epoch 21/50\n",
      "60/60 [==============================] - 801s 13s/step - loss: 0.6890 - accuracy: 0.5345 - val_loss: 0.6929 - val_accuracy: 0.4984\n",
      "Epoch 22/50\n",
      "60/60 [==============================] - 802s 13s/step - loss: 0.6886 - accuracy: 0.5621 - val_loss: 0.6924 - val_accuracy: 0.5048\n",
      "Epoch 23/50\n",
      "60/60 [==============================] - 806s 13s/step - loss: 0.6881 - accuracy: 0.5703 - val_loss: 0.6921 - val_accuracy: 0.5016\n",
      "Epoch 24/50\n",
      "60/60 [==============================] - 842s 14s/step - loss: 0.6880 - accuracy: 0.5480 - val_loss: 0.6923 - val_accuracy: 0.5026\n",
      "Epoch 25/50\n",
      "60/60 [==============================] - 828s 14s/step - loss: 0.6869 - accuracy: 0.5610 - val_loss: 0.6919 - val_accuracy: 0.5079\n",
      "Epoch 26/50\n",
      "60/60 [==============================] - 804s 13s/step - loss: 0.6864 - accuracy: 0.6086 - val_loss: 0.6909 - val_accuracy: 0.5228\n",
      "Epoch 27/50\n",
      "60/60 [==============================] - 805s 13s/step - loss: 0.6856 - accuracy: 0.6047 - val_loss: 0.6908 - val_accuracy: 0.5143\n",
      "Epoch 28/50\n",
      "60/60 [==============================] - 804s 13s/step - loss: 0.6844 - accuracy: 0.6004 - val_loss: 0.6902 - val_accuracy: 0.5206\n",
      "Epoch 29/50\n",
      "60/60 [==============================] - 809s 13s/step - loss: 0.6832 - accuracy: 0.6229 - val_loss: 0.6890 - val_accuracy: 0.5492\n",
      "Epoch 30/50\n",
      "60/60 [==============================] - 813s 14s/step - loss: 0.6815 - accuracy: 0.6264 - val_loss: 0.6888 - val_accuracy: 0.5365\n",
      "Epoch 31/50\n",
      "60/60 [==============================] - 1039s 17s/step - loss: 0.6793 - accuracy: 0.6189 - val_loss: 0.6874 - val_accuracy: 0.5450\n",
      "Epoch 32/50\n",
      "60/60 [==============================] - 808s 13s/step - loss: 0.6759 - accuracy: 0.6208 - val_loss: 0.6833 - val_accuracy: 0.5672\n",
      "Epoch 33/50\n",
      "60/60 [==============================] - 810s 13s/step - loss: 0.6643 - accuracy: 0.6158 - val_loss: 0.6950 - val_accuracy: 0.5746\n",
      "Epoch 34/50\n",
      "60/60 [==============================] - 811s 13s/step - loss: 0.6474 - accuracy: 0.6383 - val_loss: 0.6778 - val_accuracy: 0.5841\n",
      "Epoch 35/50\n",
      "60/60 [==============================] - 809s 13s/step - loss: 0.6409 - accuracy: 0.6388 - val_loss: 0.6947 - val_accuracy: 0.5566\n",
      "Epoch 36/50\n",
      "60/60 [==============================] - 804s 13s/step - loss: 0.6362 - accuracy: 0.6605 - val_loss: 0.6759 - val_accuracy: 0.6000\n",
      "Epoch 37/50\n",
      "60/60 [==============================] - 848s 14s/step - loss: 0.6257 - accuracy: 0.6645 - val_loss: 0.6827 - val_accuracy: 0.5937\n",
      "Epoch 38/50\n",
      "60/60 [==============================] - 884s 15s/step - loss: 0.6222 - accuracy: 0.6674 - val_loss: 0.6749 - val_accuracy: 0.5989\n",
      "Epoch 39/50\n",
      "60/60 [==============================] - 886s 15s/step - loss: 0.6134 - accuracy: 0.6750 - val_loss: 0.6665 - val_accuracy: 0.6138\n",
      "Epoch 40/50\n",
      "60/60 [==============================] - 867s 14s/step - loss: 0.6095 - accuracy: 0.6790 - val_loss: 0.6733 - val_accuracy: 0.6032\n",
      "Epoch 41/50\n",
      "60/60 [==============================] - 892s 15s/step - loss: 0.6011 - accuracy: 0.6920 - val_loss: 0.6703 - val_accuracy: 0.6032\n",
      "Epoch 42/50\n",
      "60/60 [==============================] - 873s 15s/step - loss: 0.6004 - accuracy: 0.6944 - val_loss: 0.6706 - val_accuracy: 0.6106\n",
      "Epoch 43/50\n",
      "60/60 [==============================] - 854s 14s/step - loss: 0.5946 - accuracy: 0.6933 - val_loss: 0.6687 - val_accuracy: 0.6116\n",
      "Epoch 44/50\n",
      "60/60 [==============================] - 854s 14s/step - loss: 0.5918 - accuracy: 0.7023 - val_loss: 0.6806 - val_accuracy: 0.6074\n",
      "Epoch 45/50\n",
      "60/60 [==============================] - 864s 14s/step - loss: 0.5829 - accuracy: 0.7105 - val_loss: 0.6939 - val_accuracy: 0.6095\n",
      "Epoch 46/50\n",
      "60/60 [==============================] - 866s 14s/step - loss: 0.5824 - accuracy: 0.7134 - val_loss: 0.6801 - val_accuracy: 0.6169\n",
      "Epoch 47/50\n",
      "60/60 [==============================] - 890s 15s/step - loss: 0.5775 - accuracy: 0.7126 - val_loss: 0.6898 - val_accuracy: 0.6095\n",
      "Epoch 48/50\n",
      "60/60 [==============================] - 898s 15s/step - loss: 0.5730 - accuracy: 0.7113 - val_loss: 0.6705 - val_accuracy: 0.6127\n",
      "Epoch 49/50\n",
      "60/60 [==============================] - 888s 15s/step - loss: 0.5716 - accuracy: 0.7137 - val_loss: 0.6839 - val_accuracy: 0.5989\n",
      "Epoch 50/50\n",
      "60/60 [==============================] - 883s 15s/step - loss: 0.5649 - accuracy: 0.7203 - val_loss: 0.6766 - val_accuracy: 0.6254\n"
     ]
    }
   ],
   "source": [
    "history = model.fit(X_train, y_train, epochs = 50, batch_size = 64, validation_split=0.2)"
   ]
  },
  {
   "cell_type": "code",
   "execution_count": 24,
   "metadata": {
    "colab": {
     "base_uri": "https://localhost:8080/",
     "height": 68
    },
    "colab_type": "code",
    "id": "A2sf4-u84RnY",
    "outputId": "68987a80-f1f9-4f91-ce01-b2e0b7687446"
   },
   "outputs": [
    {
     "name": "stdout",
     "output_type": "stream",
     "text": [
      "['loss', 'accuracy']\n",
      "19/19 [==============================] - 10s 522ms/step - loss: 0.6272 - accuracy: 0.6522\n"
     ]
    },
    {
     "data": {
      "text/plain": [
       "[0.6271787285804749, 0.6522462368011475]"
      ]
     },
     "execution_count": 24,
     "metadata": {},
     "output_type": "execute_result"
    }
   ],
   "source": [
    "  print(model.metrics_names)\n",
    "model.evaluate(X_test, y_test, batch_size=64)"
   ]
  },
  {
   "cell_type": "code",
   "execution_count": 25,
   "metadata": {
    "colab": {
     "base_uri": "https://localhost:8080/",
     "height": 204
    },
    "colab_type": "code",
    "id": "Hbh1kpApb622",
    "outputId": "c120c5d9-bcd4-457d-e3f3-7c7c67cad621"
   },
   "outputs": [
    {
     "name": "stdout",
     "output_type": "stream",
     "text": [
      "19/19 [==============================] - 11s 538ms/step\n",
      "              precision    recall  f1-score   support\n",
      "\n",
      "           0      0.623     0.770     0.689       601\n",
      "           1      0.699     0.534     0.606       601\n",
      "\n",
      "    accuracy                          0.652      1202\n",
      "   macro avg      0.661     0.652     0.647      1202\n",
      "weighted avg      0.661     0.652     0.647      1202\n",
      "\n",
      "0.6522462562396006\n"
     ]
    }
   ],
   "source": [
    "from sklearn.metrics import classification_report, roc_auc_score\n",
    "\n",
    "y_pred = model.predict(X_test, batch_size=64, verbose=1)\n",
    "y_pred = np.argmax(y_pred, axis=1)\n",
    "\n",
    "y_test_raw = df_test['READM_WITHIN_30']\n",
    "\n",
    "print(classification_report(y_test_raw, y_pred, digits=3))\n",
    "print(roc_auc_score(y_test_raw, y_pred))"
   ]
  },
  {
   "cell_type": "code",
   "execution_count": 26,
   "metadata": {
    "colab": {
     "base_uri": "https://localhost:8080/",
     "height": 292
    },
    "colab_type": "code",
    "id": "SGWn_I8IAS_f",
    "outputId": "6810f964-7fb9-493e-e44a-691c790cb307"
   },
   "outputs": [
    {
     "data": {
      "image/png": "[encoded data removed]",
      "text/plain": [
       "<Figure size 900x400 with 2 Axes>"
      ]
     },
     "metadata": {},
     "output_type": "display_data"
    }
   ],
   "source": [
    "sns.set('talk', 'whitegrid', 'dark', font_scale=0.7,\n",
    "        rc={\"lines.linewidth\": 1, 'grid.linestyle': '--'})\n",
    "\n",
    "fig, ax = plt.subplots(nrows=1, ncols=2, figsize=(9, 4))\n",
    "\n",
    "ax[0].plot(history.history['accuracy'])\n",
    "ax[0].plot(history.history['val_accuracy'])\n",
    "ax[0].set_title('Model accuracy')\n",
    "ax[0].set_ylabel('Accuracy')\n",
    "ax[0].set_xlabel('Epoch')\n",
    "ax[0].legend(['Train', 'Test'], loc='upper left')\n",
    "\n",
    "ax[1].plot(history.history['loss'])\n",
    "ax[1].plot(history.history['val_loss'])\n",
    "ax[1].set_title('Model loss')\n",
    "ax[1].set_ylabel('Loss')\n",
    "ax[1].set_xlabel('Epoch')\n",
    "ax[1].legend(['Train', 'Test'], loc='upper left')\n",
    "\n",
    "fig.tight_layout()\n",
    "plt.show()"
   ]
  }
 ],
 "metadata": {
  "accelerator": "GPU",
  "colab": {
   "collapsed_sections": [],
   "name": "LSTM-CNN.ipynb",
   "provenance": []
  },
  "file_extension": ".py",
  "kernelspec": {
   "display_name": "Python 3 (ipykernel)",
   "language": "python",
   "name": "python3"
  },
  "language_info": {
   "codemirror_mode": {
    "name": "ipython",
    "version": 3
   },
   "file_extension": ".py",
   "mimetype": "text/x-python",
   "name": "python",
   "nbconvert_exporter": "python",
   "pygments_lexer": "ipython3",
   "version": "3.9.13"
  },
  "mimetype": "text/x-python",
  "name": "python",
  "npconvert_exporter": "python",
  "pygments_lexer": "ipython3",
  "version": 3
 },
 "nbformat": 4,
 "nbformat_minor": 1
}
